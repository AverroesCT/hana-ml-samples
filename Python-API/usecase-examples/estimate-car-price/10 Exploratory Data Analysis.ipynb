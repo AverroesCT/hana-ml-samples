{
 "cells": [
  {
   "cell_type": "markdown",
   "metadata": {},
   "source": [
    "# Estimate car price - Exploratory Data Analysis\n",
    "#### Andreas Forster\n",
    "This notebook is part of a Machine Learning project that is described and available to download on \n",
    "<BR>https://blogs.sap.com/2019/11/05/hands-on-tutoria…hana-with-python/\n",
    "<BR><BR>The purpose of this notebook is for a Data Scientist to explore and understand the historic data, which will be used to train a regression model. Based on the finding the dataset will be slightly reduced to avoid outliers (old and / or expensive cars) unduly affecting the model."
   ]
  },
  {
   "cell_type": "markdown",
   "metadata": {},
   "source": [
    "### Steps in this notebook\n",
    "-  Connect to SAP HANA\n",
    "-  Create a SAP HANA DataFrame which points to the data\n",
    "-  Take a more detailed look at the data\n",
    "-  Remove old and expensive cars, save the reduced data as view in SAP HANA\n",
    "\n",
    "### Documentation\n",
    "-  SAP HANA Python Client API for Machine Learning Algorithms:   \n",
    "   https://help.sap.com/doc/0172e3957b5946da85d3fde85ee8f33d/latest/en-US/html/hana_ml.html\n",
    "-  SAP HANA Predictive Analysis Library (PAL):  \n",
    "   https://help.sap.com/viewer/2cfbc5cf2bc14f028cfbe2a2bba60a50/latest/en-US/f652a8186a144e929a1ade7a3cb7abe8.html\n",
    "-  Dataset: https://www.kaggle.com/bozungu/ebay-used-car-sales-data"
   ]
  },
  {
   "cell_type": "markdown",
   "metadata": {},
   "source": [
    "### Create a SAP HANA DataFrame, which points to the training data\n",
    "Instantiate a connecton object to SAP HANA.\n",
    "-  For simplicity, to help you get started, these values are hardcoded here. \n",
    "-  We recommend keeping these credentials in the Secure User Store of the SAP HANA Client. Retrieving the credentials from the Secure User Store prevents having to specify these credentials in clear text. See the blog on the SAP Commmunity to which these notebooks belong, for steps on how to use that Secure User Store."
   ]
  },
  {
   "cell_type": "code",
   "execution_count": 1,
   "metadata": {},
   "outputs": [],
   "source": [
    "import hana_ml.dataframe as dataframe\n",
    "conn = dataframe.ConnectionContext(key = 'hana_hxe')"
   ]
  },
  {
   "cell_type": "markdown",
   "metadata": {},
   "source": [
    "Create the SAP HANA DataFrame, which points to the table with historic sales. No data is extracted."
   ]
  },
  {
   "cell_type": "code",
   "execution_count": 2,
   "metadata": {
    "collapsed": true
   },
   "outputs": [],
   "source": [
    "df_pushdown = conn.table(table = 'USEDCARPRICES', schema = 'ML')"
   ]
  },
  {
   "cell_type": "markdown",
   "metadata": {},
   "source": [
    "### Peek at the data and retrieve a small number of rows"
   ]
  },
  {
   "cell_type": "code",
   "execution_count": 3,
   "metadata": {},
   "outputs": [
    {
     "data": {
      "text/html": [
       "<div>\n",
       "<style scoped>\n",
       "    .dataframe tbody tr th:only-of-type {\n",
       "        vertical-align: middle;\n",
       "    }\n",
       "\n",
       "    .dataframe tbody tr th {\n",
       "        vertical-align: top;\n",
       "    }\n",
       "\n",
       "    .dataframe thead th {\n",
       "        text-align: right;\n",
       "    }\n",
       "</style>\n",
       "<table border=\"1\" class=\"dataframe\">\n",
       "  <thead>\n",
       "    <tr style=\"text-align: right;\">\n",
       "      <th></th>\n",
       "      <th>CAR_ID</th>\n",
       "      <th>VEHICLETYPE</th>\n",
       "      <th>YEAR</th>\n",
       "      <th>GEARBOX</th>\n",
       "      <th>HP</th>\n",
       "      <th>MODEL</th>\n",
       "      <th>KILOMETER</th>\n",
       "      <th>FUELTYPE</th>\n",
       "      <th>PRICE</th>\n",
       "    </tr>\n",
       "  </thead>\n",
       "  <tbody>\n",
       "    <tr>\n",
       "      <th>0</th>\n",
       "      <td>16</td>\n",
       "      <td>limousine</td>\n",
       "      <td>2000</td>\n",
       "      <td>manual</td>\n",
       "      <td>160</td>\n",
       "      <td>C-Class</td>\n",
       "      <td>150000</td>\n",
       "      <td>petrol</td>\n",
       "      <td>2300</td>\n",
       "    </tr>\n",
       "    <tr>\n",
       "      <th>1</th>\n",
       "      <td>69</td>\n",
       "      <td>limousine</td>\n",
       "      <td>1995</td>\n",
       "      <td>manual</td>\n",
       "      <td>122</td>\n",
       "      <td>C-Class</td>\n",
       "      <td>150000</td>\n",
       "      <td>petrol</td>\n",
       "      <td>600</td>\n",
       "    </tr>\n",
       "    <tr>\n",
       "      <th>2</th>\n",
       "      <td>82</td>\n",
       "      <td>limousine</td>\n",
       "      <td>1996</td>\n",
       "      <td>None</td>\n",
       "      <td>150</td>\n",
       "      <td>C-Class</td>\n",
       "      <td>150000</td>\n",
       "      <td>petrol</td>\n",
       "      <td>800</td>\n",
       "    </tr>\n",
       "    <tr>\n",
       "      <th>3</th>\n",
       "      <td>97</td>\n",
       "      <td>limousine</td>\n",
       "      <td>2002</td>\n",
       "      <td>manual</td>\n",
       "      <td>180</td>\n",
       "      <td>C-Class</td>\n",
       "      <td>150000</td>\n",
       "      <td>petrol</td>\n",
       "      <td>2850</td>\n",
       "    </tr>\n",
       "    <tr>\n",
       "      <th>4</th>\n",
       "      <td>111</td>\n",
       "      <td>limousine</td>\n",
       "      <td>2001</td>\n",
       "      <td>automatic</td>\n",
       "      <td>129</td>\n",
       "      <td>C-Class</td>\n",
       "      <td>150000</td>\n",
       "      <td>petrol</td>\n",
       "      <td>2400</td>\n",
       "    </tr>\n",
       "  </tbody>\n",
       "</table>\n",
       "</div>"
      ],
      "text/plain": [
       "   CAR_ID VEHICLETYPE  YEAR    GEARBOX   HP    MODEL  KILOMETER FUELTYPE  \\\n",
       "0      16   limousine  2000     manual  160  C-Class     150000   petrol   \n",
       "1      69   limousine  1995     manual  122  C-Class     150000   petrol   \n",
       "2      82   limousine  1996       None  150  C-Class     150000   petrol   \n",
       "3      97   limousine  2002     manual  180  C-Class     150000   petrol   \n",
       "4     111   limousine  2001  automatic  129  C-Class     150000   petrol   \n",
       "\n",
       "   PRICE  \n",
       "0   2300  \n",
       "1    600  \n",
       "2    800  \n",
       "3   2850  \n",
       "4   2400  "
      ]
     },
     "execution_count": 3,
     "metadata": {},
     "output_type": "execute_result"
    }
   ],
   "source": [
    "df_pushdown.head(5).collect()"
   ]
  },
  {
   "cell_type": "markdown",
   "metadata": {},
   "source": [
    "### Row count\n",
    "Retrieve the number of rows / observations in the dataset."
   ]
  },
  {
   "cell_type": "code",
   "execution_count": 4,
   "metadata": {},
   "outputs": [
    {
     "data": {
      "text/plain": [
       "26900"
      ]
     },
     "execution_count": 4,
     "metadata": {},
     "output_type": "execute_result"
    }
   ],
   "source": [
    "df_pushdown.count()"
   ]
  },
  {
   "cell_type": "markdown",
   "metadata": {},
   "source": [
    "### Column maximum\n",
    "Various functions on the SAP HANA DataFrame allow to push calculation down to SAP HANA. Have SAP HANA find the most expensive car in the dataset."
   ]
  },
  {
   "cell_type": "code",
   "execution_count": 5,
   "metadata": {},
   "outputs": [
    {
     "data": {
      "text/html": [
       "<div>\n",
       "<style scoped>\n",
       "    .dataframe tbody tr th:only-of-type {\n",
       "        vertical-align: middle;\n",
       "    }\n",
       "\n",
       "    .dataframe tbody tr th {\n",
       "        vertical-align: top;\n",
       "    }\n",
       "\n",
       "    .dataframe thead th {\n",
       "        text-align: right;\n",
       "    }\n",
       "</style>\n",
       "<table border=\"1\" class=\"dataframe\">\n",
       "  <thead>\n",
       "    <tr style=\"text-align: right;\">\n",
       "      <th></th>\n",
       "      <th>MOSTEXPENSIVE</th>\n",
       "    </tr>\n",
       "  </thead>\n",
       "  <tbody>\n",
       "    <tr>\n",
       "      <th>0</th>\n",
       "      <td>14000500</td>\n",
       "    </tr>\n",
       "  </tbody>\n",
       "</table>\n",
       "</div>"
      ],
      "text/plain": [
       "   MOSTEXPENSIVE\n",
       "0       14000500"
      ]
     },
     "execution_count": 5,
     "metadata": {},
     "output_type": "execute_result"
    }
   ],
   "source": [
    "df_pushdown.agg([('max', 'PRICE', 'MOSTEXPENSIVE')]).collect()"
   ]
  },
  {
   "cell_type": "markdown",
   "metadata": {},
   "source": [
    "### Descriptive statistics \n",
    "Display most important data column statistics. All values were calculated within SAP HANA. Notice how some columns have null values. These are rows with missing values."
   ]
  },
  {
   "cell_type": "code",
   "execution_count": 6,
   "metadata": {},
   "outputs": [
    {
     "data": {
      "text/html": [
       "<div>\n",
       "<style scoped>\n",
       "    .dataframe tbody tr th:only-of-type {\n",
       "        vertical-align: middle;\n",
       "    }\n",
       "\n",
       "    .dataframe tbody tr th {\n",
       "        vertical-align: top;\n",
       "    }\n",
       "\n",
       "    .dataframe thead th {\n",
       "        text-align: right;\n",
       "    }\n",
       "</style>\n",
       "<table border=\"1\" class=\"dataframe\">\n",
       "  <thead>\n",
       "    <tr style=\"text-align: right;\">\n",
       "      <th></th>\n",
       "      <th>column</th>\n",
       "      <th>count</th>\n",
       "      <th>unique</th>\n",
       "      <th>nulls</th>\n",
       "      <th>mean</th>\n",
       "      <th>std</th>\n",
       "      <th>min</th>\n",
       "      <th>max</th>\n",
       "      <th>median</th>\n",
       "      <th>25_percent_cont</th>\n",
       "      <th>25_percent_disc</th>\n",
       "      <th>50_percent_cont</th>\n",
       "      <th>50_percent_disc</th>\n",
       "      <th>75_percent_cont</th>\n",
       "      <th>75_percent_disc</th>\n",
       "    </tr>\n",
       "  </thead>\n",
       "  <tbody>\n",
       "    <tr>\n",
       "      <th>0</th>\n",
       "      <td>CAR_ID</td>\n",
       "      <td>26900</td>\n",
       "      <td>26900</td>\n",
       "      <td>0</td>\n",
       "      <td>13449.500000</td>\n",
       "      <td>7765.505457</td>\n",
       "      <td>0.0</td>\n",
       "      <td>26899.0</td>\n",
       "      <td>13450.0</td>\n",
       "      <td>6724.75</td>\n",
       "      <td>6724.0</td>\n",
       "      <td>13449.5</td>\n",
       "      <td>13449.0</td>\n",
       "      <td>20174.25</td>\n",
       "      <td>20174.0</td>\n",
       "    </tr>\n",
       "    <tr>\n",
       "      <th>1</th>\n",
       "      <td>YEAR</td>\n",
       "      <td>26900</td>\n",
       "      <td>74</td>\n",
       "      <td>0</td>\n",
       "      <td>2003.002342</td>\n",
       "      <td>31.352877</td>\n",
       "      <td>1000.0</td>\n",
       "      <td>6200.0</td>\n",
       "      <td>2003.0</td>\n",
       "      <td>1999.00</td>\n",
       "      <td>1999.0</td>\n",
       "      <td>2003.0</td>\n",
       "      <td>2003.0</td>\n",
       "      <td>2008.00</td>\n",
       "      <td>2008.0</td>\n",
       "    </tr>\n",
       "    <tr>\n",
       "      <th>2</th>\n",
       "      <td>HP</td>\n",
       "      <td>26900</td>\n",
       "      <td>307</td>\n",
       "      <td>0</td>\n",
       "      <td>163.146171</td>\n",
       "      <td>212.759226</td>\n",
       "      <td>0.0</td>\n",
       "      <td>20000.0</td>\n",
       "      <td>150.0</td>\n",
       "      <td>122.00</td>\n",
       "      <td>122.0</td>\n",
       "      <td>150.0</td>\n",
       "      <td>150.0</td>\n",
       "      <td>193.00</td>\n",
       "      <td>193.0</td>\n",
       "    </tr>\n",
       "    <tr>\n",
       "      <th>3</th>\n",
       "      <td>KILOMETER</td>\n",
       "      <td>26900</td>\n",
       "      <td>13</td>\n",
       "      <td>0</td>\n",
       "      <td>129136.059480</td>\n",
       "      <td>36850.310066</td>\n",
       "      <td>5000.0</td>\n",
       "      <td>150000.0</td>\n",
       "      <td>150000.0</td>\n",
       "      <td>125000.00</td>\n",
       "      <td>125000.0</td>\n",
       "      <td>150000.0</td>\n",
       "      <td>150000.0</td>\n",
       "      <td>150000.00</td>\n",
       "      <td>150000.0</td>\n",
       "    </tr>\n",
       "    <tr>\n",
       "      <th>4</th>\n",
       "      <td>PRICE</td>\n",
       "      <td>26900</td>\n",
       "      <td>1972</td>\n",
       "      <td>0</td>\n",
       "      <td>10078.361970</td>\n",
       "      <td>86154.852061</td>\n",
       "      <td>0.0</td>\n",
       "      <td>14000500.0</td>\n",
       "      <td>6000.0</td>\n",
       "      <td>2800.00</td>\n",
       "      <td>2800.0</td>\n",
       "      <td>6000.0</td>\n",
       "      <td>6000.0</td>\n",
       "      <td>12887.25</td>\n",
       "      <td>12887.0</td>\n",
       "    </tr>\n",
       "    <tr>\n",
       "      <th>5</th>\n",
       "      <td>VEHICLETYPE</td>\n",
       "      <td>25899</td>\n",
       "      <td>8</td>\n",
       "      <td>1001</td>\n",
       "      <td>NaN</td>\n",
       "      <td>NaN</td>\n",
       "      <td>NaN</td>\n",
       "      <td>NaN</td>\n",
       "      <td>NaN</td>\n",
       "      <td>NaN</td>\n",
       "      <td>NaN</td>\n",
       "      <td>NaN</td>\n",
       "      <td>NaN</td>\n",
       "      <td>NaN</td>\n",
       "      <td>NaN</td>\n",
       "    </tr>\n",
       "    <tr>\n",
       "      <th>6</th>\n",
       "      <td>GEARBOX</td>\n",
       "      <td>26396</td>\n",
       "      <td>2</td>\n",
       "      <td>504</td>\n",
       "      <td>NaN</td>\n",
       "      <td>NaN</td>\n",
       "      <td>NaN</td>\n",
       "      <td>NaN</td>\n",
       "      <td>NaN</td>\n",
       "      <td>NaN</td>\n",
       "      <td>NaN</td>\n",
       "      <td>NaN</td>\n",
       "      <td>NaN</td>\n",
       "      <td>NaN</td>\n",
       "      <td>NaN</td>\n",
       "    </tr>\n",
       "    <tr>\n",
       "      <th>7</th>\n",
       "      <td>MODEL</td>\n",
       "      <td>26381</td>\n",
       "      <td>18</td>\n",
       "      <td>519</td>\n",
       "      <td>NaN</td>\n",
       "      <td>NaN</td>\n",
       "      <td>NaN</td>\n",
       "      <td>NaN</td>\n",
       "      <td>NaN</td>\n",
       "      <td>NaN</td>\n",
       "      <td>NaN</td>\n",
       "      <td>NaN</td>\n",
       "      <td>NaN</td>\n",
       "      <td>NaN</td>\n",
       "      <td>NaN</td>\n",
       "    </tr>\n",
       "    <tr>\n",
       "      <th>8</th>\n",
       "      <td>FUELTYPE</td>\n",
       "      <td>25930</td>\n",
       "      <td>7</td>\n",
       "      <td>970</td>\n",
       "      <td>NaN</td>\n",
       "      <td>NaN</td>\n",
       "      <td>NaN</td>\n",
       "      <td>NaN</td>\n",
       "      <td>NaN</td>\n",
       "      <td>NaN</td>\n",
       "      <td>NaN</td>\n",
       "      <td>NaN</td>\n",
       "      <td>NaN</td>\n",
       "      <td>NaN</td>\n",
       "      <td>NaN</td>\n",
       "    </tr>\n",
       "  </tbody>\n",
       "</table>\n",
       "</div>"
      ],
      "text/plain": [
       "        column  count  unique  nulls           mean           std     min  \\\n",
       "0       CAR_ID  26900   26900      0   13449.500000   7765.505457     0.0   \n",
       "1         YEAR  26900      74      0    2003.002342     31.352877  1000.0   \n",
       "2           HP  26900     307      0     163.146171    212.759226     0.0   \n",
       "3    KILOMETER  26900      13      0  129136.059480  36850.310066  5000.0   \n",
       "4        PRICE  26900    1972      0   10078.361970  86154.852061     0.0   \n",
       "5  VEHICLETYPE  25899       8   1001            NaN           NaN     NaN   \n",
       "6      GEARBOX  26396       2    504            NaN           NaN     NaN   \n",
       "7        MODEL  26381      18    519            NaN           NaN     NaN   \n",
       "8     FUELTYPE  25930       7    970            NaN           NaN     NaN   \n",
       "\n",
       "          max    median  25_percent_cont  25_percent_disc  50_percent_cont  \\\n",
       "0     26899.0   13450.0          6724.75           6724.0          13449.5   \n",
       "1      6200.0    2003.0          1999.00           1999.0           2003.0   \n",
       "2     20000.0     150.0           122.00            122.0            150.0   \n",
       "3    150000.0  150000.0        125000.00         125000.0         150000.0   \n",
       "4  14000500.0    6000.0          2800.00           2800.0           6000.0   \n",
       "5         NaN       NaN              NaN              NaN              NaN   \n",
       "6         NaN       NaN              NaN              NaN              NaN   \n",
       "7         NaN       NaN              NaN              NaN              NaN   \n",
       "8         NaN       NaN              NaN              NaN              NaN   \n",
       "\n",
       "   50_percent_disc  75_percent_cont  75_percent_disc  \n",
       "0          13449.0         20174.25          20174.0  \n",
       "1           2003.0          2008.00           2008.0  \n",
       "2            150.0           193.00            193.0  \n",
       "3         150000.0        150000.00         150000.0  \n",
       "4           6000.0         12887.25          12887.0  \n",
       "5              NaN              NaN              NaN  \n",
       "6              NaN              NaN              NaN  \n",
       "7              NaN              NaN              NaN  \n",
       "8              NaN              NaN              NaN  "
      ]
     },
     "execution_count": 6,
     "metadata": {},
     "output_type": "execute_result"
    }
   ],
   "source": [
    "df_pushdown.describe().collect()"
   ]
  },
  {
   "cell_type": "markdown",
   "metadata": {},
   "source": [
    "Display the SELECT statement that was automatically created to obtain the above statistics. The syntax might be useful for transparency, verification or modification."
   ]
  },
  {
   "cell_type": "code",
   "execution_count": 7,
   "metadata": {
    "collapsed": true
   },
   "outputs": [
    {
     "data": {
      "text/plain": [
       "'SELECT * FROM (SELECT \"SimpleStats\".*, \"Percentiles\".\"25_percent_cont\", \"Percentiles\".\"25_percent_disc\", \"Percentiles\".\"50_percent_cont\", \"Percentiles\".\"50_percent_disc\", \"Percentiles\".\"75_percent_cont\", \"Percentiles\".\"75_percent_disc\" FROM (select \\'CAR_ID\\' as \"column\", COUNT(\"CAR_ID\") as \"count\", COUNT(DISTINCT \"CAR_ID\") as \"unique\", SUM(CASE WHEN \"CAR_ID\" is NULL THEN 1 ELSE 0 END) as \"nulls\", AVG(TO_DOUBLE(\"CAR_ID\")) as \"mean\", STDDEV(\"CAR_ID\") as \"std\", MIN(\"CAR_ID\") as \"min\", MAX(\"CAR_ID\") as \"max\", MEDIAN(\"CAR_ID\") as \"median\" FROM (SELECT * FROM \"ML\".\"USEDCARPRICES\") AS \"DT_0\" UNION ALL select \\'YEAR\\' as \"column\", COUNT(\"YEAR\") as \"count\", COUNT(DISTINCT \"YEAR\") as \"unique\", SUM(CASE WHEN \"YEAR\" is NULL THEN 1 ELSE 0 END) as \"nulls\", AVG(TO_DOUBLE(\"YEAR\")) as \"mean\", STDDEV(\"YEAR\") as \"std\", MIN(\"YEAR\") as \"min\", MAX(\"YEAR\") as \"max\", MEDIAN(\"YEAR\") as \"median\" FROM (SELECT * FROM \"ML\".\"USEDCARPRICES\") AS \"DT_0\" UNION ALL select \\'HP\\' as \"column\", COUNT(\"HP\") as \"count\", COUNT(DISTINCT \"HP\") as \"unique\", SUM(CASE WHEN \"HP\" is NULL THEN 1 ELSE 0 END) as \"nulls\", AVG(TO_DOUBLE(\"HP\")) as \"mean\", STDDEV(\"HP\") as \"std\", MIN(\"HP\") as \"min\", MAX(\"HP\") as \"max\", MEDIAN(\"HP\") as \"median\" FROM (SELECT * FROM \"ML\".\"USEDCARPRICES\") AS \"DT_0\" UNION ALL select \\'KILOMETER\\' as \"column\", COUNT(\"KILOMETER\") as \"count\", COUNT(DISTINCT \"KILOMETER\") as \"unique\", SUM(CASE WHEN \"KILOMETER\" is NULL THEN 1 ELSE 0 END) as \"nulls\", AVG(TO_DOUBLE(\"KILOMETER\")) as \"mean\", STDDEV(\"KILOMETER\") as \"std\", MIN(\"KILOMETER\") as \"min\", MAX(\"KILOMETER\") as \"max\", MEDIAN(\"KILOMETER\") as \"median\" FROM (SELECT * FROM \"ML\".\"USEDCARPRICES\") AS \"DT_0\" UNION ALL select \\'PRICE\\' as \"column\", COUNT(\"PRICE\") as \"count\", COUNT(DISTINCT \"PRICE\") as \"unique\", SUM(CASE WHEN \"PRICE\" is NULL THEN 1 ELSE 0 END) as \"nulls\", AVG(TO_DOUBLE(\"PRICE\")) as \"mean\", STDDEV(\"PRICE\") as \"std\", MIN(\"PRICE\") as \"min\", MAX(\"PRICE\") as \"max\", MEDIAN(\"PRICE\") as \"median\" FROM (SELECT * FROM \"ML\".\"USEDCARPRICES\") AS \"DT_0\") AS \"SimpleStats\", (SELECT \\'CAR_ID\\' as \"column\", * FROM (SELECT percentile_cont(0.25) WITHIN GROUP (ORDER BY \"CAR_ID\") AS \"25_percent_cont\", percentile_disc(0.25) WITHIN GROUP (ORDER BY \"CAR_ID\") AS \"25_percent_disc\", percentile_cont(0.50) WITHIN GROUP (ORDER BY \"CAR_ID\") AS \"50_percent_cont\", percentile_disc(0.50) WITHIN GROUP (ORDER BY \"CAR_ID\") AS \"50_percent_disc\", percentile_cont(0.75) WITHIN GROUP (ORDER BY \"CAR_ID\") AS \"75_percent_cont\", percentile_disc(0.75) WITHIN GROUP (ORDER BY \"CAR_ID\") AS \"75_percent_disc\" FROM (SELECT * FROM \"ML\".\"USEDCARPRICES\") AS \"DT_0\") UNION ALL SELECT \\'YEAR\\' as \"column\", * FROM (SELECT percentile_cont(0.25) WITHIN GROUP (ORDER BY \"YEAR\") AS \"25_percent_cont\", percentile_disc(0.25) WITHIN GROUP (ORDER BY \"YEAR\") AS \"25_percent_disc\", percentile_cont(0.50) WITHIN GROUP (ORDER BY \"YEAR\") AS \"50_percent_cont\", percentile_disc(0.50) WITHIN GROUP (ORDER BY \"YEAR\") AS \"50_percent_disc\", percentile_cont(0.75) WITHIN GROUP (ORDER BY \"YEAR\") AS \"75_percent_cont\", percentile_disc(0.75) WITHIN GROUP (ORDER BY \"YEAR\") AS \"75_percent_disc\" FROM (SELECT * FROM \"ML\".\"USEDCARPRICES\") AS \"DT_0\") UNION ALL SELECT \\'HP\\' as \"column\", * FROM (SELECT percentile_cont(0.25) WITHIN GROUP (ORDER BY \"HP\") AS \"25_percent_cont\", percentile_disc(0.25) WITHIN GROUP (ORDER BY \"HP\") AS \"25_percent_disc\", percentile_cont(0.50) WITHIN GROUP (ORDER BY \"HP\") AS \"50_percent_cont\", percentile_disc(0.50) WITHIN GROUP (ORDER BY \"HP\") AS \"50_percent_disc\", percentile_cont(0.75) WITHIN GROUP (ORDER BY \"HP\") AS \"75_percent_cont\", percentile_disc(0.75) WITHIN GROUP (ORDER BY \"HP\") AS \"75_percent_disc\" FROM (SELECT * FROM \"ML\".\"USEDCARPRICES\") AS \"DT_0\") UNION ALL SELECT \\'KILOMETER\\' as \"column\", * FROM (SELECT percentile_cont(0.25) WITHIN GROUP (ORDER BY \"KILOMETER\") AS \"25_percent_cont\", percentile_disc(0.25) WITHIN GROUP (ORDER BY \"KILOMETER\") AS \"25_percent_disc\", percentile_cont(0.50) WITHIN GROUP (ORDER BY \"KILOMETER\") AS \"50_percent_cont\", percentile_disc(0.50) WITHIN GROUP (ORDER BY \"KILOMETER\") AS \"50_percent_disc\", percentile_cont(0.75) WITHIN GROUP (ORDER BY \"KILOMETER\") AS \"75_percent_cont\", percentile_disc(0.75) WITHIN GROUP (ORDER BY \"KILOMETER\") AS \"75_percent_disc\" FROM (SELECT * FROM \"ML\".\"USEDCARPRICES\") AS \"DT_0\") UNION ALL SELECT \\'PRICE\\' as \"column\", * FROM (SELECT percentile_cont(0.25) WITHIN GROUP (ORDER BY \"PRICE\") AS \"25_percent_cont\", percentile_disc(0.25) WITHIN GROUP (ORDER BY \"PRICE\") AS \"25_percent_disc\", percentile_cont(0.50) WITHIN GROUP (ORDER BY \"PRICE\") AS \"50_percent_cont\", percentile_disc(0.50) WITHIN GROUP (ORDER BY \"PRICE\") AS \"50_percent_disc\", percentile_cont(0.75) WITHIN GROUP (ORDER BY \"PRICE\") AS \"75_percent_cont\", percentile_disc(0.75) WITHIN GROUP (ORDER BY \"PRICE\") AS \"75_percent_disc\" FROM (SELECT * FROM \"ML\".\"USEDCARPRICES\") AS \"DT_0\")) AS \"Percentiles\" WHERE \"SimpleStats\".\"column\" = \"Percentiles\".\"column\") AS \"Numerics\" UNION ALL SELECT * FROM (select \\'VEHICLETYPE\\' as \"column\", COUNT(\"VEHICLETYPE\") as \"count\", COUNT(DISTINCT \"VEHICLETYPE\") as \"unique\", SUM(CASE WHEN \"VEHICLETYPE\" IS NULL THEN 1 ELSE 0 END) as \"nulls\", CAST(NULL as DOUBLE) AS \"mean\", CAST(NULL as double) as \"std\", CAST(NULL AS DOUBLE) AS \"min\", CAST(NULL AS DOUBLE) AS \"max\", CAST(NULL as DOUBLE) AS \"median\", CAST(NULL AS DOUBLE) AS \"25_percent_cont\", CAST(NULL AS DOUBLE) AS \"25_percent_disc\", CAST(NULL AS DOUBLE) AS \"50_percent_cont\", CAST(NULL AS DOUBLE) AS \"50_percent_disc\", CAST(NULL AS DOUBLE) AS \"75_percent_cont\", CAST(NULL AS DOUBLE) AS \"75_percent_disc\" FROM (SELECT * FROM \"ML\".\"USEDCARPRICES\") AS \"DT_0\" UNION ALL select \\'GEARBOX\\' as \"column\", COUNT(\"GEARBOX\") as \"count\", COUNT(DISTINCT \"GEARBOX\") as \"unique\", SUM(CASE WHEN \"GEARBOX\" IS NULL THEN 1 ELSE 0 END) as \"nulls\", CAST(NULL as DOUBLE) AS \"mean\", CAST(NULL as double) as \"std\", CAST(NULL AS DOUBLE) AS \"min\", CAST(NULL AS DOUBLE) AS \"max\", CAST(NULL as DOUBLE) AS \"median\", CAST(NULL AS DOUBLE) AS \"25_percent_cont\", CAST(NULL AS DOUBLE) AS \"25_percent_disc\", CAST(NULL AS DOUBLE) AS \"50_percent_cont\", CAST(NULL AS DOUBLE) AS \"50_percent_disc\", CAST(NULL AS DOUBLE) AS \"75_percent_cont\", CAST(NULL AS DOUBLE) AS \"75_percent_disc\" FROM (SELECT * FROM \"ML\".\"USEDCARPRICES\") AS \"DT_0\" UNION ALL select \\'MODEL\\' as \"column\", COUNT(\"MODEL\") as \"count\", COUNT(DISTINCT \"MODEL\") as \"unique\", SUM(CASE WHEN \"MODEL\" IS NULL THEN 1 ELSE 0 END) as \"nulls\", CAST(NULL as DOUBLE) AS \"mean\", CAST(NULL as double) as \"std\", CAST(NULL AS DOUBLE) AS \"min\", CAST(NULL AS DOUBLE) AS \"max\", CAST(NULL as DOUBLE) AS \"median\", CAST(NULL AS DOUBLE) AS \"25_percent_cont\", CAST(NULL AS DOUBLE) AS \"25_percent_disc\", CAST(NULL AS DOUBLE) AS \"50_percent_cont\", CAST(NULL AS DOUBLE) AS \"50_percent_disc\", CAST(NULL AS DOUBLE) AS \"75_percent_cont\", CAST(NULL AS DOUBLE) AS \"75_percent_disc\" FROM (SELECT * FROM \"ML\".\"USEDCARPRICES\") AS \"DT_0\" UNION ALL select \\'FUELTYPE\\' as \"column\", COUNT(\"FUELTYPE\") as \"count\", COUNT(DISTINCT \"FUELTYPE\") as \"unique\", SUM(CASE WHEN \"FUELTYPE\" IS NULL THEN 1 ELSE 0 END) as \"nulls\", CAST(NULL as DOUBLE) AS \"mean\", CAST(NULL as double) as \"std\", CAST(NULL AS DOUBLE) AS \"min\", CAST(NULL AS DOUBLE) AS \"max\", CAST(NULL as DOUBLE) AS \"median\", CAST(NULL AS DOUBLE) AS \"25_percent_cont\", CAST(NULL AS DOUBLE) AS \"25_percent_disc\", CAST(NULL AS DOUBLE) AS \"50_percent_cont\", CAST(NULL AS DOUBLE) AS \"50_percent_disc\", CAST(NULL AS DOUBLE) AS \"75_percent_cont\", CAST(NULL AS DOUBLE) AS \"75_percent_disc\" FROM (SELECT * FROM \"ML\".\"USEDCARPRICES\") AS \"DT_0\") AS \"NonNumerics\"'"
      ]
     },
     "execution_count": 7,
     "metadata": {},
     "output_type": "execute_result"
    }
   ],
   "source": [
    "df_pushdown.describe().select_statement"
   ]
  },
  {
   "cell_type": "markdown",
   "metadata": {},
   "source": [
    "### Category frequency by Model\n",
    "In the previous notebook the hana_ml wrapper was used to plot the number of cars by model. To have more control over the plot one can also delegate the aggregation / count to SAP HANA, retrieve the result as pandas data frame and create a plot from scratch.\n",
    "<BR><BR>Plot only the top N models."
   ]
  },
  {
   "cell_type": "code",
   "execution_count": 8,
   "metadata": {},
   "outputs": [
    {
     "data": {
      "text/html": [
       "<div>\n",
       "<style scoped>\n",
       "    .dataframe tbody tr th:only-of-type {\n",
       "        vertical-align: middle;\n",
       "    }\n",
       "\n",
       "    .dataframe tbody tr th {\n",
       "        vertical-align: top;\n",
       "    }\n",
       "\n",
       "    .dataframe thead th {\n",
       "        text-align: right;\n",
       "    }\n",
       "</style>\n",
       "<table border=\"1\" class=\"dataframe\">\n",
       "  <thead>\n",
       "    <tr style=\"text-align: right;\">\n",
       "      <th></th>\n",
       "      <th>MODEL</th>\n",
       "      <th>COUNT</th>\n",
       "    </tr>\n",
       "  </thead>\n",
       "  <tbody>\n",
       "    <tr>\n",
       "      <th>0</th>\n",
       "      <td>C-Class</td>\n",
       "      <td>6845</td>\n",
       "    </tr>\n",
       "    <tr>\n",
       "      <th>1</th>\n",
       "      <td>E-Class</td>\n",
       "      <td>5615</td>\n",
       "    </tr>\n",
       "    <tr>\n",
       "      <th>2</th>\n",
       "      <td>A-Class</td>\n",
       "      <td>3153</td>\n",
       "    </tr>\n",
       "    <tr>\n",
       "      <th>3</th>\n",
       "      <td>Other</td>\n",
       "      <td>2710</td>\n",
       "    </tr>\n",
       "    <tr>\n",
       "      <th>4</th>\n",
       "      <td>CLK</td>\n",
       "      <td>1447</td>\n",
       "    </tr>\n",
       "  </tbody>\n",
       "</table>\n",
       "</div>"
      ],
      "text/plain": [
       "     MODEL  COUNT\n",
       "0  C-Class   6845\n",
       "1  E-Class   5615\n",
       "2  A-Class   3153\n",
       "3    Other   2710\n",
       "4      CLK   1447"
      ]
     },
     "execution_count": 8,
     "metadata": {},
     "output_type": "execute_result"
    }
   ],
   "source": [
    "top_n = 5\n",
    "df_pushdown_col_frequency = df_pushdown.agg([('count', 'MODEL', 'COUNT')],  group_by = 'MODEL')\n",
    "df_col_frequency = df_pushdown_col_frequency.sort('COUNT', desc = True).head(top_n).collect()\n",
    "df_col_frequency"
   ]
  },
  {
   "cell_type": "code",
   "execution_count": 9,
   "metadata": {},
   "outputs": [
    {
     "data": {
      "image/png": "[encoded data removed]",
      "text/plain": [
       "<Figure size 432x288 with 1 Axes>"
      ]
     },
     "metadata": {
      "needs_background": "light"
     },
     "output_type": "display_data"
    }
   ],
   "source": [
    "%matplotlib inline\n",
    "df_col_frequency.plot.bar(x = 'MODEL',\n",
    "                          y = 'COUNT',\n",
    "                          title = 'Top ' + str(top_n));"
   ]
  },
  {
   "cell_type": "markdown",
   "metadata": {},
   "source": [
    "### Inspect price against year on sample data\n",
    "Retrieve 1% of the full data set as sample"
   ]
  },
  {
   "cell_type": "code",
   "execution_count": 10,
   "metadata": {},
   "outputs": [],
   "source": [
    "from hana_ml.algorithms.pal import partition\n",
    "df_pushdown_sample, df_pushdown_ignore1, df_pushdown_ignore2 = partition.train_test_val_split(\n",
    "                               conn_context = conn, \n",
    "                               data = df_pushdown, \n",
    "                               random_seed = 4242,\n",
    "                               training_percentage = 0.01, \n",
    "                               testing_percentage = 0.99, \n",
    "                               validation_percentage = 0)"
   ]
  },
  {
   "cell_type": "code",
   "execution_count": 11,
   "metadata": {},
   "outputs": [
    {
     "data": {
      "text/html": [
       "<div>\n",
       "<style scoped>\n",
       "    .dataframe tbody tr th:only-of-type {\n",
       "        vertical-align: middle;\n",
       "    }\n",
       "\n",
       "    .dataframe tbody tr th {\n",
       "        vertical-align: top;\n",
       "    }\n",
       "\n",
       "    .dataframe thead th {\n",
       "        text-align: right;\n",
       "    }\n",
       "</style>\n",
       "<table border=\"1\" class=\"dataframe\">\n",
       "  <thead>\n",
       "    <tr style=\"text-align: right;\">\n",
       "      <th></th>\n",
       "      <th>CAR_ID</th>\n",
       "      <th>VEHICLETYPE</th>\n",
       "      <th>YEAR</th>\n",
       "      <th>GEARBOX</th>\n",
       "      <th>HP</th>\n",
       "      <th>MODEL</th>\n",
       "      <th>KILOMETER</th>\n",
       "      <th>FUELTYPE</th>\n",
       "      <th>PRICE</th>\n",
       "    </tr>\n",
       "  </thead>\n",
       "  <tbody>\n",
       "    <tr>\n",
       "      <th>0</th>\n",
       "      <td>394</td>\n",
       "      <td>limousine</td>\n",
       "      <td>2000</td>\n",
       "      <td>automatic</td>\n",
       "      <td>163</td>\n",
       "      <td>C-Class</td>\n",
       "      <td>150000</td>\n",
       "      <td>petrol</td>\n",
       "      <td>2499</td>\n",
       "    </tr>\n",
       "    <tr>\n",
       "      <th>1</th>\n",
       "      <td>4890</td>\n",
       "      <td>limousine</td>\n",
       "      <td>1994</td>\n",
       "      <td>manual</td>\n",
       "      <td>122</td>\n",
       "      <td>C-Class</td>\n",
       "      <td>150000</td>\n",
       "      <td>petrol</td>\n",
       "      <td>1100</td>\n",
       "    </tr>\n",
       "    <tr>\n",
       "      <th>2</th>\n",
       "      <td>7473</td>\n",
       "      <td>limousine</td>\n",
       "      <td>2001</td>\n",
       "      <td>automatic</td>\n",
       "      <td>129</td>\n",
       "      <td>C-Class</td>\n",
       "      <td>150000</td>\n",
       "      <td>petrol</td>\n",
       "      <td>2400</td>\n",
       "    </tr>\n",
       "    <tr>\n",
       "      <th>3</th>\n",
       "      <td>8535</td>\n",
       "      <td>limousine</td>\n",
       "      <td>1996</td>\n",
       "      <td>manual</td>\n",
       "      <td>122</td>\n",
       "      <td>C-Class</td>\n",
       "      <td>150000</td>\n",
       "      <td>petrol</td>\n",
       "      <td>2450</td>\n",
       "    </tr>\n",
       "    <tr>\n",
       "      <th>4</th>\n",
       "      <td>9224</td>\n",
       "      <td>limousine</td>\n",
       "      <td>1997</td>\n",
       "      <td>manual</td>\n",
       "      <td>122</td>\n",
       "      <td>C-Class</td>\n",
       "      <td>150000</td>\n",
       "      <td>petrol</td>\n",
       "      <td>1350</td>\n",
       "    </tr>\n",
       "  </tbody>\n",
       "</table>\n",
       "</div>"
      ],
      "text/plain": [
       "   CAR_ID VEHICLETYPE  YEAR    GEARBOX   HP    MODEL  KILOMETER FUELTYPE  \\\n",
       "0     394   limousine  2000  automatic  163  C-Class     150000   petrol   \n",
       "1    4890   limousine  1994     manual  122  C-Class     150000   petrol   \n",
       "2    7473   limousine  2001  automatic  129  C-Class     150000   petrol   \n",
       "3    8535   limousine  1996     manual  122  C-Class     150000   petrol   \n",
       "4    9224   limousine  1997     manual  122  C-Class     150000   petrol   \n",
       "\n",
       "   PRICE  \n",
       "0   2499  \n",
       "1   1100  \n",
       "2   2400  \n",
       "3   2450  \n",
       "4   1350  "
      ]
     },
     "execution_count": 11,
     "metadata": {},
     "output_type": "execute_result"
    }
   ],
   "source": [
    "df_pushdown_sample.head(5).collect()"
   ]
  },
  {
   "cell_type": "markdown",
   "metadata": {},
   "source": [
    "Reduce the sample data to the two numerical columns and retrieve the data as pandas data frame."
   ]
  },
  {
   "cell_type": "code",
   "execution_count": 12,
   "metadata": {},
   "outputs": [],
   "source": [
    "col_name_1 = 'PRICE'\n",
    "col_name_2 = 'YEAR'\n",
    "df_sample = df_pushdown_sample.select(col_name_1, col_name_2).collect()"
   ]
  },
  {
   "cell_type": "markdown",
   "metadata": {},
   "source": [
    "Visualise the two sampled columns in a scatter plot. The internal code of the plot might display a FutureWarning. This warning can be ignored."
   ]
  },
  {
   "cell_type": "code",
   "execution_count": 13,
   "metadata": {},
   "outputs": [],
   "source": [
    "import warnings\n",
    "warnings.simplefilter(action='ignore', category = FutureWarning)"
   ]
  },
  {
   "cell_type": "markdown",
   "metadata": {},
   "source": [
    "Install the seaborn library that will be needed for the charting. \n",
    "<BR>Once the library is installed, the command can be de-activated by adding a # in front. This character thurs the code into a comment."
   ]
  },
  {
   "cell_type": "code",
   "execution_count": 14,
   "metadata": {},
   "outputs": [
    {
     "name": "stdout",
     "output_type": "stream",
     "text": [
      "Requirement already satisfied: seaborn in c:\\users\\i056450\\appdata\\local\\continuum\\anaconda3\\lib\\site-packages (0.9.0)\n",
      "Requirement already satisfied: pandas>=0.15.2 in c:\\users\\i056450\\appdata\\local\\continuum\\anaconda3\\lib\\site-packages (from seaborn) (0.23.4)\n",
      "Requirement already satisfied: matplotlib>=1.4.3 in c:\\users\\i056450\\appdata\\local\\continuum\\anaconda3\\lib\\site-packages (from seaborn) (3.0.2)\n",
      "Requirement already satisfied: numpy>=1.9.3 in c:\\users\\i056450\\appdata\\local\\continuum\\anaconda3\\lib\\site-packages (from seaborn) (1.15.4)\n",
      "Requirement already satisfied: scipy>=0.14.0 in c:\\users\\i056450\\appdata\\local\\continuum\\anaconda3\\lib\\site-packages (from seaborn) (1.1.0)\n",
      "Requirement already satisfied: python-dateutil>=2.5.0 in c:\\users\\i056450\\appdata\\local\\continuum\\anaconda3\\lib\\site-packages (from pandas>=0.15.2->seaborn) (2.7.5)\n",
      "Requirement already satisfied: pytz>=2011k in c:\\users\\i056450\\appdata\\local\\continuum\\anaconda3\\lib\\site-packages (from pandas>=0.15.2->seaborn) (2018.7)\n",
      "Requirement already satisfied: cycler>=0.10 in c:\\users\\i056450\\appdata\\local\\continuum\\anaconda3\\lib\\site-packages (from matplotlib>=1.4.3->seaborn) (0.10.0)\n",
      "Requirement already satisfied: kiwisolver>=1.0.1 in c:\\users\\i056450\\appdata\\local\\continuum\\anaconda3\\lib\\site-packages (from matplotlib>=1.4.3->seaborn) (1.0.1)\n",
      "Requirement already satisfied: pyparsing!=2.0.4,!=2.1.2,!=2.1.6,>=2.0.1 in c:\\users\\i056450\\appdata\\local\\continuum\\anaconda3\\lib\\site-packages (from matplotlib>=1.4.3->seaborn) (2.3.0)\n",
      "Requirement already satisfied: six>=1.5 in c:\\users\\i056450\\appdata\\local\\continuum\\anaconda3\\lib\\site-packages (from python-dateutil>=2.5.0->pandas>=0.15.2->seaborn) (1.12.0)\n",
      "Requirement already satisfied: setuptools in c:\\users\\i056450\\appdata\\local\\continuum\\anaconda3\\lib\\site-packages (from kiwisolver>=1.0.1->matplotlib>=1.4.3->seaborn) (40.6.3)\n"
     ]
    }
   ],
   "source": [
    "!pip install seaborn"
   ]
  },
  {
   "cell_type": "code",
   "execution_count": 15,
   "metadata": {},
   "outputs": [
    {
     "data": {
      "image/png": "[encoded data removed]",
      "text/plain": [
       "<Figure size 432x432 with 3 Axes>"
      ]
     },
     "metadata": {
      "needs_background": "light"
     },
     "output_type": "display_data"
    }
   ],
   "source": [
    "%matplotlib inline\n",
    "import seaborn as sns\n",
    "sns.jointplot(x=col_name_1, y=col_name_2, data=df_sample);"
   ]
  },
  {
   "cell_type": "markdown",
   "metadata": {},
   "source": [
    "### Display outliers\n",
    "List the most expensive vehicles."
   ]
  },
  {
   "cell_type": "code",
   "execution_count": 16,
   "metadata": {},
   "outputs": [
    {
     "data": {
      "text/html": [
       "<div>\n",
       "<style scoped>\n",
       "    .dataframe tbody tr th:only-of-type {\n",
       "        vertical-align: middle;\n",
       "    }\n",
       "\n",
       "    .dataframe tbody tr th {\n",
       "        vertical-align: top;\n",
       "    }\n",
       "\n",
       "    .dataframe thead th {\n",
       "        text-align: right;\n",
       "    }\n",
       "</style>\n",
       "<table border=\"1\" class=\"dataframe\">\n",
       "  <thead>\n",
       "    <tr style=\"text-align: right;\">\n",
       "      <th></th>\n",
       "      <th>CAR_ID</th>\n",
       "      <th>VEHICLETYPE</th>\n",
       "      <th>YEAR</th>\n",
       "      <th>GEARBOX</th>\n",
       "      <th>HP</th>\n",
       "      <th>MODEL</th>\n",
       "      <th>KILOMETER</th>\n",
       "      <th>FUELTYPE</th>\n",
       "      <th>PRICE</th>\n",
       "    </tr>\n",
       "  </thead>\n",
       "  <tbody>\n",
       "    <tr>\n",
       "      <th>0</th>\n",
       "      <td>20301</td>\n",
       "      <td>coupe</td>\n",
       "      <td>2008</td>\n",
       "      <td>automatic</td>\n",
       "      <td>231</td>\n",
       "      <td>CLK</td>\n",
       "      <td>125000</td>\n",
       "      <td>petrol</td>\n",
       "      <td>14000500</td>\n",
       "    </tr>\n",
       "    <tr>\n",
       "      <th>1</th>\n",
       "      <td>9924</td>\n",
       "      <td>cabrio</td>\n",
       "      <td>1960</td>\n",
       "      <td>manual</td>\n",
       "      <td>160</td>\n",
       "      <td>Other</td>\n",
       "      <td>5000</td>\n",
       "      <td>petrol</td>\n",
       "      <td>585000</td>\n",
       "    </tr>\n",
       "    <tr>\n",
       "      <th>2</th>\n",
       "      <td>24460</td>\n",
       "      <td>cabrio</td>\n",
       "      <td>2010</td>\n",
       "      <td>automatic</td>\n",
       "      <td>625</td>\n",
       "      <td>Other</td>\n",
       "      <td>30000</td>\n",
       "      <td>petrol</td>\n",
       "      <td>368000</td>\n",
       "    </tr>\n",
       "    <tr>\n",
       "      <th>3</th>\n",
       "      <td>24002</td>\n",
       "      <td>limousine</td>\n",
       "      <td>2009</td>\n",
       "      <td>automatic</td>\n",
       "      <td>457</td>\n",
       "      <td>C-Class</td>\n",
       "      <td>100000</td>\n",
       "      <td>petrol</td>\n",
       "      <td>350000</td>\n",
       "    </tr>\n",
       "    <tr>\n",
       "      <th>4</th>\n",
       "      <td>21030</td>\n",
       "      <td>cabrio</td>\n",
       "      <td>1934</td>\n",
       "      <td>manual</td>\n",
       "      <td>60</td>\n",
       "      <td>Other</td>\n",
       "      <td>150000</td>\n",
       "      <td>None</td>\n",
       "      <td>275000</td>\n",
       "    </tr>\n",
       "    <tr>\n",
       "      <th>5</th>\n",
       "      <td>15944</td>\n",
       "      <td>cabrio</td>\n",
       "      <td>2013</td>\n",
       "      <td>automatic</td>\n",
       "      <td>571</td>\n",
       "      <td>Other</td>\n",
       "      <td>10000</td>\n",
       "      <td>petrol</td>\n",
       "      <td>237500</td>\n",
       "    </tr>\n",
       "    <tr>\n",
       "      <th>6</th>\n",
       "      <td>8778</td>\n",
       "      <td>coupe</td>\n",
       "      <td>2010</td>\n",
       "      <td>automatic</td>\n",
       "      <td>571</td>\n",
       "      <td>Other</td>\n",
       "      <td>10000</td>\n",
       "      <td>petrol</td>\n",
       "      <td>225000</td>\n",
       "    </tr>\n",
       "    <tr>\n",
       "      <th>7</th>\n",
       "      <td>6361</td>\n",
       "      <td>coupe</td>\n",
       "      <td>2010</td>\n",
       "      <td>automatic</td>\n",
       "      <td>571</td>\n",
       "      <td>Other</td>\n",
       "      <td>50000</td>\n",
       "      <td>petrol</td>\n",
       "      <td>214800</td>\n",
       "    </tr>\n",
       "    <tr>\n",
       "      <th>8</th>\n",
       "      <td>10476</td>\n",
       "      <td>coupe</td>\n",
       "      <td>2011</td>\n",
       "      <td>automatic</td>\n",
       "      <td>571</td>\n",
       "      <td>Other</td>\n",
       "      <td>50000</td>\n",
       "      <td>petrol</td>\n",
       "      <td>205000</td>\n",
       "    </tr>\n",
       "    <tr>\n",
       "      <th>9</th>\n",
       "      <td>23090</td>\n",
       "      <td>cabrio</td>\n",
       "      <td>1952</td>\n",
       "      <td>manual</td>\n",
       "      <td>116</td>\n",
       "      <td>Other</td>\n",
       "      <td>100000</td>\n",
       "      <td>petrol</td>\n",
       "      <td>205000</td>\n",
       "    </tr>\n",
       "  </tbody>\n",
       "</table>\n",
       "</div>"
      ],
      "text/plain": [
       "   CAR_ID VEHICLETYPE  YEAR    GEARBOX   HP    MODEL  KILOMETER FUELTYPE  \\\n",
       "0   20301       coupe  2008  automatic  231      CLK     125000   petrol   \n",
       "1    9924      cabrio  1960     manual  160    Other       5000   petrol   \n",
       "2   24460      cabrio  2010  automatic  625    Other      30000   petrol   \n",
       "3   24002   limousine  2009  automatic  457  C-Class     100000   petrol   \n",
       "4   21030      cabrio  1934     manual   60    Other     150000     None   \n",
       "5   15944      cabrio  2013  automatic  571    Other      10000   petrol   \n",
       "6    8778       coupe  2010  automatic  571    Other      10000   petrol   \n",
       "7    6361       coupe  2010  automatic  571    Other      50000   petrol   \n",
       "8   10476       coupe  2011  automatic  571    Other      50000   petrol   \n",
       "9   23090      cabrio  1952     manual  116    Other     100000   petrol   \n",
       "\n",
       "      PRICE  \n",
       "0  14000500  \n",
       "1    585000  \n",
       "2    368000  \n",
       "3    350000  \n",
       "4    275000  \n",
       "5    237500  \n",
       "6    225000  \n",
       "7    214800  \n",
       "8    205000  \n",
       "9    205000  "
      ]
     },
     "execution_count": 16,
     "metadata": {},
     "output_type": "execute_result"
    }
   ],
   "source": [
    "df_pushdown.filter('PRICE > 200000').sort('PRICE', desc=True).collect()"
   ]
  },
  {
   "cell_type": "markdown",
   "metadata": {},
   "source": [
    "### Save outliers to file\n",
    "Write the above list to CSV file."
   ]
  },
  {
   "cell_type": "code",
   "execution_count": 17,
   "metadata": {
    "collapsed": true
   },
   "outputs": [],
   "source": [
    "df_outliers = df_pushdown.filter('PRICE > 200000').sort('PRICE', desc = True).collect()\n",
    "df_outliers.to_csv('most_expensive_cars.csv', sep=';' ,  index = False)"
   ]
  },
  {
   "cell_type": "markdown",
   "metadata": {},
   "source": [
    "### Focus the dataset\n",
    "Filter on cars built from the year 2000 onwards costing under 50k Euro. Separate Machine Learning models could be created later for the more unusual cars, ie the most expensive ones or the oldtimers. Show how many vehicles remain in the dataset."
   ]
  },
  {
   "cell_type": "code",
   "execution_count": 18,
   "metadata": {},
   "outputs": [
    {
     "data": {
      "text/plain": [
       "19800"
      ]
     },
     "execution_count": 18,
     "metadata": {},
     "output_type": "execute_result"
    }
   ],
   "source": [
    "df_pushdown = df_pushdown.filter('YEAR >= 2000')\n",
    "df_pushdown = df_pushdown.filter('PRICE < 50000')\n",
    "df_pushdown.count()"
   ]
  },
  {
   "cell_type": "markdown",
   "metadata": {},
   "source": [
    "### Correlations\n",
    "For the final dataset show the correlations between the numerical columns. The strongest negative correlation is between Kilometer and Price. The strongest positive correlation is between horsepower and price. This means in tendency, the more horsepower and the lower the mileage, the higher the price.\n",
    "<BR>Depending on the version of your Matplotlib package you might see a deprecation warning. This is not an error."
   ]
  },
  {
   "cell_type": "code",
   "execution_count": 19,
   "metadata": {},
   "outputs": [
    {
     "data": {
      "image/png": "[encoded data removed]",
      "text/plain": [
       "<Figure size 432x288 with 2 Axes>"
      ]
     },
     "metadata": {
      "needs_background": "light"
     },
     "output_type": "display_data"
    }
   ],
   "source": [
    "import matplotlib.pyplot as plt\n",
    "from hana_ml.visualizers.eda import EDAVisualizer\n",
    "f = plt.figure()\n",
    "ax1 = f.add_subplot(111) # 111 refers to 1x1 grid, 1st subplot\n",
    "eda = EDAVisualizer(ax1)\n",
    "ax, corr_data = eda.correlation_plot(data = df_pushdown.drop(['CAR_ID']),\n",
    "                                     cmap = 'coolwarm')"
   ]
  },
  {
   "cell_type": "markdown",
   "metadata": {},
   "source": [
    "### Change column type of the target\n",
    "Currently the type of the target column PRICE is not supported by the algorithm we want to use in the next notebook. Change the type now before changing this view of the data, so that all subsequent steps benefit from this change."
   ]
  },
  {
   "cell_type": "code",
   "execution_count": 20,
   "metadata": {},
   "outputs": [],
   "source": [
    "df_pushdown = df_pushdown.cast('PRICE', 'DOUBLE')"
   ]
  },
  {
   "cell_type": "markdown",
   "metadata": {},
   "source": [
    "### Save filtered dataset as view\n",
    "In this notebook the dataset was reduced by filtering on the price and year of the car. Persist this adjusted dataset as view, so that subsequent notebooks can access this filtered data, without having to duplicate the data in another table. "
   ]
  },
  {
   "cell_type": "code",
   "execution_count": 21,
   "metadata": {},
   "outputs": [],
   "source": [
    "df_pushdown_result = df_pushdown.save(where = ('ML', 'USEDCARPRICES_TOTRAIN'), table_type = 'VIEW', force = True)"
   ]
  },
  {
   "cell_type": "markdown",
   "metadata": {},
   "source": [
    "### Close connection"
   ]
  },
  {
   "cell_type": "code",
   "execution_count": 22,
   "metadata": {},
   "outputs": [],
   "source": [
    "conn.close()"
   ]
  },
  {
   "cell_type": "code",
   "execution_count": null,
   "metadata": {},
   "outputs": [],
   "source": []
  }
 ],
 "metadata": {
  "createdAt": "2019-05-03T16:54:54Z",
  "description": "First look at the data. Impute missing values.",
  "kernelspec": {
   "display_name": "Python 3",
   "language": "python",
   "name": "python3"
  },
  "language_info": {
   "codemirror_mode": {
    "name": "ipython",
    "version": 3
   },
   "file_extension": ".py",
   "mimetype": "text/x-python",
   "name": "python",
   "nbconvert_exporter": "python",
   "pygments_lexer": "ipython3",
   "version": "3.7.1"
  },
  "modifiedAt": "2019-05-03T16:54:54Z",
  "name": "10 First EDA and Imputation",
  "rating": 0,
  "scenarioId": "3bd5ee44-92b1-4224-95dc-4e688a637e85"
 },
 "nbformat": 4,
 "nbformat_minor": 2
}
