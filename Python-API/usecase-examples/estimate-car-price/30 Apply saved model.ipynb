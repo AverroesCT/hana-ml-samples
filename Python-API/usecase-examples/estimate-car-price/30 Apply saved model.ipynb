{
 "cells": [
  {
   "cell_type": "markdown",
   "metadata": {},
   "source": [
    "# Estimate car price - Apply saved model\n",
    "#### Andreas Forster\n",
    "This notebook is part of a Machine Learning project that is described and available to download on \n",
    "<BR>https://blogs.sap.com/2019/11/05/hands-on-tutoria…hana-with-python/\n",
    "<BR><BR>The purpose of this notebook is to apply a trained Machine Learning model to predict a car's price."
   ]
  },
  {
   "cell_type": "markdown",
   "metadata": {},
   "source": [
    "### Steps in this notebook\n",
    "-  Connect to SAP HANA\n",
    "-  Load the trained model from SAP HANA\n",
    "-  Create a SAP HANA DataFrame which points to the data that is to be used for a prediction\n",
    "-  Apply the model that has been loaded on the data and predict the prices\n",
    "\n",
    "### Documentation\n",
    "-  SAP HANA Python Client API for Machine Learning Algorithms:   \n",
    "   https://help.sap.com/doc/0172e3957b5946da85d3fde85ee8f33d/latest/en-US/html/hana_ml.html\n",
    "-  SAP HANA Predictive Analysis Library (PAL):  \n",
    "   https://help.sap.com/viewer/2cfbc5cf2bc14f028cfbe2a2bba60a50/latest/en-US/f652a8186a144e929a1ade7a3cb7abe8.html\n",
    "-  Dataset: https://www.kaggle.com/bozungu/ebay-used-car-sales-data"
   ]
  },
  {
   "cell_type": "markdown",
   "metadata": {},
   "source": [
    "### Create a SAP HANA DataFrame, which points to the training data\n",
    "Instantiate a connecton object to SAP HANA.\n",
    "-  For simplicity, to help you get started, these values are hardcoded here. \n",
    "-  We recommend keeping these credentials in the Secure User Store of the SAP HANA Client. Retrieving the credentials from the Secure User Store prevents having to specify these credentials in clear text. See the blog on the SAP Commmunity to which these notebooks belong, for steps on how to use that Secure User Store."
   ]
  },
  {
   "cell_type": "code",
   "execution_count": 1,
   "metadata": {},
   "outputs": [],
   "source": [
    "import hana_ml.dataframe as dataframe\n",
    "conn = dataframe.ConnectionContext(key = 'hana_hxe')"
   ]
  },
  {
   "cell_type": "markdown",
   "metadata": {},
   "source": [
    "### Load model\n",
    "Load the trained model from SAP HANA."
   ]
  },
  {
   "cell_type": "code",
   "execution_count": 2,
   "metadata": {},
   "outputs": [],
   "source": [
    "import hana_ml as hana_ml\n",
    "from hana_ml.algorithms.pal import trees\n",
    "df_model_saved = hana_ml.dataframe.DataFrame(connection_context = conn,\n",
    "                                             select_statement = 'select * from ML.USEDCARPRICES_MODEL_REGTREE')\n",
    "tree_reg_saved = trees.DecisionTreeRegressor(conn_context = conn, algorithm = 'cart')\n",
    "tree_reg_saved.model_ = df_model_saved.select('ROW_INDEX', 'MODEL_CONTENT')"
   ]
  },
  {
   "cell_type": "markdown",
   "metadata": {},
   "source": [
    "### Predict price of \"new\" cars\n",
    "Create a SAP HANA DataFrame, which points to the table that contains the cars for which the prices are to be predicted. No data is extracted."
   ]
  },
  {
   "cell_type": "code",
   "execution_count": 3,
   "metadata": {},
   "outputs": [],
   "source": [
    "df_pushdown_new = conn.table(table = 'USEDCARPRICES_TOPREDICT', schema = 'ML')"
   ]
  },
  {
   "cell_type": "markdown",
   "metadata": {},
   "source": [
    "Peak at the cars that are to be predicted."
   ]
  },
  {
   "cell_type": "code",
   "execution_count": 4,
   "metadata": {},
   "outputs": [
    {
     "data": {
      "text/html": [
       "<div>\n",
       "<style scoped>\n",
       "    .dataframe tbody tr th:only-of-type {\n",
       "        vertical-align: middle;\n",
       "    }\n",
       "\n",
       "    .dataframe tbody tr th {\n",
       "        vertical-align: top;\n",
       "    }\n",
       "\n",
       "    .dataframe thead th {\n",
       "        text-align: right;\n",
       "    }\n",
       "</style>\n",
       "<table border=\"1\" class=\"dataframe\">\n",
       "  <thead>\n",
       "    <tr style=\"text-align: right;\">\n",
       "      <th></th>\n",
       "      <th>CAR_ID</th>\n",
       "      <th>VEHICLETYPE</th>\n",
       "      <th>YEAR</th>\n",
       "      <th>GEARBOX</th>\n",
       "      <th>HP</th>\n",
       "      <th>MODEL</th>\n",
       "      <th>KILOMETER</th>\n",
       "      <th>FUELTYPE</th>\n",
       "    </tr>\n",
       "  </thead>\n",
       "  <tbody>\n",
       "    <tr>\n",
       "      <th>0</th>\n",
       "      <td>1</td>\n",
       "      <td>coupe</td>\n",
       "      <td>2006</td>\n",
       "      <td>manual</td>\n",
       "      <td>231</td>\n",
       "      <td>CLK</td>\n",
       "      <td>50000</td>\n",
       "      <td>petrol</td>\n",
       "    </tr>\n",
       "    <tr>\n",
       "      <th>1</th>\n",
       "      <td>2</td>\n",
       "      <td>coupe</td>\n",
       "      <td>2006</td>\n",
       "      <td>manual</td>\n",
       "      <td>231</td>\n",
       "      <td>CLK</td>\n",
       "      <td>150000</td>\n",
       "      <td>petrol</td>\n",
       "    </tr>\n",
       "  </tbody>\n",
       "</table>\n",
       "</div>"
      ],
      "text/plain": [
       "   CAR_ID VEHICLETYPE  YEAR GEARBOX   HP MODEL  KILOMETER FUELTYPE\n",
       "0       1       coupe  2006  manual  231   CLK      50000   petrol\n",
       "1       2       coupe  2006  manual  231   CLK     150000   petrol"
      ]
     },
     "execution_count": 4,
     "metadata": {},
     "output_type": "execute_result"
    }
   ],
   "source": [
    "df_pushdown_new.head(3).collect()"
   ]
  },
  {
   "cell_type": "markdown",
   "metadata": {},
   "source": [
    "Apply the trained model on the cars to estimate the price."
   ]
  },
  {
   "cell_type": "code",
   "execution_count": 5,
   "metadata": {},
   "outputs": [
    {
     "data": {
      "text/html": [
       "<div>\n",
       "<style scoped>\n",
       "    .dataframe tbody tr th:only-of-type {\n",
       "        vertical-align: middle;\n",
       "    }\n",
       "\n",
       "    .dataframe tbody tr th {\n",
       "        vertical-align: top;\n",
       "    }\n",
       "\n",
       "    .dataframe thead th {\n",
       "        text-align: right;\n",
       "    }\n",
       "</style>\n",
       "<table border=\"1\" class=\"dataframe\">\n",
       "  <thead>\n",
       "    <tr style=\"text-align: right;\">\n",
       "      <th></th>\n",
       "      <th>CAR_ID</th>\n",
       "      <th>SCORE</th>\n",
       "    </tr>\n",
       "  </thead>\n",
       "  <tbody>\n",
       "    <tr>\n",
       "      <th>0</th>\n",
       "      <td>1</td>\n",
       "      <td>14175.3</td>\n",
       "    </tr>\n",
       "    <tr>\n",
       "      <th>1</th>\n",
       "      <td>2</td>\n",
       "      <td>13962.3</td>\n",
       "    </tr>\n",
       "  </tbody>\n",
       "</table>\n",
       "</div>"
      ],
      "text/plain": [
       "   CAR_ID    SCORE\n",
       "0       1  14175.3\n",
       "1       2  13962.3"
      ]
     },
     "execution_count": 5,
     "metadata": {},
     "output_type": "execute_result"
    }
   ],
   "source": [
    "features = ['VEHICLETYPE', 'YEAR', 'MODEL', 'HP', 'FUELTYPE', 'KILOMETER', 'GEARBOX']\n",
    "df_pushdown_predict = tree_reg_saved.predict(data = df_pushdown_new,\n",
    "                                             features = features, \n",
    "                                             key = 'CAR_ID').select('CAR_ID', 'SCORE')\n",
    "df_predict = df_pushdown_predict.collect()\n",
    "df_predict"
   ]
  },
  {
   "cell_type": "markdown",
   "metadata": {},
   "source": [
    "Compare the two prices in a bar chart."
   ]
  },
  {
   "cell_type": "code",
   "execution_count": 6,
   "metadata": {},
   "outputs": [
    {
     "data": {
      "image/png": "[encoded data removed]",
      "text/plain": [
       "<Figure size 432x288 with 1 Axes>"
      ]
     },
     "metadata": {
      "needs_background": "light"
     },
     "output_type": "display_data"
    }
   ],
   "source": [
    "%matplotlib inline\n",
    "import pandas as pd\n",
    "df_predict['SCORE'] = pd.to_numeric(df_predict['SCORE'])\n",
    "df_predict['CAR_ID'] = df_predict['CAR_ID'].astype(str)\n",
    "df_predict.plot.bar(x = 'CAR_ID', y = 'SCORE', title = 'Estimated Price');"
   ]
  },
  {
   "cell_type": "markdown",
   "metadata": {},
   "source": [
    "Remember that both cars are identical apart from their mileage. The car that has driven an additional 100.000 kilometers is worth over 4.000 Euros less. We are satisfied with the preditions and persist them in a SAP HANA table."
   ]
  },
  {
   "cell_type": "code",
   "execution_count": 7,
   "metadata": {},
   "outputs": [],
   "source": [
    "df_pushdown_result = df_pushdown_predict.save(where = ('ML', 'USEDCARPRICES_PREDICTED'), \n",
    "                                              table_type = 'COLUMN', \n",
    "                                              force = True)"
   ]
  },
  {
   "cell_type": "markdown",
   "metadata": {},
   "source": [
    "### Close connection"
   ]
  },
  {
   "cell_type": "code",
   "execution_count": 8,
   "metadata": {},
   "outputs": [],
   "source": [
    "conn.close()"
   ]
  },
  {
   "cell_type": "markdown",
   "metadata": {},
   "source": [
    "### Summary"
   ]
  },
  {
   "cell_type": "markdown",
   "metadata": {},
   "source": [
    "By going through the notebooks of this project you now have an understanding of how a Data Scientist can leverage SAP HANA directly out of Python. Without having to extract data from SAP HANA, the data can be explored and imputed. Machine Learning models can be trained, tuned and analysed. Predictions can be carried out, visualised and persisted as SAP HANA table. \n",
    "<BR><BR>Consider using SAP Data Intelligence to deploy the Python code into an ongoing productive process, which can retrain the model and provide predictions in real-time. As the calculations were pushed down to SAP HANA, the code in the Notebooks is also a documentation of the different Data Science steps. As all steps are transparent, it become easier for IT to deploy the code into an ongoing process under corporate governance."
   ]
  },
  {
   "cell_type": "code",
   "execution_count": null,
   "metadata": {},
   "outputs": [],
   "source": []
  }
 ],
 "metadata": {
  "createdAt": "2019-05-03T17:30:03Z",
  "description": "Apply the trained model on \"new\" vehicles for which the price is not yet known.",
  "kernelspec": {
   "display_name": "Python 3",
   "language": "python",
   "name": "python3"
  },
  "language_info": {
   "codemirror_mode": {
    "name": "ipython",
    "version": 3
   },
   "file_extension": ".py",
   "mimetype": "text/x-python",
   "name": "python",
   "nbconvert_exporter": "python",
   "pygments_lexer": "ipython3",
   "version": "3.7.1"
  },
  "modifiedAt": "2019-05-03T17:30:03Z",
  "name": "40 Apply saved model",
  "rating": 0,
  "scenarioId": "3bd5ee44-92b1-4224-95dc-4e688a637e85"
 },
 "nbformat": 4,
 "nbformat_minor": 2
}
