{
 "cells": [
  {
   "cell_type": "markdown",
   "metadata": {},
   "source": [
    "# Python HANA ML API"
   ]
  },
  {
   "cell_type": "markdown",
   "metadata": {},
   "source": [
    "<div class=\"alert alert-block alert-info\">\n",
    "<b>Time series forecasting of monthly ozone rate.</b> <br>\n",
    "</div>"
   ]
  },
  {
   "cell_type": "markdown",
   "metadata": {
    "slideshow": {
     "slide_type": "fragment"
    }
   },
   "source": [
    "### Create an HANA Dataframe for the actual series"
   ]
  },
  {
   "cell_type": "code",
   "execution_count": 13,
   "metadata": {},
   "outputs": [],
   "source": [
    "# Connect using the HANA secure user store\n",
    "from hana_ml import dataframe as hd\n",
    "conn = hd.ConnectionContext(userkey='MLMDA_KEY')\n",
    "# Get Series Data\n",
    "sql_cmd = 'SELECT * FROM \"APL_SAMPLES\".\"OZONE_RATE_LA\" ORDER BY \"Date\"'\n",
    "series_data = hd.DataFrame(conn, sql_cmd)"
   ]
  },
  {
   "cell_type": "markdown",
   "metadata": {},
   "source": [
    "### Put the series in a Pandas Dataframe and show individual values"
   ]
  },
  {
   "cell_type": "code",
   "execution_count": 14,
   "metadata": {},
   "outputs": [
    {
     "data": {
      "text/html": [
       "<div>\n",
       "<style scoped>\n",
       "    .dataframe tbody tr th:only-of-type {\n",
       "        vertical-align: middle;\n",
       "    }\n",
       "\n",
       "    .dataframe tbody tr th {\n",
       "        vertical-align: top;\n",
       "    }\n",
       "\n",
       "    .dataframe thead th {\n",
       "        text-align: right;\n",
       "    }\n",
       "</style>\n",
       "<table border=\"1\" class=\"dataframe\">\n",
       "  <thead>\n",
       "    <tr style=\"text-align: right;\">\n",
       "      <th></th>\n",
       "      <th>Month</th>\n",
       "      <th>1</th>\n",
       "      <th>2</th>\n",
       "      <th>3</th>\n",
       "      <th>4</th>\n",
       "      <th>5</th>\n",
       "      <th>6</th>\n",
       "      <th>7</th>\n",
       "      <th>8</th>\n",
       "      <th>9</th>\n",
       "      <th>10</th>\n",
       "      <th>11</th>\n",
       "      <th>12</th>\n",
       "    </tr>\n",
       "    <tr>\n",
       "      <th></th>\n",
       "      <th>Year</th>\n",
       "      <th></th>\n",
       "      <th></th>\n",
       "      <th></th>\n",
       "      <th></th>\n",
       "      <th></th>\n",
       "      <th></th>\n",
       "      <th></th>\n",
       "      <th></th>\n",
       "      <th></th>\n",
       "      <th></th>\n",
       "      <th></th>\n",
       "      <th></th>\n",
       "    </tr>\n",
       "  </thead>\n",
       "  <tbody>\n",
       "    <tr>\n",
       "      <td rowspan=\"17\" valign=\"top\">OzoneRateLA</td>\n",
       "      <td>1955</td>\n",
       "      <td>2.63</td>\n",
       "      <td>1.94</td>\n",
       "      <td>3.38</td>\n",
       "      <td>4.92</td>\n",
       "      <td>6.29</td>\n",
       "      <td>5.58</td>\n",
       "      <td>5.50</td>\n",
       "      <td>4.71</td>\n",
       "      <td>6.04</td>\n",
       "      <td>7.13</td>\n",
       "      <td>7.79</td>\n",
       "      <td>3.83</td>\n",
       "    </tr>\n",
       "    <tr>\n",
       "      <td>1956</td>\n",
       "      <td>3.83</td>\n",
       "      <td>4.25</td>\n",
       "      <td>5.29</td>\n",
       "      <td>3.75</td>\n",
       "      <td>4.67</td>\n",
       "      <td>5.42</td>\n",
       "      <td>6.04</td>\n",
       "      <td>5.71</td>\n",
       "      <td>8.13</td>\n",
       "      <td>4.88</td>\n",
       "      <td>5.42</td>\n",
       "      <td>5.50</td>\n",
       "    </tr>\n",
       "    <tr>\n",
       "      <td>1957</td>\n",
       "      <td>3.00</td>\n",
       "      <td>3.42</td>\n",
       "      <td>4.50</td>\n",
       "      <td>4.25</td>\n",
       "      <td>4.00</td>\n",
       "      <td>5.33</td>\n",
       "      <td>5.79</td>\n",
       "      <td>6.58</td>\n",
       "      <td>7.29</td>\n",
       "      <td>5.04</td>\n",
       "      <td>5.04</td>\n",
       "      <td>4.48</td>\n",
       "    </tr>\n",
       "    <tr>\n",
       "      <td>1958</td>\n",
       "      <td>3.33</td>\n",
       "      <td>2.88</td>\n",
       "      <td>2.50</td>\n",
       "      <td>3.83</td>\n",
       "      <td>4.17</td>\n",
       "      <td>4.42</td>\n",
       "      <td>4.25</td>\n",
       "      <td>4.08</td>\n",
       "      <td>4.88</td>\n",
       "      <td>4.54</td>\n",
       "      <td>4.25</td>\n",
       "      <td>4.21</td>\n",
       "    </tr>\n",
       "    <tr>\n",
       "      <td>1959</td>\n",
       "      <td>2.75</td>\n",
       "      <td>2.42</td>\n",
       "      <td>4.50</td>\n",
       "      <td>5.21</td>\n",
       "      <td>4.00</td>\n",
       "      <td>7.54</td>\n",
       "      <td>7.38</td>\n",
       "      <td>5.96</td>\n",
       "      <td>5.08</td>\n",
       "      <td>5.46</td>\n",
       "      <td>4.79</td>\n",
       "      <td>2.67</td>\n",
       "    </tr>\n",
       "    <tr>\n",
       "      <td>1960</td>\n",
       "      <td>1.71</td>\n",
       "      <td>1.92</td>\n",
       "      <td>3.38</td>\n",
       "      <td>3.98</td>\n",
       "      <td>4.63</td>\n",
       "      <td>4.88</td>\n",
       "      <td>5.17</td>\n",
       "      <td>4.83</td>\n",
       "      <td>5.29</td>\n",
       "      <td>3.71</td>\n",
       "      <td>2.46</td>\n",
       "      <td>2.17</td>\n",
       "    </tr>\n",
       "    <tr>\n",
       "      <td>1961</td>\n",
       "      <td>2.15</td>\n",
       "      <td>2.44</td>\n",
       "      <td>2.54</td>\n",
       "      <td>3.25</td>\n",
       "      <td>2.81</td>\n",
       "      <td>4.21</td>\n",
       "      <td>4.13</td>\n",
       "      <td>4.17</td>\n",
       "      <td>3.75</td>\n",
       "      <td>3.83</td>\n",
       "      <td>2.42</td>\n",
       "      <td>2.17</td>\n",
       "    </tr>\n",
       "    <tr>\n",
       "      <td>1962</td>\n",
       "      <td>2.33</td>\n",
       "      <td>2.00</td>\n",
       "      <td>2.13</td>\n",
       "      <td>4.46</td>\n",
       "      <td>3.17</td>\n",
       "      <td>3.25</td>\n",
       "      <td>4.08</td>\n",
       "      <td>5.42</td>\n",
       "      <td>4.50</td>\n",
       "      <td>4.88</td>\n",
       "      <td>2.83</td>\n",
       "      <td>2.75</td>\n",
       "    </tr>\n",
       "    <tr>\n",
       "      <td>1963</td>\n",
       "      <td>1.63</td>\n",
       "      <td>3.04</td>\n",
       "      <td>2.58</td>\n",
       "      <td>2.92</td>\n",
       "      <td>3.29</td>\n",
       "      <td>3.71</td>\n",
       "      <td>4.88</td>\n",
       "      <td>4.63</td>\n",
       "      <td>4.83</td>\n",
       "      <td>3.42</td>\n",
       "      <td>2.38</td>\n",
       "      <td>2.33</td>\n",
       "    </tr>\n",
       "    <tr>\n",
       "      <td>1964</td>\n",
       "      <td>1.50</td>\n",
       "      <td>2.25</td>\n",
       "      <td>2.63</td>\n",
       "      <td>2.96</td>\n",
       "      <td>3.46</td>\n",
       "      <td>4.33</td>\n",
       "      <td>5.42</td>\n",
       "      <td>4.79</td>\n",
       "      <td>4.38</td>\n",
       "      <td>4.54</td>\n",
       "      <td>2.04</td>\n",
       "      <td>1.33</td>\n",
       "    </tr>\n",
       "    <tr>\n",
       "      <td>1965</td>\n",
       "      <td>2.04</td>\n",
       "      <td>2.81</td>\n",
       "      <td>2.67</td>\n",
       "      <td>4.08</td>\n",
       "      <td>3.90</td>\n",
       "      <td>3.96</td>\n",
       "      <td>4.50</td>\n",
       "      <td>5.58</td>\n",
       "      <td>4.52</td>\n",
       "      <td>5.88</td>\n",
       "      <td>3.67</td>\n",
       "      <td>1.79</td>\n",
       "    </tr>\n",
       "    <tr>\n",
       "      <td>1966</td>\n",
       "      <td>1.71</td>\n",
       "      <td>1.92</td>\n",
       "      <td>3.58</td>\n",
       "      <td>4.40</td>\n",
       "      <td>3.79</td>\n",
       "      <td>5.52</td>\n",
       "      <td>5.50</td>\n",
       "      <td>5.00</td>\n",
       "      <td>5.48</td>\n",
       "      <td>4.81</td>\n",
       "      <td>2.42</td>\n",
       "      <td>1.46</td>\n",
       "    </tr>\n",
       "    <tr>\n",
       "      <td>1967</td>\n",
       "      <td>1.71</td>\n",
       "      <td>2.46</td>\n",
       "      <td>2.42</td>\n",
       "      <td>1.79</td>\n",
       "      <td>3.63</td>\n",
       "      <td>3.54</td>\n",
       "      <td>4.88</td>\n",
       "      <td>4.96</td>\n",
       "      <td>3.63</td>\n",
       "      <td>5.46</td>\n",
       "      <td>3.08</td>\n",
       "      <td>1.75</td>\n",
       "    </tr>\n",
       "    <tr>\n",
       "      <td>1968</td>\n",
       "      <td>2.13</td>\n",
       "      <td>2.58</td>\n",
       "      <td>2.75</td>\n",
       "      <td>3.15</td>\n",
       "      <td>3.46</td>\n",
       "      <td>3.33</td>\n",
       "      <td>4.67</td>\n",
       "      <td>4.13</td>\n",
       "      <td>4.73</td>\n",
       "      <td>3.42</td>\n",
       "      <td>3.08</td>\n",
       "      <td>1.79</td>\n",
       "    </tr>\n",
       "    <tr>\n",
       "      <td>1969</td>\n",
       "      <td>1.96</td>\n",
       "      <td>1.63</td>\n",
       "      <td>2.75</td>\n",
       "      <td>3.06</td>\n",
       "      <td>4.31</td>\n",
       "      <td>3.31</td>\n",
       "      <td>3.71</td>\n",
       "      <td>5.25</td>\n",
       "      <td>3.67</td>\n",
       "      <td>3.10</td>\n",
       "      <td>2.25</td>\n",
       "      <td>2.29</td>\n",
       "    </tr>\n",
       "    <tr>\n",
       "      <td>1970</td>\n",
       "      <td>1.25</td>\n",
       "      <td>2.25</td>\n",
       "      <td>2.67</td>\n",
       "      <td>3.23</td>\n",
       "      <td>3.58</td>\n",
       "      <td>3.04</td>\n",
       "      <td>3.75</td>\n",
       "      <td>4.54</td>\n",
       "      <td>4.46</td>\n",
       "      <td>2.83</td>\n",
       "      <td>1.63</td>\n",
       "      <td>1.17</td>\n",
       "    </tr>\n",
       "    <tr>\n",
       "      <td>1971</td>\n",
       "      <td>1.79</td>\n",
       "      <td>1.92</td>\n",
       "      <td>2.25</td>\n",
       "      <td>2.96</td>\n",
       "      <td>2.38</td>\n",
       "      <td>3.38</td>\n",
       "      <td>3.38</td>\n",
       "      <td>3.21</td>\n",
       "      <td>2.58</td>\n",
       "      <td>2.42</td>\n",
       "      <td>1.58</td>\n",
       "      <td>1.21</td>\n",
       "    </tr>\n",
       "  </tbody>\n",
       "</table>\n",
       "</div>"
      ],
      "text/plain": [
       "Month               1     2     3     4     5     6     7     8     9     10  \\\n",
       "            Year                                                               \n",
       "OzoneRateLA 1955  2.63  1.94  3.38  4.92  6.29  5.58  5.50  4.71  6.04  7.13   \n",
       "            1956  3.83  4.25  5.29  3.75  4.67  5.42  6.04  5.71  8.13  4.88   \n",
       "            1957  3.00  3.42  4.50  4.25  4.00  5.33  5.79  6.58  7.29  5.04   \n",
       "            1958  3.33  2.88  2.50  3.83  4.17  4.42  4.25  4.08  4.88  4.54   \n",
       "            1959  2.75  2.42  4.50  5.21  4.00  7.54  7.38  5.96  5.08  5.46   \n",
       "            1960  1.71  1.92  3.38  3.98  4.63  4.88  5.17  4.83  5.29  3.71   \n",
       "            1961  2.15  2.44  2.54  3.25  2.81  4.21  4.13  4.17  3.75  3.83   \n",
       "            1962  2.33  2.00  2.13  4.46  3.17  3.25  4.08  5.42  4.50  4.88   \n",
       "            1963  1.63  3.04  2.58  2.92  3.29  3.71  4.88  4.63  4.83  3.42   \n",
       "            1964  1.50  2.25  2.63  2.96  3.46  4.33  5.42  4.79  4.38  4.54   \n",
       "            1965  2.04  2.81  2.67  4.08  3.90  3.96  4.50  5.58  4.52  5.88   \n",
       "            1966  1.71  1.92  3.58  4.40  3.79  5.52  5.50  5.00  5.48  4.81   \n",
       "            1967  1.71  2.46  2.42  1.79  3.63  3.54  4.88  4.96  3.63  5.46   \n",
       "            1968  2.13  2.58  2.75  3.15  3.46  3.33  4.67  4.13  4.73  3.42   \n",
       "            1969  1.96  1.63  2.75  3.06  4.31  3.31  3.71  5.25  3.67  3.10   \n",
       "            1970  1.25  2.25  2.67  3.23  3.58  3.04  3.75  4.54  4.46  2.83   \n",
       "            1971  1.79  1.92  2.25  2.96  2.38  3.38  3.38  3.21  2.58  2.42   \n",
       "\n",
       "Month               11    12  \n",
       "            Year              \n",
       "OzoneRateLA 1955  7.79  3.83  \n",
       "            1956  5.42  5.50  \n",
       "            1957  5.04  4.48  \n",
       "            1958  4.25  4.21  \n",
       "            1959  4.79  2.67  \n",
       "            1960  2.46  2.17  \n",
       "            1961  2.42  2.17  \n",
       "            1962  2.83  2.75  \n",
       "            1963  2.38  2.33  \n",
       "            1964  2.04  1.33  \n",
       "            1965  3.67  1.79  \n",
       "            1966  2.42  1.46  \n",
       "            1967  3.08  1.75  \n",
       "            1968  3.08  1.79  \n",
       "            1969  2.25  2.29  \n",
       "            1970  1.63  1.17  \n",
       "            1971  1.58  1.21  "
      ]
     },
     "execution_count": 14,
     "metadata": {},
     "output_type": "execute_result"
    }
   ],
   "source": [
    "import pandas as pd\n",
    "import datetime as dt\n",
    "import numpy as np\n",
    "actual_df = series_data.collect()\n",
    "actual_df['Date'] = pd.to_datetime(actual_df['Date'])\n",
    "df = actual_df.copy()\n",
    "df['OzoneRateLA'] = pd.to_numeric(df['OzoneRateLA'])\n",
    "df['Year'] = df['Date'].dt.year\n",
    "df['Month'] = df['Date'].dt.month\n",
    "del df['Date']\n",
    "pd.pivot_table(df, index='Month', columns=['Year']).T"
   ]
  },
  {
   "cell_type": "markdown",
   "metadata": {},
   "source": [
    "### Forecast with APL"
   ]
  },
  {
   "cell_type": "markdown",
   "metadata": {},
   "source": [
    "#### Running the forecast"
   ]
  },
  {
   "cell_type": "code",
   "execution_count": 15,
   "metadata": {},
   "outputs": [],
   "source": [
    "# Specify the model  \n",
    "from hana_ml.algorithms.apl.time_series import AutoTimeSeries\n",
    "model = AutoTimeSeries(\n",
    "    conn_context=conn, \n",
    "    time_column_name= 'Date',\n",
    "    target= 'OzoneRateLA',\n",
    "    horizon= 12\n",
    "    )\n",
    "# Run the model \n",
    "output_data = model.fit_predict(series_data)"
   ]
  },
  {
   "cell_type": "markdown",
   "metadata": {},
   "source": [
    "##### Show Model Summary"
   ]
  },
  {
   "cell_type": "code",
   "execution_count": 16,
   "metadata": {},
   "outputs": [
    {
     "data": {
      "text/html": [
       "<style  type=\"text/css\" >\n",
       "</style><table id=\"T_b92e9100_2e45_11ea_b3eb_50eb71c448ec\" ><thead>    <tr>        <th class=\"col_heading level0 col0\" >Property</th>        <th class=\"col_heading level0 col1\" >Value</th>    </tr></thead><tbody>\n",
       "                <tr>\n",
       "                                <td id=\"T_b92e9100_2e45_11ea_b3eb_50eb71c448ecrow0_col0\" class=\"data row0 col0\" >Variable Count</td>\n",
       "                        <td id=\"T_b92e9100_2e45_11ea_b3eb_50eb71c448ecrow0_col1\" class=\"data row0 col1\" >2</td>\n",
       "            </tr>\n",
       "            <tr>\n",
       "                                <td id=\"T_b92e9100_2e45_11ea_b3eb_50eb71c448ecrow1_col0\" class=\"data row1 col0\" >Record Count</td>\n",
       "                        <td id=\"T_b92e9100_2e45_11ea_b3eb_50eb71c448ecrow1_col1\" class=\"data row1 col1\" >204</td>\n",
       "            </tr>\n",
       "            <tr>\n",
       "                                <td id=\"T_b92e9100_2e45_11ea_b3eb_50eb71c448ecrow2_col0\" class=\"data row2 col0\" >Build Date</td>\n",
       "                        <td id=\"T_b92e9100_2e45_11ea_b3eb_50eb71c448ecrow2_col1\" class=\"data row2 col1\" >2020-01-03 16:25:58</td>\n",
       "            </tr>\n",
       "            <tr>\n",
       "                                <td id=\"T_b92e9100_2e45_11ea_b3eb_50eb71c448ecrow3_col0\" class=\"data row3 col0\" >First Date</td>\n",
       "                        <td id=\"T_b92e9100_2e45_11ea_b3eb_50eb71c448ecrow3_col1\" class=\"data row3 col1\" >1955-01-28</td>\n",
       "            </tr>\n",
       "            <tr>\n",
       "                                <td id=\"T_b92e9100_2e45_11ea_b3eb_50eb71c448ecrow4_col0\" class=\"data row4 col0\" >Last Date</td>\n",
       "                        <td id=\"T_b92e9100_2e45_11ea_b3eb_50eb71c448ecrow4_col1\" class=\"data row4 col1\" >1971-12-28</td>\n",
       "            </tr>\n",
       "            <tr>\n",
       "                                <td id=\"T_b92e9100_2e45_11ea_b3eb_50eb71c448ecrow5_col0\" class=\"data row5 col0\" >Horizon</td>\n",
       "                        <td id=\"T_b92e9100_2e45_11ea_b3eb_50eb71c448ecrow5_col1\" class=\"data row5 col1\" >12</td>\n",
       "            </tr>\n",
       "    </tbody></table>"
      ],
      "text/plain": [
       "<pandas.io.formats.style.Styler at 0x252d2baa4c8>"
      ]
     },
     "execution_count": 16,
     "metadata": {},
     "output_type": "execute_result"
    }
   ],
   "source": [
    "summary_df = model.get_summary().collect()\n",
    "df = summary_df[summary_df['KEY'].isin(['ModelVariableCount','ModelRecordCount','ModelBuildDate',\n",
    "                        'ModelTimeSeriesFirstDate','ModelTimeSeriesLastDate','ModelTimeSeriesHorizon'])].copy()\n",
    "df['KEY'] = df['KEY'].str.replace('Model','').str.replace('TimeSeries','')\n",
    "df['KEY'] = df['KEY'].str.replace('Count',' Count').str.replace('Date',' Date')\n",
    "df = df[['KEY','VALUE']]\n",
    "df.columns = ['Property', 'Value']\n",
    "df.style.hide_index()"
   ]
  },
  {
   "cell_type": "markdown",
   "metadata": {},
   "source": [
    "##### Plotting the predicted values"
   ]
  },
  {
   "cell_type": "code",
   "execution_count": 17,
   "metadata": {},
   "outputs": [
    {
     "data": {
      "application/vnd.holoviews_exec.v0+json": "",
      "text/html": [
       "<div id='1626' style='display: table; margin: 0 auto;'>\n",
       "\n",
       "\n",
       "\n",
       "\n",
       "\n",
       "  <div class=\"bk-root\" id=\"0593c3aa-9b4e-4a98-a44f-91261148665b\" data-root-id=\"1626\"></div>\n",
       "</div>\n",
       "<script type=\"application/javascript\">(function(root) {\n",
       "  function embed_document(root) {\n",
       "    \n",
       "  var docs_json = {\"a79ebf4a-67ae-4522-afa5-837ceddda048\":{\"roots\":{\"references\":[{\"attributes\":{\"below\":[{\"id\":\"1635\",\"type\":\"DatetimeAxis\"},{\"id\":\"1688\",\"type\":\"Legend\"}],\"center\":[{\"id\":\"1639\",\"type\":\"Grid\"},{\"id\":\"1644\",\"type\":\"Grid\"},{\"id\":\"1688\",\"type\":\"Legend\"}],\"left\":[{\"id\":\"1640\",\"type\":\"LinearAxis\"}],\"margin\":null,\"min_border_bottom\":10,\"min_border_left\":10,\"min_border_right\":10,\"min_border_top\":10,\"plot_height\":350,\"plot_width\":900,\"renderers\":[{\"id\":\"1668\",\"type\":\"GlyphRenderer\"},{\"id\":\"1696\",\"type\":\"GlyphRenderer\"},{\"id\":\"1879\",\"type\":\"GlyphRenderer\"}],\"sizing_mode\":\"fixed\",\"title\":{\"id\":\"1627\",\"type\":\"Title\"},\"toolbar\":{\"id\":\"1650\",\"type\":\"Toolbar\"},\"x_range\":{\"id\":\"1621\",\"type\":\"Range1d\"},\"x_scale\":{\"id\":\"1631\",\"type\":\"LinearScale\"},\"y_range\":{\"id\":\"1622\",\"type\":\"Range1d\"},\"y_scale\":{\"id\":\"1633\",\"type\":\"LinearScale\"}},\"id\":\"1626\",\"subtype\":\"Figure\",\"type\":\"Plot\"},{\"attributes\":{\"data_source\":{\"id\":\"1690\",\"type\":\"ColumnDataSource\"},\"glyph\":{\"id\":\"1693\",\"type\":\"Line\"},\"hover_glyph\":null,\"muted_glyph\":{\"id\":\"1695\",\"type\":\"Line\"},\"nonselection_glyph\":{\"id\":\"1694\",\"type\":\"Line\"},\"selection_glyph\":null,\"view\":{\"id\":\"1697\",\"type\":\"CDSView\"}},\"id\":\"1696\",\"type\":\"GlyphRenderer\"},{\"attributes\":{\"months\":[0,4,8]},\"id\":\"1684\",\"type\":\"MonthsTicker\"},{\"attributes\":{},\"id\":\"1661\",\"type\":\"BasicTickFormatter\"},{\"attributes\":{\"months\":[0,6]},\"id\":\"1685\",\"type\":\"MonthsTicker\"},{\"attributes\":{\"fill_alpha\":0.2,\"fill_color\":\"orange\",\"line_alpha\":0.2,\"line_color\":\"white\",\"x\":{\"field\":\"x\"},\"y\":{\"field\":\"y\"}},\"id\":\"1876\",\"type\":\"Patch\"},{\"attributes\":{\"source\":{\"id\":\"1873\",\"type\":\"ColumnDataSource\"}},\"id\":\"1880\",\"type\":\"CDSView\"},{\"attributes\":{},\"id\":\"1738\",\"type\":\"UnionRenderers\"},{\"attributes\":{},\"id\":\"1902\",\"type\":\"UnionRenderers\"},{\"attributes\":{\"axis_label\":\"Date\",\"axis_label_text_font_size\":{\"value\":\"10pt\"},\"bounds\":\"auto\",\"formatter\":{\"id\":\"1659\",\"type\":\"DatetimeTickFormatter\"},\"major_label_orientation\":\"horizontal\",\"ticker\":{\"id\":\"1636\",\"type\":\"DatetimeTicker\"}},\"id\":\"1635\",\"type\":\"DatetimeAxis\"},{\"attributes\":{\"source\":{\"id\":\"1690\",\"type\":\"ColumnDataSource\"}},\"id\":\"1697\",\"type\":\"CDSView\"},{\"attributes\":{\"click_policy\":\"mute\",\"items\":[{\"id\":\"1689\",\"type\":\"LegendItem\"},{\"id\":\"1718\",\"type\":\"LegendItem\"}],\"location\":[0,0],\"orientation\":\"horizontal\"},\"id\":\"1688\",\"type\":\"Legend\"},{\"attributes\":{\"callback\":null,\"data\":{\"Date\":[-471052800000.0,-468374400000.0,-465955200000.0,-463276800000.0,-460684800000.0,-458006400000.0,-455414400000.0,-452736000000.0,-450057600000.0,-447465600000.0,-444787200000.0,-442195200000.0,-439516800000.0,-436838400000.0,-434332800000.0,-431654400000.0,-429062400000.0,-426384000000.0,-423792000000.0,-421113600000.0,-418435200000.0,-415843200000.0,-413164800000.0,-410572800000.0,-407894400000.0,-405216000000.0,-402796800000.0,-400118400000.0,-397526400000.0,-394848000000.0,-392256000000.0,-389577600000.0,-386899200000.0,-384307200000.0,-381628800000.0,-379036800000.0,-376358400000.0,-373680000000.0,-371260800000.0,-368582400000.0,-365990400000.0,-363312000000.0,-360720000000.0,-358041600000.0,-355363200000.0,-352771200000.0,-350092800000.0,-347500800000.0,-344822400000.0,-342144000000.0,-339724800000.0,-337046400000.0,-334454400000.0,-331776000000.0,-329184000000.0,-326505600000.0,-323827200000.0,-321235200000.0,-318556800000.0,-315964800000.0,-313286400000.0,-310608000000.0,-308102400000.0,-305424000000.0,-302832000000.0,-300153600000.0,-297561600000.0,-294883200000.0,-292204800000.0,-289612800000.0,-286934400000.0,-284342400000.0,-281664000000.0,-278985600000.0,-276566400000.0,-273888000000.0,-271296000000.0,-268617600000.0,-266025600000.0,-263347200000.0,-260668800000.0,-258076800000.0,-255398400000.0,-252806400000.0,-250128000000.0,-247449600000.0,-245030400000.0,-242352000000.0,-239760000000.0,-237081600000.0,-234489600000.0,-231811200000.0,-229132800000.0,-226540800000.0,-223862400000.0,-221270400000.0,-218592000000.0,-215913600000.0,-213494400000.0,-210816000000.0,-208224000000.0,-205545600000.0,-202953600000.0,-200275200000.0,-197596800000.0,-195004800000.0,-192326400000.0,-189734400000.0,-187056000000.0,-184377600000.0,-181872000000.0,-179193600000.0,-176601600000.0,-173923200000.0,-171331200000.0,-168652800000.0,-165974400000.0,-163382400000.0,-160704000000.0,-158112000000.0,-155433600000.0,-152755200000.0,-150336000000.0,-147657600000.0,-145065600000.0,-142387200000.0,-139795200000.0,-137116800000.0,-134438400000.0,-131846400000.0,-129168000000.0,-126576000000.0,-123897600000.0,-121219200000.0,-118800000000.0,-116121600000.0,-113529600000.0,-110851200000.0,-108259200000.0,-105580800000.0,-102902400000.0,-100310400000.0,-97632000000.0,-95040000000.0,-92361600000.0,-89683200000.0,-87264000000.0,-84585600000.0,-81993600000.0,-79315200000.0,-76723200000.0,-74044800000.0,-71366400000.0,-68774400000.0,-66096000000.0,-63504000000.0,-60825600000.0,-58147200000.0,-55641600000.0,-52963200000.0,-50371200000.0,-47692800000.0,-45100800000.0,-42422400000.0,-39744000000.0,-37152000000.0,-34473600000.0,-31881600000.0,-29203200000.0,-26524800000.0,-24105600000.0,-21427200000.0,-18835200000.0,-16156800000.0,-13564800000.0,-10886400000.0,-8208000000.0,-5616000000.0,-2937600000.0,-345600000.0,2332800000.0,5011200000.0,7430400000.0,10108800000.0,12700800000.0,15379200000.0,17971200000.0,20649600000.0,23328000000.0,25920000000.0,28598400000.0,31190400000.0,33868800000.0,36547200000.0,38966400000.0,41644800000.0,44236800000.0,46915200000.0,49507200000.0,52185600000.0,54864000000.0,57456000000.0,60134400000.0,62726400000.0,65404800000.0,68083200000.0,70588800000.0,73267200000.0,75859200000.0,78537600000.0,81129600000.0,83808000000.0,86486400000.0,89078400000.0,91756800000.0,94348800000.0],\"Date_dt_strings\":[\"1955-01-28\",\"1955-02-28\",\"1955-03-28\",\"1955-04-28\",\"1955-05-28\",\"1955-06-28\",\"1955-07-28\",\"1955-08-28\",\"1955-09-28\",\"1955-10-28\",\"1955-11-28\",\"1955-12-28\",\"1956-01-28\",\"1956-02-28\",\"1956-03-28\",\"1956-04-28\",\"1956-05-28\",\"1956-06-28\",\"1956-07-28\",\"1956-08-28\",\"1956-09-28\",\"1956-10-28\",\"1956-11-28\",\"1956-12-28\",\"1957-01-28\",\"1957-02-28\",\"1957-03-28\",\"1957-04-28\",\"1957-05-28\",\"1957-06-28\",\"1957-07-28\",\"1957-08-28\",\"1957-09-28\",\"1957-10-28\",\"1957-11-28\",\"1957-12-28\",\"1958-01-28\",\"1958-02-28\",\"1958-03-28\",\"1958-04-28\",\"1958-05-28\",\"1958-06-28\",\"1958-07-28\",\"1958-08-28\",\"1958-09-28\",\"1958-10-28\",\"1958-11-28\",\"1958-12-28\",\"1959-01-28\",\"1959-02-28\",\"1959-03-28\",\"1959-04-28\",\"1959-05-28\",\"1959-06-28\",\"1959-07-28\",\"1959-08-28\",\"1959-09-28\",\"1959-10-28\",\"1959-11-28\",\"1959-12-28\",\"1960-01-28\",\"1960-02-28\",\"1960-03-28\",\"1960-04-28\",\"1960-05-28\",\"1960-06-28\",\"1960-07-28\",\"1960-08-28\",\"1960-09-28\",\"1960-10-28\",\"1960-11-28\",\"1960-12-28\",\"1961-01-28\",\"1961-02-28\",\"1961-03-28\",\"1961-04-28\",\"1961-05-28\",\"1961-06-28\",\"1961-07-28\",\"1961-08-28\",\"1961-09-28\",\"1961-10-28\",\"1961-11-28\",\"1961-12-28\",\"1962-01-28\",\"1962-02-28\",\"1962-03-28\",\"1962-04-28\",\"1962-05-28\",\"1962-06-28\",\"1962-07-28\",\"1962-08-28\",\"1962-09-28\",\"1962-10-28\",\"1962-11-28\",\"1962-12-28\",\"1963-01-28\",\"1963-02-28\",\"1963-03-28\",\"1963-04-28\",\"1963-05-28\",\"1963-06-28\",\"1963-07-28\",\"1963-08-28\",\"1963-09-28\",\"1963-10-28\",\"1963-11-28\",\"1963-12-28\",\"1964-01-28\",\"1964-02-28\",\"1964-03-28\",\"1964-04-28\",\"1964-05-28\",\"1964-06-28\",\"1964-07-28\",\"1964-08-28\",\"1964-09-28\",\"1964-10-28\",\"1964-11-28\",\"1964-12-28\",\"1965-01-28\",\"1965-02-28\",\"1965-03-28\",\"1965-04-28\",\"1965-05-28\",\"1965-06-28\",\"1965-07-28\",\"1965-08-28\",\"1965-09-28\",\"1965-10-28\",\"1965-11-28\",\"1965-12-28\",\"1966-01-28\",\"1966-02-28\",\"1966-03-28\",\"1966-04-28\",\"1966-05-28\",\"1966-06-28\",\"1966-07-28\",\"1966-08-28\",\"1966-09-28\",\"1966-10-28\",\"1966-11-28\",\"1966-12-28\",\"1967-01-28\",\"1967-02-28\",\"1967-03-28\",\"1967-04-28\",\"1967-05-28\",\"1967-06-28\",\"1967-07-28\",\"1967-08-28\",\"1967-09-28\",\"1967-10-28\",\"1967-11-28\",\"1967-12-28\",\"1968-01-28\",\"1968-02-28\",\"1968-03-28\",\"1968-04-28\",\"1968-05-28\",\"1968-06-28\",\"1968-07-28\",\"1968-08-28\",\"1968-09-28\",\"1968-10-28\",\"1968-11-28\",\"1968-12-28\",\"1969-01-28\",\"1969-02-28\",\"1969-03-28\",\"1969-04-28\",\"1969-05-28\",\"1969-06-28\",\"1969-07-28\",\"1969-08-28\",\"1969-09-28\",\"1969-10-28\",\"1969-11-28\",\"1969-12-28\",\"1970-01-28\",\"1970-02-28\",\"1970-03-28\",\"1970-04-28\",\"1970-05-28\",\"1970-06-28\",\"1970-07-28\",\"1970-08-28\",\"1970-09-28\",\"1970-10-28\",\"1970-11-28\",\"1970-12-28\",\"1971-01-28\",\"1971-02-28\",\"1971-03-28\",\"1971-04-28\",\"1971-05-28\",\"1971-06-28\",\"1971-07-28\",\"1971-08-28\",\"1971-09-28\",\"1971-10-28\",\"1971-11-28\",\"1971-12-28\",\"1972-01-28\",\"1972-02-28\",\"1972-03-28\",\"1972-04-28\",\"1972-05-28\",\"1972-06-28\",\"1972-07-28\",\"1972-08-28\",\"1972-09-28\",\"1972-10-28\",\"1972-11-28\",\"1972-12-28\"],\"Ozone Rate\":{\"__ndarray__\":\"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\",\"dtype\":\"float64\",\"shape\":[216]},\"Ozone_Rate\":{\"__ndarray__\":\"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\",\"dtype\":\"float64\",\"shape\":[216]},\"Variable\":[\"PREDICTED\",\"PREDICTED\",\"PREDICTED\",\"PREDICTED\",\"PREDICTED\",\"PREDICTED\",\"PREDICTED\",\"PREDICTED\",\"PREDICTED\",\"PREDICTED\",\"PREDICTED\",\"PREDICTED\",\"PREDICTED\",\"PREDICTED\",\"PREDICTED\",\"PREDICTED\",\"PREDICTED\",\"PREDICTED\",\"PREDICTED\",\"PREDICTED\",\"PREDICTED\",\"PREDICTED\",\"PREDICTED\",\"PREDICTED\",\"PREDICTED\",\"PREDICTED\",\"PREDICTED\",\"PREDICTED\",\"PREDICTED\",\"PREDICTED\",\"PREDICTED\",\"PREDICTED\",\"PREDICTED\",\"PREDICTED\",\"PREDICTED\",\"PREDICTED\",\"PREDICTED\",\"PREDICTED\",\"PREDICTED\",\"PREDICTED\",\"PREDICTED\",\"PREDICTED\",\"PREDICTED\",\"PREDICTED\",\"PREDICTED\",\"PREDICTED\",\"PREDICTED\",\"PREDICTED\",\"PREDICTED\",\"PREDICTED\",\"PREDICTED\",\"PREDICTED\",\"PREDICTED\",\"PREDICTED\",\"PREDICTED\",\"PREDICTED\",\"PREDICTED\",\"PREDICTED\",\"PREDICTED\",\"PREDICTED\",\"PREDICTED\",\"PREDICTED\",\"PREDICTED\",\"PREDICTED\",\"PREDICTED\",\"PREDICTED\",\"PREDICTED\",\"PREDICTED\",\"PREDICTED\",\"PREDICTED\",\"PREDICTED\",\"PREDICTED\",\"PREDICTED\",\"PREDICTED\",\"PREDICTED\",\"PREDICTED\",\"PREDICTED\",\"PREDICTED\",\"PREDICTED\",\"PREDICTED\",\"PREDICTED\",\"PREDICTED\",\"PREDICTED\",\"PREDICTED\",\"PREDICTED\",\"PREDICTED\",\"PREDICTED\",\"PREDICTED\",\"PREDICTED\",\"PREDICTED\",\"PREDICTED\",\"PREDICTED\",\"PREDICTED\",\"PREDICTED\",\"PREDICTED\",\"PREDICTED\",\"PREDICTED\",\"PREDICTED\",\"PREDICTED\",\"PREDICTED\",\"PREDICTED\",\"PREDICTED\",\"PREDICTED\",\"PREDICTED\",\"PREDICTED\",\"PREDICTED\",\"PREDICTED\",\"PREDICTED\",\"PREDICTED\",\"PREDICTED\",\"PREDICTED\",\"PREDICTED\",\"PREDICTED\",\"PREDICTED\",\"PREDICTED\",\"PREDICTED\",\"PREDICTED\",\"PREDICTED\",\"PREDICTED\",\"PREDICTED\",\"PREDICTED\",\"PREDICTED\",\"PREDICTED\",\"PREDICTED\",\"PREDICTED\",\"PREDICTED\",\"PREDICTED\",\"PREDICTED\",\"PREDICTED\",\"PREDICTED\",\"PREDICTED\",\"PREDICTED\",\"PREDICTED\",\"PREDICTED\",\"PREDICTED\",\"PREDICTED\",\"PREDICTED\",\"PREDICTED\",\"PREDICTED\",\"PREDICTED\",\"PREDICTED\",\"PREDICTED\",\"PREDICTED\",\"PREDICTED\",\"PREDICTED\",\"PREDICTED\",\"PREDICTED\",\"PREDICTED\",\"PREDICTED\",\"PREDICTED\",\"PREDICTED\",\"PREDICTED\",\"PREDICTED\",\"PREDICTED\",\"PREDICTED\",\"PREDICTED\",\"PREDICTED\",\"PREDICTED\",\"PREDICTED\",\"PREDICTED\",\"PREDICTED\",\"PREDICTED\",\"PREDICTED\",\"PREDICTED\",\"PREDICTED\",\"PREDICTED\",\"PREDICTED\",\"PREDICTED\",\"PREDICTED\",\"PREDICTED\",\"PREDICTED\",\"PREDICTED\",\"PREDICTED\",\"PREDICTED\",\"PREDICTED\",\"PREDICTED\",\"PREDICTED\",\"PREDICTED\",\"PREDICTED\",\"PREDICTED\",\"PREDICTED\",\"PREDICTED\",\"PREDICTED\",\"PREDICTED\",\"PREDICTED\",\"PREDICTED\",\"PREDICTED\",\"PREDICTED\",\"PREDICTED\",\"PREDICTED\",\"PREDICTED\",\"PREDICTED\",\"PREDICTED\",\"PREDICTED\",\"PREDICTED\",\"PREDICTED\",\"PREDICTED\",\"PREDICTED\",\"PREDICTED\",\"PREDICTED\",\"PREDICTED\",\"PREDICTED\",\"PREDICTED\",\"PREDICTED\",\"PREDICTED\",\"PREDICTED\",\"PREDICTED\",\"PREDICTED\",\"PREDICTED\",\"PREDICTED\",\"PREDICTED\",\"PREDICTED\",\"PREDICTED\",\"PREDICTED\",\"PREDICTED\",\"PREDICTED\"]},\"selected\":{\"id\":\"1691\",\"type\":\"Selection\"},\"selection_policy\":{\"id\":\"1738\",\"type\":\"UnionRenderers\"}},\"id\":\"1690\",\"type\":\"ColumnDataSource\"},{\"attributes\":{\"days\":[1,8,15,22]},\"id\":\"1680\",\"type\":\"DaysTicker\"},{\"attributes\":{\"dimension\":1,\"grid_line_color\":null,\"ticker\":{\"id\":\"1641\",\"type\":\"BasicTicker\"}},\"id\":\"1644\",\"type\":\"Grid\"},{\"attributes\":{},\"id\":\"1663\",\"type\":\"Selection\"},{\"attributes\":{\"callback\":null,\"renderers\":[{\"id\":\"1879\",\"type\":\"GlyphRenderer\"}],\"tags\":[\"hv_created\"],\"tooltips\":[[\"Date\",\"@{Date}\"],[\"LOWER_INT_95PCT\",\"@{LOWER_INT_95PCT}\"],[\"UPPER_INT_95PCT\",\"@{UPPER_INT_95PCT}\"]]},\"id\":\"1625\",\"type\":\"HoverTool\"},{\"attributes\":{},\"id\":\"1874\",\"type\":\"Selection\"},{\"attributes\":{\"line_alpha\":0.2,\"line_color\":\"#ff7f0e\",\"line_width\":2,\"x\":{\"field\":\"Date\"},\"y\":{\"field\":\"Ozone Rate\"}},\"id\":\"1695\",\"type\":\"Line\"},{\"attributes\":{\"base\":60,\"mantissas\":[1,2,5,10,15,20,30],\"max_interval\":1800000.0,\"min_interval\":1000.0,\"num_minor_ticks\":0},\"id\":\"1676\",\"type\":\"AdaptiveTicker\"},{\"attributes\":{},\"id\":\"1645\",\"type\":\"SaveTool\"},{\"attributes\":{\"label\":{\"value\":\"ACTUAL\"},\"renderers\":[{\"id\":\"1668\",\"type\":\"GlyphRenderer\"}]},\"id\":\"1689\",\"type\":\"LegendItem\"},{\"attributes\":{},\"id\":\"1659\",\"type\":\"DatetimeTickFormatter\"},{\"attributes\":{},\"id\":\"1646\",\"type\":\"PanTool\"},{\"attributes\":{},\"id\":\"1715\",\"type\":\"UnionRenderers\"},{\"attributes\":{},\"id\":\"1641\",\"type\":\"BasicTicker\"},{\"attributes\":{\"bottom_units\":\"screen\",\"fill_alpha\":{\"value\":0.5},\"fill_color\":{\"value\":\"lightgrey\"},\"left_units\":\"screen\",\"level\":\"overlay\",\"line_alpha\":{\"value\":1.0},\"line_color\":{\"value\":\"black\"},\"line_dash\":[4,4],\"line_width\":{\"value\":2},\"render_mode\":\"css\",\"right_units\":\"screen\",\"top_units\":\"screen\"},\"id\":\"1687\",\"type\":\"BoxAnnotation\"},{\"attributes\":{\"data_source\":{\"id\":\"1873\",\"type\":\"ColumnDataSource\"},\"glyph\":{\"id\":\"1876\",\"type\":\"Patch\"},\"hover_glyph\":null,\"muted_glyph\":{\"id\":\"1878\",\"type\":\"Patch\"},\"nonselection_glyph\":{\"id\":\"1877\",\"type\":\"Patch\"},\"selection_glyph\":null,\"view\":{\"id\":\"1880\",\"type\":\"CDSView\"}},\"id\":\"1879\",\"type\":\"GlyphRenderer\"},{\"attributes\":{\"active_drag\":\"auto\",\"active_inspect\":\"auto\",\"active_multi\":null,\"active_scroll\":\"auto\",\"active_tap\":\"auto\",\"tools\":[{\"id\":\"1623\",\"type\":\"HoverTool\"},{\"id\":\"1625\",\"type\":\"HoverTool\"},{\"id\":\"1645\",\"type\":\"SaveTool\"},{\"id\":\"1646\",\"type\":\"PanTool\"},{\"id\":\"1647\",\"type\":\"WheelZoomTool\"},{\"id\":\"1648\",\"type\":\"BoxZoomTool\"},{\"id\":\"1649\",\"type\":\"ResetTool\"}]},\"id\":\"1650\",\"type\":\"Toolbar\"},{\"attributes\":{\"line_alpha\":0.1,\"line_color\":\"#1f77b4\",\"line_width\":2,\"x\":{\"field\":\"Date\"},\"y\":{\"field\":\"Ozone Rate\"}},\"id\":\"1666\",\"type\":\"Line\"},{\"attributes\":{\"callback\":null,\"data\":{\"Date\":[-471052800000.0,-468374400000.0,-465955200000.0,-463276800000.0,-460684800000.0,-458006400000.0,-455414400000.0,-452736000000.0,-450057600000.0,-447465600000.0,-444787200000.0,-442195200000.0,-439516800000.0,-436838400000.0,-434332800000.0,-431654400000.0,-429062400000.0,-426384000000.0,-423792000000.0,-421113600000.0,-418435200000.0,-415843200000.0,-413164800000.0,-410572800000.0,-407894400000.0,-405216000000.0,-402796800000.0,-400118400000.0,-397526400000.0,-394848000000.0,-392256000000.0,-389577600000.0,-386899200000.0,-384307200000.0,-381628800000.0,-379036800000.0,-376358400000.0,-373680000000.0,-371260800000.0,-368582400000.0,-365990400000.0,-363312000000.0,-360720000000.0,-358041600000.0,-355363200000.0,-352771200000.0,-350092800000.0,-347500800000.0,-344822400000.0,-342144000000.0,-339724800000.0,-337046400000.0,-334454400000.0,-331776000000.0,-329184000000.0,-326505600000.0,-323827200000.0,-321235200000.0,-318556800000.0,-315964800000.0,-313286400000.0,-310608000000.0,-308102400000.0,-305424000000.0,-302832000000.0,-300153600000.0,-297561600000.0,-294883200000.0,-292204800000.0,-289612800000.0,-286934400000.0,-284342400000.0,-281664000000.0,-278985600000.0,-276566400000.0,-273888000000.0,-271296000000.0,-268617600000.0,-266025600000.0,-263347200000.0,-260668800000.0,-258076800000.0,-255398400000.0,-252806400000.0,-250128000000.0,-247449600000.0,-245030400000.0,-242352000000.0,-239760000000.0,-237081600000.0,-234489600000.0,-231811200000.0,-229132800000.0,-226540800000.0,-223862400000.0,-221270400000.0,-218592000000.0,-215913600000.0,-213494400000.0,-210816000000.0,-208224000000.0,-205545600000.0,-202953600000.0,-200275200000.0,-197596800000.0,-195004800000.0,-192326400000.0,-189734400000.0,-187056000000.0,-184377600000.0,-181872000000.0,-179193600000.0,-176601600000.0,-173923200000.0,-171331200000.0,-168652800000.0,-165974400000.0,-163382400000.0,-160704000000.0,-158112000000.0,-155433600000.0,-152755200000.0,-150336000000.0,-147657600000.0,-145065600000.0,-142387200000.0,-139795200000.0,-137116800000.0,-134438400000.0,-131846400000.0,-129168000000.0,-126576000000.0,-123897600000.0,-121219200000.0,-118800000000.0,-116121600000.0,-113529600000.0,-110851200000.0,-108259200000.0,-105580800000.0,-102902400000.0,-100310400000.0,-97632000000.0,-95040000000.0,-92361600000.0,-89683200000.0,-87264000000.0,-84585600000.0,-81993600000.0,-79315200000.0,-76723200000.0,-74044800000.0,-71366400000.0,-68774400000.0,-66096000000.0,-63504000000.0,-60825600000.0,-58147200000.0,-55641600000.0,-52963200000.0,-50371200000.0,-47692800000.0,-45100800000.0,-42422400000.0,-39744000000.0,-37152000000.0,-34473600000.0,-31881600000.0,-29203200000.0,-26524800000.0,-24105600000.0,-21427200000.0,-18835200000.0,-16156800000.0,-13564800000.0,-10886400000.0,-8208000000.0,-5616000000.0,-2937600000.0,-345600000.0,2332800000.0,5011200000.0,7430400000.0,10108800000.0,12700800000.0,15379200000.0,17971200000.0,20649600000.0,23328000000.0,25920000000.0,28598400000.0,31190400000.0,33868800000.0,36547200000.0,38966400000.0,41644800000.0,44236800000.0,46915200000.0,49507200000.0,52185600000.0,54864000000.0,57456000000.0,60134400000.0,62726400000.0,65404800000.0,68083200000.0,70588800000.0,73267200000.0,75859200000.0,78537600000.0,81129600000.0,83808000000.0,86486400000.0,89078400000.0,91756800000.0,94348800000.0],\"Date_dt_strings\":[\"1955-01-28\",\"1955-02-28\",\"1955-03-28\",\"1955-04-28\",\"1955-05-28\",\"1955-06-28\",\"1955-07-28\",\"1955-08-28\",\"1955-09-28\",\"1955-10-28\",\"1955-11-28\",\"1955-12-28\",\"1956-01-28\",\"1956-02-28\",\"1956-03-28\",\"1956-04-28\",\"1956-05-28\",\"1956-06-28\",\"1956-07-28\",\"1956-08-28\",\"1956-09-28\",\"1956-10-28\",\"1956-11-28\",\"1956-12-28\",\"1957-01-28\",\"1957-02-28\",\"1957-03-28\",\"1957-04-28\",\"1957-05-28\",\"1957-06-28\",\"1957-07-28\",\"1957-08-28\",\"1957-09-28\",\"1957-10-28\",\"1957-11-28\",\"1957-12-28\",\"1958-01-28\",\"1958-02-28\",\"1958-03-28\",\"1958-04-28\",\"1958-05-28\",\"1958-06-28\",\"1958-07-28\",\"1958-08-28\",\"1958-09-28\",\"1958-10-28\",\"1958-11-28\",\"1958-12-28\",\"1959-01-28\",\"1959-02-28\",\"1959-03-28\",\"1959-04-28\",\"1959-05-28\",\"1959-06-28\",\"1959-07-28\",\"1959-08-28\",\"1959-09-28\",\"1959-10-28\",\"1959-11-28\",\"1959-12-28\",\"1960-01-28\",\"1960-02-28\",\"1960-03-28\",\"1960-04-28\",\"1960-05-28\",\"1960-06-28\",\"1960-07-28\",\"1960-08-28\",\"1960-09-28\",\"1960-10-28\",\"1960-11-28\",\"1960-12-28\",\"1961-01-28\",\"1961-02-28\",\"1961-03-28\",\"1961-04-28\",\"1961-05-28\",\"1961-06-28\",\"1961-07-28\",\"1961-08-28\",\"1961-09-28\",\"1961-10-28\",\"1961-11-28\",\"1961-12-28\",\"1962-01-28\",\"1962-02-28\",\"1962-03-28\",\"1962-04-28\",\"1962-05-28\",\"1962-06-28\",\"1962-07-28\",\"1962-08-28\",\"1962-09-28\",\"1962-10-28\",\"1962-11-28\",\"1962-12-28\",\"1963-01-28\",\"1963-02-28\",\"1963-03-28\",\"1963-04-28\",\"1963-05-28\",\"1963-06-28\",\"1963-07-28\",\"1963-08-28\",\"1963-09-28\",\"1963-10-28\",\"1963-11-28\",\"1963-12-28\",\"1964-01-28\",\"1964-02-28\",\"1964-03-28\",\"1964-04-28\",\"1964-05-28\",\"1964-06-28\",\"1964-07-28\",\"1964-08-28\",\"1964-09-28\",\"1964-10-28\",\"1964-11-28\",\"1964-12-28\",\"1965-01-28\",\"1965-02-28\",\"1965-03-28\",\"1965-04-28\",\"1965-05-28\",\"1965-06-28\",\"1965-07-28\",\"1965-08-28\",\"1965-09-28\",\"1965-10-28\",\"1965-11-28\",\"1965-12-28\",\"1966-01-28\",\"1966-02-28\",\"1966-03-28\",\"1966-04-28\",\"1966-05-28\",\"1966-06-28\",\"1966-07-28\",\"1966-08-28\",\"1966-09-28\",\"1966-10-28\",\"1966-11-28\",\"1966-12-28\",\"1967-01-28\",\"1967-02-28\",\"1967-03-28\",\"1967-04-28\",\"1967-05-28\",\"1967-06-28\",\"1967-07-28\",\"1967-08-28\",\"1967-09-28\",\"1967-10-28\",\"1967-11-28\",\"1967-12-28\",\"1968-01-28\",\"1968-02-28\",\"1968-03-28\",\"1968-04-28\",\"1968-05-28\",\"1968-06-28\",\"1968-07-28\",\"1968-08-28\",\"1968-09-28\",\"1968-10-28\",\"1968-11-28\",\"1968-12-28\",\"1969-01-28\",\"1969-02-28\",\"1969-03-28\",\"1969-04-28\",\"1969-05-28\",\"1969-06-28\",\"1969-07-28\",\"1969-08-28\",\"1969-09-28\",\"1969-10-28\",\"1969-11-28\",\"1969-12-28\",\"1970-01-28\",\"1970-02-28\",\"1970-03-28\",\"1970-04-28\",\"1970-05-28\",\"1970-06-28\",\"1970-07-28\",\"1970-08-28\",\"1970-09-28\",\"1970-10-28\",\"1970-11-28\",\"1970-12-28\",\"1971-01-28\",\"1971-02-28\",\"1971-03-28\",\"1971-04-28\",\"1971-05-28\",\"1971-06-28\",\"1971-07-28\",\"1971-08-28\",\"1971-09-28\",\"1971-10-28\",\"1971-11-28\",\"1971-12-28\",\"1972-01-28\",\"1972-02-28\",\"1972-03-28\",\"1972-04-28\",\"1972-05-28\",\"1972-06-28\",\"1972-07-28\",\"1972-08-28\",\"1972-09-28\",\"1972-10-28\",\"1972-11-28\",\"1972-12-28\"],\"Ozone Rate\":{\"__ndarray__\":\"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\",\"dtype\":\"float64\",\"shape\":[216]},\"Ozone_Rate\":{\"__ndarray__\":\"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\",\"dtype\":\"float64\",\"shape\":[216]},\"Variable\":[\"ACTUAL\",\"ACTUAL\",\"ACTUAL\",\"ACTUAL\",\"ACTUAL\",\"ACTUAL\",\"ACTUAL\",\"ACTUAL\",\"ACTUAL\",\"ACTUAL\",\"ACTUAL\",\"ACTUAL\",\"ACTUAL\",\"ACTUAL\",\"ACTUAL\",\"ACTUAL\",\"ACTUAL\",\"ACTUAL\",\"ACTUAL\",\"ACTUAL\",\"ACTUAL\",\"ACTUAL\",\"ACTUAL\",\"ACTUAL\",\"ACTUAL\",\"ACTUAL\",\"ACTUAL\",\"ACTUAL\",\"ACTUAL\",\"ACTUAL\",\"ACTUAL\",\"ACTUAL\",\"ACTUAL\",\"ACTUAL\",\"ACTUAL\",\"ACTUAL\",\"ACTUAL\",\"ACTUAL\",\"ACTUAL\",\"ACTUAL\",\"ACTUAL\",\"ACTUAL\",\"ACTUAL\",\"ACTUAL\",\"ACTUAL\",\"ACTUAL\",\"ACTUAL\",\"ACTUAL\",\"ACTUAL\",\"ACTUAL\",\"ACTUAL\",\"ACTUAL\",\"ACTUAL\",\"ACTUAL\",\"ACTUAL\",\"ACTUAL\",\"ACTUAL\",\"ACTUAL\",\"ACTUAL\",\"ACTUAL\",\"ACTUAL\",\"ACTUAL\",\"ACTUAL\",\"ACTUAL\",\"ACTUAL\",\"ACTUAL\",\"ACTUAL\",\"ACTUAL\",\"ACTUAL\",\"ACTUAL\",\"ACTUAL\",\"ACTUAL\",\"ACTUAL\",\"ACTUAL\",\"ACTUAL\",\"ACTUAL\",\"ACTUAL\",\"ACTUAL\",\"ACTUAL\",\"ACTUAL\",\"ACTUAL\",\"ACTUAL\",\"ACTUAL\",\"ACTUAL\",\"ACTUAL\",\"ACTUAL\",\"ACTUAL\",\"ACTUAL\",\"ACTUAL\",\"ACTUAL\",\"ACTUAL\",\"ACTUAL\",\"ACTUAL\",\"ACTUAL\",\"ACTUAL\",\"ACTUAL\",\"ACTUAL\",\"ACTUAL\",\"ACTUAL\",\"ACTUAL\",\"ACTUAL\",\"ACTUAL\",\"ACTUAL\",\"ACTUAL\",\"ACTUAL\",\"ACTUAL\",\"ACTUAL\",\"ACTUAL\",\"ACTUAL\",\"ACTUAL\",\"ACTUAL\",\"ACTUAL\",\"ACTUAL\",\"ACTUAL\",\"ACTUAL\",\"ACTUAL\",\"ACTUAL\",\"ACTUAL\",\"ACTUAL\",\"ACTUAL\",\"ACTUAL\",\"ACTUAL\",\"ACTUAL\",\"ACTUAL\",\"ACTUAL\",\"ACTUAL\",\"ACTUAL\",\"ACTUAL\",\"ACTUAL\",\"ACTUAL\",\"ACTUAL\",\"ACTUAL\",\"ACTUAL\",\"ACTUAL\",\"ACTUAL\",\"ACTUAL\",\"ACTUAL\",\"ACTUAL\",\"ACTUAL\",\"ACTUAL\",\"ACTUAL\",\"ACTUAL\",\"ACTUAL\",\"ACTUAL\",\"ACTUAL\",\"ACTUAL\",\"ACTUAL\",\"ACTUAL\",\"ACTUAL\",\"ACTUAL\",\"ACTUAL\",\"ACTUAL\",\"ACTUAL\",\"ACTUAL\",\"ACTUAL\",\"ACTUAL\",\"ACTUAL\",\"ACTUAL\",\"ACTUAL\",\"ACTUAL\",\"ACTUAL\",\"ACTUAL\",\"ACTUAL\",\"ACTUAL\",\"ACTUAL\",\"ACTUAL\",\"ACTUAL\",\"ACTUAL\",\"ACTUAL\",\"ACTUAL\",\"ACTUAL\",\"ACTUAL\",\"ACTUAL\",\"ACTUAL\",\"ACTUAL\",\"ACTUAL\",\"ACTUAL\",\"ACTUAL\",\"ACTUAL\",\"ACTUAL\",\"ACTUAL\",\"ACTUAL\",\"ACTUAL\",\"ACTUAL\",\"ACTUAL\",\"ACTUAL\",\"ACTUAL\",\"ACTUAL\",\"ACTUAL\",\"ACTUAL\",\"ACTUAL\",\"ACTUAL\",\"ACTUAL\",\"ACTUAL\",\"ACTUAL\",\"ACTUAL\",\"ACTUAL\",\"ACTUAL\",\"ACTUAL\",\"ACTUAL\",\"ACTUAL\",\"ACTUAL\",\"ACTUAL\",\"ACTUAL\",\"ACTUAL\",\"ACTUAL\",\"ACTUAL\",\"ACTUAL\",\"ACTUAL\",\"ACTUAL\",\"ACTUAL\",\"ACTUAL\",\"ACTUAL\",\"ACTUAL\",\"ACTUAL\",\"ACTUAL\"]},\"selected\":{\"id\":\"1663\",\"type\":\"Selection\"},\"selection_policy\":{\"id\":\"1715\",\"type\":\"UnionRenderers\"}},\"id\":\"1662\",\"type\":\"ColumnDataSource\"},{\"attributes\":{\"source\":{\"id\":\"1662\",\"type\":\"ColumnDataSource\"}},\"id\":\"1669\",\"type\":\"CDSView\"},{\"attributes\":{\"overlay\":{\"id\":\"1687\",\"type\":\"BoxAnnotation\"}},\"id\":\"1648\",\"type\":\"BoxZoomTool\"},{\"attributes\":{\"base\":24,\"mantissas\":[1,2,4,6,8,12],\"max_interval\":43200000.0,\"min_interval\":3600000.0,\"num_minor_ticks\":0},\"id\":\"1677\",\"type\":\"AdaptiveTicker\"},{\"attributes\":{},\"id\":\"1691\",\"type\":\"Selection\"},{\"attributes\":{\"callback\":null,\"end\":8.13,\"reset_end\":8.13,\"reset_start\":0.4182203794225301,\"start\":0.4182203794225301,\"tags\":[[[\"Ozone Rate\",\"Ozone Rate\",null]]]},\"id\":\"1622\",\"type\":\"Range1d\"},{\"attributes\":{},\"id\":\"1631\",\"type\":\"LinearScale\"},{\"attributes\":{\"callback\":null,\"end\":94348800000.0,\"reset_end\":94348800000.0,\"reset_start\":-471052800000.0,\"start\":-471052800000.0,\"tags\":[[[\"Date\",\"Date\",null]]]},\"id\":\"1621\",\"type\":\"Range1d\"},{\"attributes\":{\"line_color\":\"#1f77b4\",\"line_width\":2,\"x\":{\"field\":\"Date\"},\"y\":{\"field\":\"Ozone Rate\"}},\"id\":\"1665\",\"type\":\"Line\"},{\"attributes\":{},\"id\":\"1649\",\"type\":\"ResetTool\"},{\"attributes\":{\"grid_line_color\":null,\"ticker\":{\"id\":\"1636\",\"type\":\"DatetimeTicker\"}},\"id\":\"1639\",\"type\":\"Grid\"},{\"attributes\":{\"text\":\"Monthly Ozone Rate in LA\",\"text_color\":{\"value\":\"black\"},\"text_font_size\":{\"value\":\"12pt\"}},\"id\":\"1627\",\"type\":\"Title\"},{\"attributes\":{},\"id\":\"1686\",\"type\":\"YearsTicker\"},{\"attributes\":{\"line_alpha\":0.1,\"line_color\":\"#ff7f0e\",\"line_width\":2,\"x\":{\"field\":\"Date\"},\"y\":{\"field\":\"Ozone Rate\"}},\"id\":\"1694\",\"type\":\"Line\"},{\"attributes\":{\"days\":[1,4,7,10,13,16,19,22,25,28]},\"id\":\"1679\",\"type\":\"DaysTicker\"},{\"attributes\":{},\"id\":\"1633\",\"type\":\"LinearScale\"},{\"attributes\":{\"line_alpha\":0.2,\"line_color\":\"#1f77b4\",\"line_width\":2,\"x\":{\"field\":\"Date\"},\"y\":{\"field\":\"Ozone Rate\"}},\"id\":\"1667\",\"type\":\"Line\"},{\"attributes\":{\"fill_alpha\":0.2,\"fill_color\":\"orange\",\"line_alpha\":0.2,\"line_color\":\"white\",\"x\":{\"field\":\"x\"},\"y\":{\"field\":\"y\"}},\"id\":\"1878\",\"type\":\"Patch\"},{\"attributes\":{},\"id\":\"1647\",\"type\":\"WheelZoomTool\"},{\"attributes\":{\"days\":[1,2,3,4,5,6,7,8,9,10,11,12,13,14,15,16,17,18,19,20,21,22,23,24,25,26,27,28,29,30,31]},\"id\":\"1678\",\"type\":\"DaysTicker\"},{\"attributes\":{\"days\":[1,15]},\"id\":\"1681\",\"type\":\"DaysTicker\"},{\"attributes\":{\"months\":[0,1,2,3,4,5,6,7,8,9,10,11]},\"id\":\"1682\",\"type\":\"MonthsTicker\"},{\"attributes\":{\"data_source\":{\"id\":\"1662\",\"type\":\"ColumnDataSource\"},\"glyph\":{\"id\":\"1665\",\"type\":\"Line\"},\"hover_glyph\":null,\"muted_glyph\":{\"id\":\"1667\",\"type\":\"Line\"},\"nonselection_glyph\":{\"id\":\"1666\",\"type\":\"Line\"},\"selection_glyph\":null,\"view\":{\"id\":\"1669\",\"type\":\"CDSView\"}},\"id\":\"1668\",\"type\":\"GlyphRenderer\"},{\"attributes\":{\"months\":[0,2,4,6,8,10]},\"id\":\"1683\",\"type\":\"MonthsTicker\"},{\"attributes\":{\"num_minor_ticks\":5,\"tickers\":[{\"id\":\"1675\",\"type\":\"AdaptiveTicker\"},{\"id\":\"1676\",\"type\":\"AdaptiveTicker\"},{\"id\":\"1677\",\"type\":\"AdaptiveTicker\"},{\"id\":\"1678\",\"type\":\"DaysTicker\"},{\"id\":\"1679\",\"type\":\"DaysTicker\"},{\"id\":\"1680\",\"type\":\"DaysTicker\"},{\"id\":\"1681\",\"type\":\"DaysTicker\"},{\"id\":\"1682\",\"type\":\"MonthsTicker\"},{\"id\":\"1683\",\"type\":\"MonthsTicker\"},{\"id\":\"1684\",\"type\":\"MonthsTicker\"},{\"id\":\"1685\",\"type\":\"MonthsTicker\"},{\"id\":\"1686\",\"type\":\"YearsTicker\"}]},\"id\":\"1636\",\"type\":\"DatetimeTicker\"},{\"attributes\":{\"line_color\":\"#ff7f0e\",\"line_width\":2,\"x\":{\"field\":\"Date\"},\"y\":{\"field\":\"Ozone Rate\"}},\"id\":\"1693\",\"type\":\"Line\"},{\"attributes\":{\"axis_label\":\"Ozone Rate\",\"axis_label_text_font_size\":{\"value\":\"10pt\"},\"bounds\":\"auto\",\"formatter\":{\"id\":\"1661\",\"type\":\"BasicTickFormatter\"},\"major_label_orientation\":\"horizontal\",\"ticker\":{\"id\":\"1641\",\"type\":\"BasicTicker\"}},\"id\":\"1640\",\"type\":\"LinearAxis\"},{\"attributes\":{\"fill_alpha\":0.2,\"fill_color\":\"orange\",\"line_alpha\":0.2,\"line_color\":\"white\",\"x\":{\"field\":\"x\"},\"y\":{\"field\":\"y\"}},\"id\":\"1877\",\"type\":\"Patch\"},{\"attributes\":{\"callback\":null,\"data\":{\"x\":[65404800000.0,68083200000.0,70588800000.0,73267200000.0,75859200000.0,78537600000.0,81129600000.0,83808000000.0,86486400000.0,89078400000.0,91756800000.0,94348800000.0,94348800000.0,91756800000.0,89078400000.0,86486400000.0,83808000000.0,81129600000.0,78537600000.0,75859200000.0,73267200000.0,70588800000.0,68083200000.0,65404800000.0],\"y\":{\"__ndarray__\":\"HJKSl8T/BUBWZa/fIf8GQOjQIQQoogpApoiG1ThLEEBiEnyjzMQQQFIpJaykIBJAuyLSJ88cE0A5Lw2tHFETQJ7ipdraKhNAz847zg98EkDArZqurKANQCCHSoa+1AdA2lJkb/e15D+vdlII2PL1PzYrBvLeUAJA1FLaCnWuA0AK7Kiv+PoDQAzTMqVdkgNAOuDYrQiaAUC1ZA05scT9P8U9NwFi3vs//nnBZp3r7z+0y/fUhF/hP5j9CGkfxNo/\",\"dtype\":\"float64\",\"shape\":[24]}},\"selected\":{\"id\":\"1874\",\"type\":\"Selection\"},\"selection_policy\":{\"id\":\"1902\",\"type\":\"UnionRenderers\"}},\"id\":\"1873\",\"type\":\"ColumnDataSource\"},{\"attributes\":{\"callback\":null,\"renderers\":[{\"id\":\"1668\",\"type\":\"GlyphRenderer\"},{\"id\":\"1696\",\"type\":\"GlyphRenderer\"}],\"tags\":[\"hv_created\"],\"tooltips\":[[\"Variable\",\"@{Variable}\"],[\"Date\",\"@{Date_dt_strings}\"],[\"Ozone Rate\",\"@{Ozone_Rate}\"]]},\"id\":\"1623\",\"type\":\"HoverTool\"},{\"attributes\":{\"mantissas\":[1,2,5],\"max_interval\":500.0,\"num_minor_ticks\":0},\"id\":\"1675\",\"type\":\"AdaptiveTicker\"},{\"attributes\":{\"label\":{\"value\":\"PREDICTED\"},\"renderers\":[{\"id\":\"1696\",\"type\":\"GlyphRenderer\"}]},\"id\":\"1718\",\"type\":\"LegendItem\"}],\"root_ids\":[\"1626\"]},\"title\":\"Bokeh Application\",\"version\":\"1.3.4\"}};\n",
       "  var render_items = [{\"docid\":\"a79ebf4a-67ae-4522-afa5-837ceddda048\",\"roots\":{\"1626\":\"0593c3aa-9b4e-4a98-a44f-91261148665b\"}}];\n",
       "  root.Bokeh.embed.embed_items_notebook(docs_json, render_items);\n",
       "\n",
       "  }\n",
       "  if (root.Bokeh !== undefined) {\n",
       "    embed_document(root);\n",
       "  } else {\n",
       "    var attempts = 0;\n",
       "    var timer = setInterval(function(root) {\n",
       "      if (root.Bokeh !== undefined) {\n",
       "        embed_document(root);\n",
       "        clearInterval(timer);\n",
       "      }\n",
       "      attempts++;\n",
       "      if (attempts > 100) {\n",
       "        console.log(\"Bokeh: ERROR: Unable to run BokehJS code because BokehJS library is missing\");\n",
       "        clearInterval(timer);\n",
       "      }\n",
       "    }, 10, root)\n",
       "  }\n",
       "})(window);</script>"
      ],
      "text/plain": [
       ":Overlay\n",
       "   .NdOverlay.I :NdOverlay   [Variable]\n",
       "      :Curve   [Date]   (Ozone Rate)\n",
       "   .Area.I      :Area   [Date]   (LOWER_INT_95PCT,UPPER_INT_95PCT)"
      ]
     },
     "execution_count": 17,
     "metadata": {
      "application/vnd.holoviews_exec.v0+json": {
       "id": "1626"
      }
     },
     "output_type": "execute_result"
    }
   ],
   "source": [
    "# Make the output a Pandas Dataframe\n",
    "forecast_df = output_data.collect()\n",
    "# Build a line chart\n",
    "import hvplot.pandas\n",
    "forecast_df.hvplot.line(\n",
    " 'Date' , ['ACTUAL','PREDICTED'], \n",
    " value_label='Ozone Rate', \n",
    " title = 'Monthly Ozone Rate in LA',\n",
    " fontsize={'title': 10, 'labels': 10},\n",
    " legend = 'bottom', height = 350, width = 900\n",
    ") *\\\n",
    "forecast_df.hvplot.area(\n",
    " 'Date' , 'LOWER_INT_95PCT', 'UPPER_INT_95PCT', \n",
    " line_color = 'white', color = 'orange', alpha=0.2\n",
    ")"
   ]
  },
  {
   "cell_type": "markdown",
   "metadata": {},
   "source": [
    "##### Components found"
   ]
  },
  {
   "cell_type": "code",
   "execution_count": 18,
   "metadata": {},
   "outputs": [
    {
     "data": {
      "text/html": [
       "<style  type=\"text/css\" >\n",
       "</style><table id=\"T_b9700662_2e45_11ea_b53b_50eb71c448ec\" ><thead>    <tr>        <th class=\"col_heading level0 col0\" >Component</th>        <th class=\"col_heading level0 col1\" >Value</th>    </tr></thead><tbody>\n",
       "                <tr>\n",
       "                                <td id=\"T_b9700662_2e45_11ea_b53b_50eb71c448ecrow0_col0\" class=\"data row0 col0\" >Trend</td>\n",
       "                        <td id=\"T_b9700662_2e45_11ea_b53b_50eb71c448ecrow0_col1\" class=\"data row0 col1\" >Polynom( Date)</td>\n",
       "            </tr>\n",
       "            <tr>\n",
       "                                <td id=\"T_b9700662_2e45_11ea_b53b_50eb71c448ecrow1_col0\" class=\"data row1 col0\" >Cycles</td>\n",
       "                        <td id=\"T_b9700662_2e45_11ea_b53b_50eb71c448ecrow1_col1\" class=\"data row1 col1\" >12</td>\n",
       "            </tr>\n",
       "            <tr>\n",
       "                                <td id=\"T_b9700662_2e45_11ea_b53b_50eb71c448ecrow2_col0\" class=\"data row2 col0\" >Fluctuations</td>\n",
       "                        <td id=\"T_b9700662_2e45_11ea_b53b_50eb71c448ecrow2_col1\" class=\"data row2 col1\" ></td>\n",
       "            </tr>\n",
       "    </tbody></table>"
      ],
      "text/plain": [
       "<pandas.io.formats.style.Styler at 0x252d6eac208>"
      ]
     },
     "execution_count": 18,
     "metadata": {},
     "output_type": "execute_result"
    }
   ],
   "source": [
    "d = model.get_model_components()\n",
    "components_df = pd.DataFrame(list(d.items()), columns=[\"Component\", \"Value\"])\n",
    "components_df.style.hide_index()"
   ]
  },
  {
   "cell_type": "markdown",
   "metadata": {},
   "source": [
    "##### Performance Indicators"
   ]
  },
  {
   "cell_type": "code",
   "execution_count": 19,
   "metadata": {},
   "outputs": [
    {
     "data": {
      "text/html": [
       "<style  type=\"text/css\" >\n",
       "</style><table id=\"T_b989f876_2e45_11ea_934d_50eb71c448ec\" ><thead>    <tr>        <th class=\"col_heading level0 col0\" >Indicator</th>        <th class=\"col_heading level0 col1\" >Value</th>    </tr></thead><tbody>\n",
       "                <tr>\n",
       "                                <td id=\"T_b989f876_2e45_11ea_934d_50eb71c448ecrow0_col0\" class=\"data row0 col0\" >MAPE</td>\n",
       "                        <td id=\"T_b989f876_2e45_11ea_934d_50eb71c448ecrow0_col1\" class=\"data row0 col1\" >0.1827</td>\n",
       "            </tr>\n",
       "            <tr>\n",
       "                                <td id=\"T_b989f876_2e45_11ea_934d_50eb71c448ecrow1_col0\" class=\"data row1 col0\" >MAE</td>\n",
       "                        <td id=\"T_b989f876_2e45_11ea_934d_50eb71c448ecrow1_col1\" class=\"data row1 col1\" >0.4671</td>\n",
       "            </tr>\n",
       "            <tr>\n",
       "                                <td id=\"T_b989f876_2e45_11ea_934d_50eb71c448ecrow2_col0\" class=\"data row2 col0\" >R2</td>\n",
       "                        <td id=\"T_b989f876_2e45_11ea_934d_50eb71c448ecrow2_col1\" class=\"data row2 col1\" >0.5564</td>\n",
       "            </tr>\n",
       "            <tr>\n",
       "                                <td id=\"T_b989f876_2e45_11ea_934d_50eb71c448ecrow3_col0\" class=\"data row3 col0\" >RMSE</td>\n",
       "                        <td id=\"T_b989f876_2e45_11ea_934d_50eb71c448ecrow3_col1\" class=\"data row3 col1\" >0.5948</td>\n",
       "            </tr>\n",
       "            <tr>\n",
       "                                <td id=\"T_b989f876_2e45_11ea_934d_50eb71c448ecrow4_col0\" class=\"data row4 col0\" >SMAPE</td>\n",
       "                        <td id=\"T_b989f876_2e45_11ea_934d_50eb71c448ecrow4_col1\" class=\"data row4 col1\" >0.1669</td>\n",
       "            </tr>\n",
       "    </tbody></table>"
      ],
      "text/plain": [
       "<pandas.io.formats.style.Styler at 0x252d6e98688>"
      ]
     },
     "execution_count": 19,
     "metadata": {},
     "output_type": "execute_result"
    }
   ],
   "source": [
    "d = model.get_performance_metrics()\n",
    "# Average each indicator across the horizon time window\n",
    "apm = []\n",
    "for k, v in d.items():\n",
    "   apm.append((k, round(np.mean(v),4)))\n",
    "# Put the results in a dataframe\n",
    "accuracy_df = pd.DataFrame(apm, columns=[\"Indicator\", \"Value\"])\n",
    "df = accuracy_df[accuracy_df['Indicator'].isin(['MAPE','MeanAbsoluteError','SMAPE','RootMeanSquareError','R2'])].copy()\n",
    "df['Indicator'] = df['Indicator'].str.replace('MeanAbsoluteError','MAE').str.replace('RootMeanSquareError','RMSE')\n",
    "df.style.hide_index()"
   ]
  },
  {
   "cell_type": "markdown",
   "metadata": {},
   "source": [
    "##### Descriptive Statistics"
   ]
  },
  {
   "cell_type": "code",
   "execution_count": 20,
   "metadata": {},
   "outputs": [
    {
     "data": {
      "text/html": [
       "<style  type=\"text/css\" >\n",
       "</style><table id=\"T_b9a110e4_2e45_11ea_bba1_50eb71c448ec\" ><thead>    <tr>        <th class=\"col_heading level0 col0\" >Target</th>        <th class=\"col_heading level0 col1\" >Statistic</th>        <th class=\"col_heading level0 col2\" >Value</th>    </tr></thead><tbody>\n",
       "                <tr>\n",
       "                                <td id=\"T_b9a110e4_2e45_11ea_bba1_50eb71c448ecrow0_col0\" class=\"data row0 col0\" >OzoneRateLA</td>\n",
       "                        <td id=\"T_b9a110e4_2e45_11ea_bba1_50eb71c448ecrow0_col1\" class=\"data row0 col1\" >Min</td>\n",
       "                        <td id=\"T_b9a110e4_2e45_11ea_bba1_50eb71c448ecrow0_col2\" class=\"data row0 col2\" >1.33</td>\n",
       "            </tr>\n",
       "            <tr>\n",
       "                                <td id=\"T_b9a110e4_2e45_11ea_bba1_50eb71c448ecrow1_col0\" class=\"data row1 col0\" >OzoneRateLA</td>\n",
       "                        <td id=\"T_b9a110e4_2e45_11ea_bba1_50eb71c448ecrow1_col1\" class=\"data row1 col1\" >Max</td>\n",
       "                        <td id=\"T_b9a110e4_2e45_11ea_bba1_50eb71c448ecrow1_col2\" class=\"data row1 col2\" >8.13</td>\n",
       "            </tr>\n",
       "            <tr>\n",
       "                                <td id=\"T_b9a110e4_2e45_11ea_bba1_50eb71c448ecrow2_col0\" class=\"data row2 col0\" >OzoneRateLA</td>\n",
       "                        <td id=\"T_b9a110e4_2e45_11ea_bba1_50eb71c448ecrow2_col1\" class=\"data row2 col1\" >Mean</td>\n",
       "                        <td id=\"T_b9a110e4_2e45_11ea_bba1_50eb71c448ecrow2_col2\" class=\"data row2 col2\" >3.9839</td>\n",
       "            </tr>\n",
       "            <tr>\n",
       "                                <td id=\"T_b9a110e4_2e45_11ea_bba1_50eb71c448ecrow3_col0\" class=\"data row3 col0\" >OzoneRateLA</td>\n",
       "                        <td id=\"T_b9a110e4_2e45_11ea_bba1_50eb71c448ecrow3_col1\" class=\"data row3 col1\" >StandardDeviation</td>\n",
       "                        <td id=\"T_b9a110e4_2e45_11ea_bba1_50eb71c448ecrow3_col2\" class=\"data row3 col2\" >1.4301</td>\n",
       "            </tr>\n",
       "    </tbody></table>"
      ],
      "text/plain": [
       "<pandas.io.formats.style.Styler at 0x252d6eb9908>"
      ]
     },
     "execution_count": 20,
     "metadata": {},
     "output_type": "execute_result"
    }
   ],
   "source": [
    "indicators_df = model.get_indicators().collect()\n",
    "df = indicators_df[(indicators_df.KEY!='CategoryFrequency') & (indicators_df.VARIABLE=='OzoneRateLA')].copy()\n",
    "df['VALUE'] = df['VALUE'].astype(float).round(4)\n",
    "df = df[['VARIABLE','KEY','VALUE']]\n",
    "df.columns = ['Target', 'Statistic','Value']\n",
    "df.style.hide_index()"
   ]
  },
  {
   "cell_type": "markdown",
   "metadata": {},
   "source": [
    "##### Outliers"
   ]
  },
  {
   "cell_type": "code",
   "execution_count": 21,
   "metadata": {},
   "outputs": [
    {
     "data": {
      "text/html": [
       "<style  type=\"text/css\" >\n",
       "</style><table id=\"T_b9bdb19c_2e45_11ea_8771_50eb71c448ec\" ><thead>    <tr>        <th class=\"col_heading level0 col0\" >Date</th>        <th class=\"col_heading level0 col1\" >OzoneRateLA</th>    </tr></thead><tbody>\n",
       "                <tr>\n",
       "                                <td id=\"T_b9bdb19c_2e45_11ea_8771_50eb71c448ecrow0_col0\" class=\"data row0 col0\" >1955-11-28</td>\n",
       "                        <td id=\"T_b9bdb19c_2e45_11ea_8771_50eb71c448ecrow0_col1\" class=\"data row0 col1\" >7.79</td>\n",
       "            </tr>\n",
       "            <tr>\n",
       "                                <td id=\"T_b9bdb19c_2e45_11ea_8771_50eb71c448ecrow1_col0\" class=\"data row1 col0\" >1956-09-28</td>\n",
       "                        <td id=\"T_b9bdb19c_2e45_11ea_8771_50eb71c448ecrow1_col1\" class=\"data row1 col1\" >8.13</td>\n",
       "            </tr>\n",
       "            <tr>\n",
       "                                <td id=\"T_b9bdb19c_2e45_11ea_8771_50eb71c448ecrow2_col0\" class=\"data row2 col0\" >1967-10-28</td>\n",
       "                        <td id=\"T_b9bdb19c_2e45_11ea_8771_50eb71c448ecrow2_col1\" class=\"data row2 col1\" >5.46</td>\n",
       "            </tr>\n",
       "            <tr>\n",
       "                                <td id=\"T_b9bdb19c_2e45_11ea_8771_50eb71c448ecrow3_col0\" class=\"data row3 col0\" >1968-09-28</td>\n",
       "                        <td id=\"T_b9bdb19c_2e45_11ea_8771_50eb71c448ecrow3_col1\" class=\"data row3 col1\" >4.73</td>\n",
       "            </tr>\n",
       "            <tr>\n",
       "                                <td id=\"T_b9bdb19c_2e45_11ea_8771_50eb71c448ecrow4_col0\" class=\"data row4 col0\" >1969-08-28</td>\n",
       "                        <td id=\"T_b9bdb19c_2e45_11ea_8771_50eb71c448ecrow4_col1\" class=\"data row4 col1\" >5.25</td>\n",
       "            </tr>\n",
       "    </tbody></table>"
      ],
      "text/plain": [
       "<pandas.io.formats.style.Styler at 0x252d6ecf788>"
      ]
     },
     "execution_count": 21,
     "metadata": {},
     "output_type": "execute_result"
    }
   ],
   "source": [
    "log_df = model.get_fit_operation_log().collect()\n",
    "df = log_df[log_df.MESSAGE.str.contains(\"outlier has been detected at time point\")].copy()\n",
    "df['Outlier'] = df['MESSAGE'].str.extract(\"\\((.*)\\)\")\n",
    "df = actual_df[actual_df['Date'].isin(df['Outlier'])].copy()\n",
    "df['Date'] = df['Date'].dt.date\n",
    "df.style.hide_index()"
   ]
  },
  {
   "cell_type": "code",
   "execution_count": null,
   "metadata": {},
   "outputs": [],
   "source": []
  }
 ],
 "metadata": {
  "kernelspec": {
   "display_name": "Python 3",
   "language": "python",
   "name": "python3"
  },
  "language_info": {
   "codemirror_mode": {
    "name": "ipython",
    "version": 3
   },
   "file_extension": ".py",
   "mimetype": "text/x-python",
   "name": "python",
   "nbconvert_exporter": "python",
   "pygments_lexer": "ipython3",
   "version": "3.7.4"
  }
 },
 "nbformat": 4,
 "nbformat_minor": 4
}
