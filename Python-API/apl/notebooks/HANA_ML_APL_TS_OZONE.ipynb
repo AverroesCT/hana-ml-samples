{
 "cells": [
  {
   "cell_type": "markdown",
   "metadata": {},
   "source": [
    "# Python HANA ML API"
   ]
  },
  {
   "cell_type": "markdown",
   "metadata": {},
   "source": [
    "<div class=\"alert alert-block alert-info\">\n",
    "<b>Time series forecasting of monthly ozone rate.</b> <br>\n",
    "</div>"
   ]
  },
  {
   "cell_type": "markdown",
   "metadata": {
    "slideshow": {
     "slide_type": "fragment"
    }
   },
   "source": [
    "### Create an HANA Dataframe for the actual series"
   ]
  },
  {
   "cell_type": "code",
   "execution_count": null,
   "metadata": {},
   "outputs": [],
   "source": [
    "# Connect using the HANA secure user store\n",
    "from hana_ml import dataframe as hd\n",
    "conn = hd.ConnectionContext(userkey='MLDB07_KEY')\n",
    "# Get Series Data\n",
    "sql_cmd = 'SELECT * FROM \"APL_SAMPLES\".\"OZONE_RATE_LA\" ORDER BY \"Date\"'\n",
    "series_data = hd.DataFrame(conn, sql_cmd)"
   ]
  },
  {
   "cell_type": "markdown",
   "metadata": {},
   "source": [
    "### Put the series in a Pandas Dataframe and show individual values"
   ]
  },
  {
   "cell_type": "code",
   "execution_count": null,
   "metadata": {},
   "outputs": [],
   "source": [
    "import pandas as pd\n",
    "import datetime as dt\n",
    "import numpy as np\n",
    "df = series_data.collect()\n",
    "df['Date'] = pd.to_datetime(df['Date'])\n",
    "df['OzoneRateLA'] = pd.to_numeric(df['OzoneRateLA'])\n",
    "df['Year'] = df['Date'].dt.year\n",
    "df['Month'] = df['Date'].dt.month\n",
    "del df['Date']\n",
    "pd.pivot_table(df, index='Month', columns=['Year']).T"
   ]
  },
  {
   "cell_type": "markdown",
   "metadata": {},
   "source": [
    "### Forecast with APL"
   ]
  },
  {
   "cell_type": "markdown",
   "metadata": {},
   "source": [
    "#### Running the forecast"
   ]
  },
  {
   "cell_type": "code",
   "execution_count": null,
   "metadata": {},
   "outputs": [],
   "source": [
    "# Specify the model  \n",
    "from hana_ml.algorithms.apl.time_series import AutoTimeSeries\n",
    "model = AutoTimeSeries(\n",
    "    conn_context=conn, \n",
    "    time_column_name= 'Date',\n",
    "    target= 'OzoneRateLA',\n",
    "    horizon= 12\n",
    "    )\n",
    "# Run the model \n",
    "output_data = model.fit_predict(series_data)"
   ]
  },
  {
   "cell_type": "markdown",
   "metadata": {},
   "source": [
    "##### Plotting the predicted values"
   ]
  },
  {
   "cell_type": "code",
   "execution_count": null,
   "metadata": {},
   "outputs": [],
   "source": [
    "# Make the output a Pandas Dataframe\n",
    "df = output_data.collect()\n",
    "# Build a line chart\n",
    "import hvplot.pandas\n",
    "df.hvplot.line(\n",
    " 'Date' , ['ACTUAL','PREDICTED'], \n",
    " value_label='Ozone Rate', \n",
    " title = 'Monthly Ozone Rate in LA',\n",
    " fontsize={'title': 10, 'labels': 10},\n",
    " legend = 'bottom', height = 350, width = 900\n",
    ") *\\\n",
    "df.hvplot.area(\n",
    " 'Date' , 'LOWER_INT_95PCT', 'UPPER_INT_95PCT', \n",
    " line_color = 'white', color = 'orange', alpha=0.2\n",
    ")"
   ]
  },
  {
   "cell_type": "markdown",
   "metadata": {},
   "source": [
    "##### Components found"
   ]
  },
  {
   "cell_type": "code",
   "execution_count": null,
   "metadata": {},
   "outputs": [],
   "source": [
    "d = model.get_model_components()\n",
    "df = pd.DataFrame(list(d.items()), columns=[\"Component\", \"Value\"])\n",
    "df.style.hide_index()"
   ]
  },
  {
   "cell_type": "markdown",
   "metadata": {},
   "source": [
    "##### Performance Indicators"
   ]
  },
  {
   "cell_type": "code",
   "execution_count": null,
   "metadata": {},
   "outputs": [],
   "source": [
    "d = model.get_performance_metrics()\n",
    "# Average each indicator across the horizon time window\n",
    "apm = []\n",
    "for k, v in d.items():\n",
    "   apm.append((k, round(np.mean(v),4)))\n",
    "df = pd.DataFrame(apm, columns=[\"Indicator\", \"Value\"])\n",
    "df.drop(pd.Index(np.where(df['Indicator'].isin(['L1','L2','U2','P2']))[0]), inplace = True)\n",
    "df.style.hide_index()"
   ]
  }
 ],
 "metadata": {
  "kernelspec": {
   "display_name": "Python 3",
   "language": "python",
   "name": "python3"
  },
  "language_info": {
   "codemirror_mode": {
    "name": "ipython",
    "version": 3
   },
   "file_extension": ".py",
   "mimetype": "text/x-python",
   "name": "python",
   "nbconvert_exporter": "python",
   "pygments_lexer": "ipython3",
   "version": "3.7.4"
  }
 },
 "nbformat": 4,
 "nbformat_minor": 4
}
