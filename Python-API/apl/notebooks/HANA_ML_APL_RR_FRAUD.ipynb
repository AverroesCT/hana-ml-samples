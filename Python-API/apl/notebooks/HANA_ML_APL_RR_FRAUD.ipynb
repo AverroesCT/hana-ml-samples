{
 "cells": [
  {
   "cell_type": "markdown",
   "metadata": {},
   "source": [
    "# Python HANA ML API"
   ]
  },
  {
   "cell_type": "markdown",
   "metadata": {},
   "source": [
    "<div class=\"alert alert-block alert-info\">\n",
    "<b>Building a Predictive Model for Insurance Fraud Detection.</b> <br>\n",
    "</div>"
   ]
  },
  {
   "cell_type": "markdown",
   "metadata": {},
   "source": [
    "### Create an HANA Dataframe containing historical Insurance Claims"
   ]
  },
  {
   "cell_type": "code",
   "execution_count": 21,
   "metadata": {},
   "outputs": [
    {
     "data": {
      "text/html": [
       "<div>\n",
       "<style scoped>\n",
       "    .dataframe tbody tr th:only-of-type {\n",
       "        vertical-align: middle;\n",
       "    }\n",
       "\n",
       "    .dataframe tbody tr th {\n",
       "        vertical-align: top;\n",
       "    }\n",
       "\n",
       "    .dataframe thead th {\n",
       "        text-align: right;\n",
       "    }\n",
       "</style>\n",
       "<table border=\"1\" class=\"dataframe\">\n",
       "  <thead>\n",
       "    <tr style=\"text-align: right;\">\n",
       "      <th></th>\n",
       "      <th>CLAIM_ID</th>\n",
       "      <th>DAYS_TO_REPORT</th>\n",
       "      <th>BODILY_INJURY_AMOUNT</th>\n",
       "      <th>PROPERTY_DAMAGE</th>\n",
       "      <th>PREVIOUS_CLAIMS</th>\n",
       "      <th>PAYMENT_METHOD</th>\n",
       "      <th>IS_REAR_END_COLLISION</th>\n",
       "      <th>PREM_AMOUNT</th>\n",
       "      <th>AGE</th>\n",
       "      <th>GENDER</th>\n",
       "      <th>MARITAL_STATUS</th>\n",
       "      <th>INCOME_ESTIMATE</th>\n",
       "      <th>INCOME_CATEGORY</th>\n",
       "      <th>POLICY_HOLDER</th>\n",
       "      <th>IS_FRAUD</th>\n",
       "    </tr>\n",
       "  </thead>\n",
       "  <tbody>\n",
       "    <tr>\n",
       "      <td>0</td>\n",
       "      <td>CL_0000765</td>\n",
       "      <td>8</td>\n",
       "      <td>0</td>\n",
       "      <td>1957</td>\n",
       "      <td>0</td>\n",
       "      <td>CC</td>\n",
       "      <td>No</td>\n",
       "      <td>Safedriving_discount</td>\n",
       "      <td>52</td>\n",
       "      <td>Male</td>\n",
       "      <td>Single</td>\n",
       "      <td>15906.0</td>\n",
       "      <td>15</td>\n",
       "      <td>Y</td>\n",
       "      <td>No</td>\n",
       "    </tr>\n",
       "    <tr>\n",
       "      <td>1</td>\n",
       "      <td>CL_0000832</td>\n",
       "      <td>30</td>\n",
       "      <td>2541</td>\n",
       "      <td>3843</td>\n",
       "      <td>0</td>\n",
       "      <td>CC</td>\n",
       "      <td>No</td>\n",
       "      <td>Safedriving_discount</td>\n",
       "      <td>85</td>\n",
       "      <td>Female</td>\n",
       "      <td>Single</td>\n",
       "      <td>91100.6</td>\n",
       "      <td>75</td>\n",
       "      <td>N</td>\n",
       "      <td>No</td>\n",
       "    </tr>\n",
       "    <tr>\n",
       "      <td>2</td>\n",
       "      <td>CL_0002015</td>\n",
       "      <td>4</td>\n",
       "      <td>0</td>\n",
       "      <td>25719</td>\n",
       "      <td>0</td>\n",
       "      <td>CC</td>\n",
       "      <td>No</td>\n",
       "      <td>Standard</td>\n",
       "      <td>45</td>\n",
       "      <td>Male</td>\n",
       "      <td>Married</td>\n",
       "      <td>67085.4</td>\n",
       "      <td>50</td>\n",
       "      <td>N</td>\n",
       "      <td>No</td>\n",
       "    </tr>\n",
       "    <tr>\n",
       "      <td>3</td>\n",
       "      <td>CL_0002854</td>\n",
       "      <td>0</td>\n",
       "      <td>0</td>\n",
       "      <td>83</td>\n",
       "      <td>1</td>\n",
       "      <td>Auto</td>\n",
       "      <td>No</td>\n",
       "      <td>Standard</td>\n",
       "      <td>75</td>\n",
       "      <td>Male</td>\n",
       "      <td>Married</td>\n",
       "      <td>49561.0</td>\n",
       "      <td>35</td>\n",
       "      <td>N</td>\n",
       "      <td>No</td>\n",
       "    </tr>\n",
       "    <tr>\n",
       "      <td>4</td>\n",
       "      <td>CL_0002869</td>\n",
       "      <td>22</td>\n",
       "      <td>0</td>\n",
       "      <td>1264</td>\n",
       "      <td>0</td>\n",
       "      <td>CC</td>\n",
       "      <td>Yes</td>\n",
       "      <td>Standard</td>\n",
       "      <td>48</td>\n",
       "      <td>Female</td>\n",
       "      <td>Married</td>\n",
       "      <td>39598.7</td>\n",
       "      <td>35</td>\n",
       "      <td>N</td>\n",
       "      <td>No</td>\n",
       "    </tr>\n",
       "    <tr>\n",
       "      <td>5</td>\n",
       "      <td>CL_0003400</td>\n",
       "      <td>3</td>\n",
       "      <td>9903</td>\n",
       "      <td>7333</td>\n",
       "      <td>0</td>\n",
       "      <td>Auto</td>\n",
       "      <td>No</td>\n",
       "      <td>Safedriving_discount</td>\n",
       "      <td>41</td>\n",
       "      <td>Male</td>\n",
       "      <td>Single</td>\n",
       "      <td>48271.8</td>\n",
       "      <td>35</td>\n",
       "      <td>N</td>\n",
       "      <td>Yes</td>\n",
       "    </tr>\n",
       "    <tr>\n",
       "      <td>6</td>\n",
       "      <td>CL_0005084</td>\n",
       "      <td>14</td>\n",
       "      <td>0</td>\n",
       "      <td>1882</td>\n",
       "      <td>0</td>\n",
       "      <td>CC</td>\n",
       "      <td>No</td>\n",
       "      <td>Safedriving_discount</td>\n",
       "      <td>26</td>\n",
       "      <td>Female</td>\n",
       "      <td>Single</td>\n",
       "      <td>76074.1</td>\n",
       "      <td>75</td>\n",
       "      <td>Y</td>\n",
       "      <td>No</td>\n",
       "    </tr>\n",
       "    <tr>\n",
       "      <td>7</td>\n",
       "      <td>CL_0005346</td>\n",
       "      <td>12</td>\n",
       "      <td>15399</td>\n",
       "      <td>8864</td>\n",
       "      <td>0</td>\n",
       "      <td>Auto</td>\n",
       "      <td>No</td>\n",
       "      <td>Standard</td>\n",
       "      <td>73</td>\n",
       "      <td>Male</td>\n",
       "      <td>Married</td>\n",
       "      <td>61438.2</td>\n",
       "      <td>50</td>\n",
       "      <td>N</td>\n",
       "      <td>No</td>\n",
       "    </tr>\n",
       "  </tbody>\n",
       "</table>\n",
       "</div>"
      ],
      "text/plain": [
       "     CLAIM_ID  DAYS_TO_REPORT  BODILY_INJURY_AMOUNT  PROPERTY_DAMAGE  \\\n",
       "0  CL_0000765               8                     0             1957   \n",
       "1  CL_0000832              30                  2541             3843   \n",
       "2  CL_0002015               4                     0            25719   \n",
       "3  CL_0002854               0                     0               83   \n",
       "4  CL_0002869              22                     0             1264   \n",
       "5  CL_0003400               3                  9903             7333   \n",
       "6  CL_0005084              14                     0             1882   \n",
       "7  CL_0005346              12                 15399             8864   \n",
       "\n",
       "   PREVIOUS_CLAIMS PAYMENT_METHOD IS_REAR_END_COLLISION           PREM_AMOUNT  \\\n",
       "0                0             CC                    No  Safedriving_discount   \n",
       "1                0             CC                    No  Safedriving_discount   \n",
       "2                0             CC                    No              Standard   \n",
       "3                1           Auto                    No              Standard   \n",
       "4                0             CC                   Yes              Standard   \n",
       "5                0           Auto                    No  Safedriving_discount   \n",
       "6                0             CC                    No  Safedriving_discount   \n",
       "7                0           Auto                    No              Standard   \n",
       "\n",
       "   AGE  GENDER MARITAL_STATUS  INCOME_ESTIMATE  INCOME_CATEGORY POLICY_HOLDER  \\\n",
       "0   52    Male         Single          15906.0               15             Y   \n",
       "1   85  Female         Single          91100.6               75             N   \n",
       "2   45    Male        Married          67085.4               50             N   \n",
       "3   75    Male        Married          49561.0               35             N   \n",
       "4   48  Female        Married          39598.7               35             N   \n",
       "5   41    Male         Single          48271.8               35             N   \n",
       "6   26  Female         Single          76074.1               75             Y   \n",
       "7   73    Male        Married          61438.2               50             N   \n",
       "\n",
       "  IS_FRAUD  \n",
       "0       No  \n",
       "1       No  \n",
       "2       No  \n",
       "3       No  \n",
       "4       No  \n",
       "5      Yes  \n",
       "6       No  \n",
       "7       No  "
      ]
     },
     "execution_count": 21,
     "metadata": {},
     "output_type": "execute_result"
    }
   ],
   "source": [
    "# Connect using the HANA secure user store \n",
    "from hana_ml import dataframe as hd\n",
    "conn = hd.ConnectionContext(userkey='MLMDA_KEY')\n",
    "# Get Training Data\n",
    "sql_cmd = 'SELECT * FROM \"APL_SAMPLES\".\"AUTO_CLAIMS_FRAUD\" ORDER BY CLAIM_ID'\n",
    "training_data = hd.DataFrame(conn, sql_cmd)\n",
    "training_data.head(8).collect()"
   ]
  },
  {
   "cell_type": "markdown",
   "metadata": {},
   "source": [
    "### Build a Classification model with the APL module"
   ]
  },
  {
   "cell_type": "code",
   "execution_count": 22,
   "metadata": {},
   "outputs": [
    {
     "name": "stdout",
     "output_type": "stream",
     "text": [
      "\r\n",
      "\u001b[1mMODEL PERFORMANCE\u001b[0m\n"
     ]
    },
    {
     "data": {
      "text/html": [
       "<style  type=\"text/css\" >\n",
       "</style><table id=\"T_dc75a66e_31f9_11ea_80ec_50eb71c448ec\" ><thead>    <tr>        <th class=\"col_heading level0 col0\" >Metric</th>        <th class=\"col_heading level0 col1\" >Value</th>    </tr></thead><tbody>\n",
       "                <tr>\n",
       "                                <td id=\"T_dc75a66e_31f9_11ea_80ec_50eb71c448ecrow0_col0\" class=\"data row0 col0\" >AUC</td>\n",
       "                        <td id=\"T_dc75a66e_31f9_11ea_80ec_50eb71c448ecrow0_col1\" class=\"data row0 col1\" >0.8098</td>\n",
       "            </tr>\n",
       "    </tbody></table>"
      ],
      "text/plain": [
       "<pandas.io.formats.style.Styler at 0x27556ded1c8>"
      ]
     },
     "execution_count": 22,
     "metadata": {},
     "output_type": "execute_result"
    }
   ],
   "source": [
    "# Create Model  \n",
    "from hana_ml.algorithms.apl.classification import AutoClassifier\n",
    "model = AutoClassifier(conn_context=conn, variable_auto_selection = True, polynomial_degree =1 )\n",
    "# Train the model\n",
    "model.set_params(cutting_strategy = 'random with no test')\n",
    "model.fit(training_data, label='IS_FRAUD', key='CLAIM_ID')\n",
    "# Debrief the trained model \n",
    "import pandas as pd\n",
    "print('\\r\\n\\x1b[1m'+ 'MODEL PERFORMANCE' + '\\x1b[0m')\n",
    "d = model.get_performance_metrics()\n",
    "df = pd.DataFrame(list(d.items()), columns=[\"Metric\", \"Value\"])\n",
    "df.loc[df.Metric == 'AUC'].style.hide_index()"
   ]
  },
  {
   "cell_type": "code",
   "execution_count": 23,
   "metadata": {},
   "outputs": [
    {
     "name": "stdout",
     "output_type": "stream",
     "text": [
      "\r\n",
      "\u001b[1mVARIABLES IMPORTANCE\u001b[0m\n"
     ]
    },
    {
     "data": {
      "text/html": [
       "<style  type=\"text/css\" >\n",
       "</style><table id=\"T_dc8747f6_31f9_11ea_adf8_50eb71c448ec\" ><thead>    <tr>        <th class=\"col_heading level0 col0\" >Variable</th>        <th class=\"col_heading level0 col1\" >Contribution</th>        <th class=\"col_heading level0 col2\" >Cumulative</th>    </tr></thead><tbody>\n",
       "                <tr>\n",
       "                                <td id=\"T_dc8747f6_31f9_11ea_adf8_50eb71c448ecrow0_col0\" class=\"data row0 col0\" >BODILY_INJURY_AMOUNT</td>\n",
       "                        <td id=\"T_dc8747f6_31f9_11ea_adf8_50eb71c448ecrow0_col1\" class=\"data row0 col1\" >52.62</td>\n",
       "                        <td id=\"T_dc8747f6_31f9_11ea_adf8_50eb71c448ecrow0_col2\" class=\"data row0 col2\" >52.62</td>\n",
       "            </tr>\n",
       "            <tr>\n",
       "                                <td id=\"T_dc8747f6_31f9_11ea_adf8_50eb71c448ecrow1_col0\" class=\"data row1 col0\" >AGE</td>\n",
       "                        <td id=\"T_dc8747f6_31f9_11ea_adf8_50eb71c448ecrow1_col1\" class=\"data row1 col1\" >10.48</td>\n",
       "                        <td id=\"T_dc8747f6_31f9_11ea_adf8_50eb71c448ecrow1_col2\" class=\"data row1 col2\" >63.1</td>\n",
       "            </tr>\n",
       "            <tr>\n",
       "                                <td id=\"T_dc8747f6_31f9_11ea_adf8_50eb71c448ecrow2_col0\" class=\"data row2 col0\" >DAYS_TO_REPORT</td>\n",
       "                        <td id=\"T_dc8747f6_31f9_11ea_adf8_50eb71c448ecrow2_col1\" class=\"data row2 col1\" >10.4</td>\n",
       "                        <td id=\"T_dc8747f6_31f9_11ea_adf8_50eb71c448ecrow2_col2\" class=\"data row2 col2\" >73.5</td>\n",
       "            </tr>\n",
       "            <tr>\n",
       "                                <td id=\"T_dc8747f6_31f9_11ea_adf8_50eb71c448ecrow3_col0\" class=\"data row3 col0\" >INCOME_CATEGORY</td>\n",
       "                        <td id=\"T_dc8747f6_31f9_11ea_adf8_50eb71c448ecrow3_col1\" class=\"data row3 col1\" >9.76</td>\n",
       "                        <td id=\"T_dc8747f6_31f9_11ea_adf8_50eb71c448ecrow3_col2\" class=\"data row3 col2\" >83.26</td>\n",
       "            </tr>\n",
       "            <tr>\n",
       "                                <td id=\"T_dc8747f6_31f9_11ea_adf8_50eb71c448ecrow4_col0\" class=\"data row4 col0\" >INCOME_ESTIMATE</td>\n",
       "                        <td id=\"T_dc8747f6_31f9_11ea_adf8_50eb71c448ecrow4_col1\" class=\"data row4 col1\" >6.83</td>\n",
       "                        <td id=\"T_dc8747f6_31f9_11ea_adf8_50eb71c448ecrow4_col2\" class=\"data row4 col2\" >90.09</td>\n",
       "            </tr>\n",
       "            <tr>\n",
       "                                <td id=\"T_dc8747f6_31f9_11ea_adf8_50eb71c448ecrow5_col0\" class=\"data row5 col0\" >PAYMENT_METHOD</td>\n",
       "                        <td id=\"T_dc8747f6_31f9_11ea_adf8_50eb71c448ecrow5_col1\" class=\"data row5 col1\" >6.07</td>\n",
       "                        <td id=\"T_dc8747f6_31f9_11ea_adf8_50eb71c448ecrow5_col2\" class=\"data row5 col2\" >96.16</td>\n",
       "            </tr>\n",
       "            <tr>\n",
       "                                <td id=\"T_dc8747f6_31f9_11ea_adf8_50eb71c448ecrow6_col0\" class=\"data row6 col0\" >GENDER</td>\n",
       "                        <td id=\"T_dc8747f6_31f9_11ea_adf8_50eb71c448ecrow6_col1\" class=\"data row6 col1\" >3.84</td>\n",
       "                        <td id=\"T_dc8747f6_31f9_11ea_adf8_50eb71c448ecrow6_col2\" class=\"data row6 col2\" >100</td>\n",
       "            </tr>\n",
       "    </tbody></table>"
      ],
      "text/plain": [
       "<pandas.io.formats.style.Styler at 0x27556e39788>"
      ]
     },
     "execution_count": 23,
     "metadata": {},
     "output_type": "execute_result"
    }
   ],
   "source": [
    "print('\\r\\n\\x1b[1m'+ 'VARIABLES IMPORTANCE' + '\\x1b[0m')\n",
    "d = model.get_feature_importances() \n",
    "df = pd.DataFrame(list(d.items()), columns=[\"Variable\", \"Contribution\"])\n",
    "df['Contribution'] = df['Contribution'].astype(float)\n",
    "df['Cumulative'] = df['Contribution'].cumsum()\n",
    "df['Contribution'] = df['Contribution'].round(4)*100\n",
    "df['Cumulative'] = df['Cumulative'].round(4)*100\n",
    "non_zero = df['Contribution'] != 0\n",
    "dfs = df[non_zero].sort_values(by=['Contribution'], ascending=False)\n",
    "dfs.style.hide_index()"
   ]
  },
  {
   "cell_type": "code",
   "execution_count": 24,
   "metadata": {},
   "outputs": [
    {
     "data": {
      "image/png": "[encoded data removed]",
      "text/plain": [
       "<Figure size 432x288 with 1 Axes>"
      ]
     },
     "metadata": {
      "needs_background": "light"
     },
     "output_type": "display_data"
    }
   ],
   "source": [
    "# Graph\n",
    "import matplotlib.pyplot as plt\n",
    "c_title = \"Contributions\" \n",
    "dfs = dfs.sort_values(by=['Contribution'], ascending=True)\n",
    "dfs.plot(kind='barh', x='Variable', y='Contribution', title=c_title, legend=False, fontsize=12)\n",
    "plt.show()"
   ]
  },
  {
   "cell_type": "markdown",
   "metadata": {},
   "source": [
    "### Make Predictions on New Claims"
   ]
  },
  {
   "cell_type": "code",
   "execution_count": 25,
   "metadata": {},
   "outputs": [
    {
     "data": {
      "text/html": [
       "<style  type=\"text/css\" >\n",
       "</style><table id=\"T_dd40bbe8_31f9_11ea_897f_50eb71c448ec\" ><thead>    <tr>        <th class=\"col_heading level0 col0\" >Claim Id</th>        <th class=\"col_heading level0 col1\" >Prediction</th>        <th class=\"col_heading level0 col2\" >Probability</th>        <th class=\"col_heading level0 col3\" >Actual</th>    </tr></thead><tbody>\n",
       "                <tr>\n",
       "                                <td id=\"T_dd40bbe8_31f9_11ea_897f_50eb71c448ecrow0_col0\" class=\"data row0 col0\" >CL_0959524</td>\n",
       "                        <td id=\"T_dd40bbe8_31f9_11ea_897f_50eb71c448ecrow0_col1\" class=\"data row0 col1\" >No</td>\n",
       "                        <td id=\"T_dd40bbe8_31f9_11ea_897f_50eb71c448ecrow0_col2\" class=\"data row0 col2\" >95.58%</td>\n",
       "                        <td id=\"T_dd40bbe8_31f9_11ea_897f_50eb71c448ecrow0_col3\" class=\"data row0 col3\" >None</td>\n",
       "            </tr>\n",
       "            <tr>\n",
       "                                <td id=\"T_dd40bbe8_31f9_11ea_897f_50eb71c448ecrow1_col0\" class=\"data row1 col0\" >CL_0959946</td>\n",
       "                        <td id=\"T_dd40bbe8_31f9_11ea_897f_50eb71c448ecrow1_col1\" class=\"data row1 col1\" >No</td>\n",
       "                        <td id=\"T_dd40bbe8_31f9_11ea_897f_50eb71c448ecrow1_col2\" class=\"data row1 col2\" >100.00%</td>\n",
       "                        <td id=\"T_dd40bbe8_31f9_11ea_897f_50eb71c448ecrow1_col3\" class=\"data row1 col3\" >None</td>\n",
       "            </tr>\n",
       "            <tr>\n",
       "                                <td id=\"T_dd40bbe8_31f9_11ea_897f_50eb71c448ecrow2_col0\" class=\"data row2 col0\" >CL_0960121</td>\n",
       "                        <td id=\"T_dd40bbe8_31f9_11ea_897f_50eb71c448ecrow2_col1\" class=\"data row2 col1\" >No</td>\n",
       "                        <td id=\"T_dd40bbe8_31f9_11ea_897f_50eb71c448ecrow2_col2\" class=\"data row2 col2\" >80.01%</td>\n",
       "                        <td id=\"T_dd40bbe8_31f9_11ea_897f_50eb71c448ecrow2_col3\" class=\"data row2 col3\" >None</td>\n",
       "            </tr>\n",
       "            <tr>\n",
       "                                <td id=\"T_dd40bbe8_31f9_11ea_897f_50eb71c448ecrow3_col0\" class=\"data row3 col0\" >CL_0960195</td>\n",
       "                        <td id=\"T_dd40bbe8_31f9_11ea_897f_50eb71c448ecrow3_col1\" class=\"data row3 col1\" >No</td>\n",
       "                        <td id=\"T_dd40bbe8_31f9_11ea_897f_50eb71c448ecrow3_col2\" class=\"data row3 col2\" >96.04%</td>\n",
       "                        <td id=\"T_dd40bbe8_31f9_11ea_897f_50eb71c448ecrow3_col3\" class=\"data row3 col3\" >None</td>\n",
       "            </tr>\n",
       "            <tr>\n",
       "                                <td id=\"T_dd40bbe8_31f9_11ea_897f_50eb71c448ecrow4_col0\" class=\"data row4 col0\" >CL_0960294</td>\n",
       "                        <td id=\"T_dd40bbe8_31f9_11ea_897f_50eb71c448ecrow4_col1\" class=\"data row4 col1\" >No</td>\n",
       "                        <td id=\"T_dd40bbe8_31f9_11ea_897f_50eb71c448ecrow4_col2\" class=\"data row4 col2\" >74.61%</td>\n",
       "                        <td id=\"T_dd40bbe8_31f9_11ea_897f_50eb71c448ecrow4_col3\" class=\"data row4 col3\" >None</td>\n",
       "            </tr>\n",
       "            <tr>\n",
       "                                <td id=\"T_dd40bbe8_31f9_11ea_897f_50eb71c448ecrow5_col0\" class=\"data row5 col0\" >CL_0960379</td>\n",
       "                        <td id=\"T_dd40bbe8_31f9_11ea_897f_50eb71c448ecrow5_col1\" class=\"data row5 col1\" >Yes</td>\n",
       "                        <td id=\"T_dd40bbe8_31f9_11ea_897f_50eb71c448ecrow5_col2\" class=\"data row5 col2\" >33.43%</td>\n",
       "                        <td id=\"T_dd40bbe8_31f9_11ea_897f_50eb71c448ecrow5_col3\" class=\"data row5 col3\" >None</td>\n",
       "            </tr>\n",
       "            <tr>\n",
       "                                <td id=\"T_dd40bbe8_31f9_11ea_897f_50eb71c448ecrow6_col0\" class=\"data row6 col0\" >CL_0960411</td>\n",
       "                        <td id=\"T_dd40bbe8_31f9_11ea_897f_50eb71c448ecrow6_col1\" class=\"data row6 col1\" >No</td>\n",
       "                        <td id=\"T_dd40bbe8_31f9_11ea_897f_50eb71c448ecrow6_col2\" class=\"data row6 col2\" >100.00%</td>\n",
       "                        <td id=\"T_dd40bbe8_31f9_11ea_897f_50eb71c448ecrow6_col3\" class=\"data row6 col3\" >None</td>\n",
       "            </tr>\n",
       "            <tr>\n",
       "                                <td id=\"T_dd40bbe8_31f9_11ea_897f_50eb71c448ecrow7_col0\" class=\"data row7 col0\" >CL_0960946</td>\n",
       "                        <td id=\"T_dd40bbe8_31f9_11ea_897f_50eb71c448ecrow7_col1\" class=\"data row7 col1\" >No</td>\n",
       "                        <td id=\"T_dd40bbe8_31f9_11ea_897f_50eb71c448ecrow7_col2\" class=\"data row7 col2\" >100.00%</td>\n",
       "                        <td id=\"T_dd40bbe8_31f9_11ea_897f_50eb71c448ecrow7_col3\" class=\"data row7 col3\" >None</td>\n",
       "            </tr>\n",
       "    </tbody></table>"
      ],
      "text/plain": [
       "<pandas.io.formats.style.Styler at 0x27556e68048>"
      ]
     },
     "execution_count": 25,
     "metadata": {},
     "output_type": "execute_result"
    }
   ],
   "source": [
    "# Get New Claims  \n",
    "new_data = conn.table('AUTO_CLAIMS_NEW', schema='APL_SAMPLES')\n",
    "# Apply Trained Model\n",
    "df = model.predict(new_data).collect()\n",
    "df.columns = ['Claim Id', 'Prediction', 'Probability', 'Actual']\n",
    "df.head(8).style.format({'Probability': '{:,.2%}'.format}).hide_index()"
   ]
  },
  {
   "cell_type": "code",
   "execution_count": null,
   "metadata": {},
   "outputs": [],
   "source": []
  }
 ],
 "metadata": {
  "kernelspec": {
   "display_name": "Python 3",
   "language": "python",
   "name": "python3"
  },
  "language_info": {
   "codemirror_mode": {
    "name": "ipython",
    "version": 3
   },
   "file_extension": ".py",
   "mimetype": "text/x-python",
   "name": "python",
   "nbconvert_exporter": "python",
   "pygments_lexer": "ipython3",
   "version": "3.7.4"
  }
 },
 "nbformat": 4,
 "nbformat_minor": 2
}
