{
 "cells": [
  {
   "cell_type": "markdown",
   "metadata": {},
   "source": [
    "# Python HANA ML API"
   ]
  },
  {
   "cell_type": "markdown",
   "metadata": {},
   "source": [
    "<div class=\"alert alert-block alert-info\">\n",
    "<b>Extracting information from a trained model.</b> <br>\n",
    "</div>"
   ]
  },
  {
   "cell_type": "markdown",
   "metadata": {},
   "source": [
    "## Train the model"
   ]
  },
  {
   "cell_type": "markdown",
   "metadata": {},
   "source": [
    "### Create an HANA Dataframe for the training data"
   ]
  },
  {
   "cell_type": "code",
   "execution_count": 1,
   "metadata": {},
   "outputs": [],
   "source": [
    "# Connect using the HANA secure user store\n",
    "from hana_ml import dataframe as hd\n",
    "conn = hd.ConnectionContext(userkey='MLMDA_KEY')\n",
    "# Get Training Data\n",
    "sql_cmd = 'SELECT * FROM \"APL_SAMPLES\".\"AUTO_CLAIMS_FRAUD\" ORDER BY CLAIM_ID'\n",
    "training_data = hd.DataFrame(conn, sql_cmd)"
   ]
  },
  {
   "cell_type": "markdown",
   "metadata": {},
   "source": [
    "### Put a subset of the data in a Pandas Dataframe and display it"
   ]
  },
  {
   "cell_type": "code",
   "execution_count": 2,
   "metadata": {},
   "outputs": [
    {
     "data": {
      "text/html": [
       "<div>\n",
       "<style scoped>\n",
       "    .dataframe tbody tr th:only-of-type {\n",
       "        vertical-align: middle;\n",
       "    }\n",
       "\n",
       "    .dataframe tbody tr th {\n",
       "        vertical-align: top;\n",
       "    }\n",
       "\n",
       "    .dataframe thead th {\n",
       "        text-align: right;\n",
       "    }\n",
       "</style>\n",
       "<table border=\"1\" class=\"dataframe\">\n",
       "  <thead>\n",
       "    <tr style=\"text-align: right;\">\n",
       "      <th></th>\n",
       "      <th>CLAIM_ID</th>\n",
       "      <th>DAYS_TO_REPORT</th>\n",
       "      <th>BODILY_INJURY_AMOUNT</th>\n",
       "      <th>PROPERTY_DAMAGE</th>\n",
       "      <th>PREVIOUS_CLAIMS</th>\n",
       "      <th>PAYMENT_METHOD</th>\n",
       "      <th>IS_REAR_END_COLLISION</th>\n",
       "      <th>PREM_AMOUNT</th>\n",
       "      <th>AGE</th>\n",
       "      <th>GENDER</th>\n",
       "      <th>MARITAL_STATUS</th>\n",
       "      <th>INCOME_ESTIMATE</th>\n",
       "      <th>INCOME_CATEGORY</th>\n",
       "      <th>POLICY_HOLDER</th>\n",
       "      <th>IS_FRAUD</th>\n",
       "    </tr>\n",
       "  </thead>\n",
       "  <tbody>\n",
       "    <tr>\n",
       "      <td>0</td>\n",
       "      <td>CL_0000765</td>\n",
       "      <td>8</td>\n",
       "      <td>0</td>\n",
       "      <td>1957</td>\n",
       "      <td>0</td>\n",
       "      <td>CC</td>\n",
       "      <td>No</td>\n",
       "      <td>Safedriving_discount</td>\n",
       "      <td>52</td>\n",
       "      <td>Male</td>\n",
       "      <td>Single</td>\n",
       "      <td>15906.0</td>\n",
       "      <td>15</td>\n",
       "      <td>Y</td>\n",
       "      <td>No</td>\n",
       "    </tr>\n",
       "    <tr>\n",
       "      <td>1</td>\n",
       "      <td>CL_0000832</td>\n",
       "      <td>30</td>\n",
       "      <td>2541</td>\n",
       "      <td>3843</td>\n",
       "      <td>0</td>\n",
       "      <td>CC</td>\n",
       "      <td>No</td>\n",
       "      <td>Safedriving_discount</td>\n",
       "      <td>85</td>\n",
       "      <td>Female</td>\n",
       "      <td>Single</td>\n",
       "      <td>91100.6</td>\n",
       "      <td>75</td>\n",
       "      <td>N</td>\n",
       "      <td>No</td>\n",
       "    </tr>\n",
       "    <tr>\n",
       "      <td>2</td>\n",
       "      <td>CL_0002015</td>\n",
       "      <td>4</td>\n",
       "      <td>0</td>\n",
       "      <td>25719</td>\n",
       "      <td>0</td>\n",
       "      <td>CC</td>\n",
       "      <td>No</td>\n",
       "      <td>Standard</td>\n",
       "      <td>45</td>\n",
       "      <td>Male</td>\n",
       "      <td>Married</td>\n",
       "      <td>67085.4</td>\n",
       "      <td>50</td>\n",
       "      <td>N</td>\n",
       "      <td>No</td>\n",
       "    </tr>\n",
       "    <tr>\n",
       "      <td>3</td>\n",
       "      <td>CL_0002854</td>\n",
       "      <td>0</td>\n",
       "      <td>0</td>\n",
       "      <td>83</td>\n",
       "      <td>1</td>\n",
       "      <td>Auto</td>\n",
       "      <td>No</td>\n",
       "      <td>Standard</td>\n",
       "      <td>75</td>\n",
       "      <td>Male</td>\n",
       "      <td>Married</td>\n",
       "      <td>49561.0</td>\n",
       "      <td>35</td>\n",
       "      <td>N</td>\n",
       "      <td>No</td>\n",
       "    </tr>\n",
       "    <tr>\n",
       "      <td>4</td>\n",
       "      <td>CL_0002869</td>\n",
       "      <td>22</td>\n",
       "      <td>0</td>\n",
       "      <td>1264</td>\n",
       "      <td>0</td>\n",
       "      <td>CC</td>\n",
       "      <td>Yes</td>\n",
       "      <td>Standard</td>\n",
       "      <td>48</td>\n",
       "      <td>Female</td>\n",
       "      <td>Married</td>\n",
       "      <td>39598.7</td>\n",
       "      <td>35</td>\n",
       "      <td>N</td>\n",
       "      <td>No</td>\n",
       "    </tr>\n",
       "  </tbody>\n",
       "</table>\n",
       "</div>"
      ],
      "text/plain": [
       "     CLAIM_ID  DAYS_TO_REPORT  BODILY_INJURY_AMOUNT  PROPERTY_DAMAGE  \\\n",
       "0  CL_0000765               8                     0             1957   \n",
       "1  CL_0000832              30                  2541             3843   \n",
       "2  CL_0002015               4                     0            25719   \n",
       "3  CL_0002854               0                     0               83   \n",
       "4  CL_0002869              22                     0             1264   \n",
       "\n",
       "   PREVIOUS_CLAIMS PAYMENT_METHOD IS_REAR_END_COLLISION           PREM_AMOUNT  \\\n",
       "0                0             CC                    No  Safedriving_discount   \n",
       "1                0             CC                    No  Safedriving_discount   \n",
       "2                0             CC                    No              Standard   \n",
       "3                1           Auto                    No              Standard   \n",
       "4                0             CC                   Yes              Standard   \n",
       "\n",
       "   AGE  GENDER MARITAL_STATUS  INCOME_ESTIMATE  INCOME_CATEGORY POLICY_HOLDER  \\\n",
       "0   52    Male         Single          15906.0               15             Y   \n",
       "1   85  Female         Single          91100.6               75             N   \n",
       "2   45    Male        Married          67085.4               50             N   \n",
       "3   75    Male        Married          49561.0               35             N   \n",
       "4   48  Female        Married          39598.7               35             N   \n",
       "\n",
       "  IS_FRAUD  \n",
       "0       No  \n",
       "1       No  \n",
       "2       No  \n",
       "3       No  \n",
       "4       No  "
      ]
     },
     "execution_count": 2,
     "metadata": {},
     "output_type": "execute_result"
    }
   ],
   "source": [
    "training_data.head(5).collect()"
   ]
  },
  {
   "cell_type": "markdown",
   "metadata": {},
   "source": [
    "### Build a Classification model with APL Ridge Regression"
   ]
  },
  {
   "cell_type": "code",
   "execution_count": 3,
   "metadata": {},
   "outputs": [],
   "source": [
    "# Create the model\n",
    "from hana_ml.algorithms.apl.classification import AutoClassifier\n",
    "model = AutoClassifier(conn_context=conn)\n",
    "# Train the model\n",
    "model.fit(training_data, label='IS_FRAUD', key='CLAIM_ID')"
   ]
  },
  {
   "cell_type": "markdown",
   "metadata": {},
   "source": [
    "## Debrief the trained model"
   ]
  },
  {
   "cell_type": "markdown",
   "metadata": {},
   "source": [
    "### Define a function to call APL_GET_MODEL_INFO"
   ]
  },
  {
   "cell_type": "code",
   "execution_count": 4,
   "metadata": {},
   "outputs": [],
   "source": [
    "def create_artifact_table(conn, table_name, table_spec):\n",
    "    conn = model.conn_context.connection\n",
    "    cursor = conn.cursor()\n",
    "    try:\n",
    "        cursor.execute(f'drop table {table_name}')\n",
    "    except:\n",
    "        pass\n",
    "    cursor.execute(f'create local temporary table {table_name} {table_spec}')"
   ]
  },
  {
   "cell_type": "code",
   "execution_count": 5,
   "metadata": {},
   "outputs": [],
   "source": [
    "def get_model_info(model):\n",
    "    conn = model.conn_context.connection\n",
    "    cursor = conn.cursor()\n",
    "\n",
    "    model_table_name = model.model_table_.name  # the temp table where the model is saved\n",
    "\n",
    "    # --- Create temp tables for input / output\n",
    "    create_artifact_table(conn=conn,\n",
    "                         table_name='#FUNC_HEADER',\n",
    "                         table_spec='(KEY NVARCHAR(50), VALUE NVARCHAR(255))')\n",
    "\n",
    "    create_artifact_table(conn=conn,\n",
    "                         table_name='#OPERATION_CONFIG',\n",
    "                         table_spec='(KEY NVARCHAR(1000), VALUE NCLOB, CONTEXT NVARCHAR(100))')\n",
    "\n",
    "    create_artifact_table(conn=conn,\n",
    "                         table_name='#SUMMARY',\n",
    "                         table_spec='(OID NVARCHAR(50), KEY NVARCHAR(100), VALUE NVARCHAR(100))')\n",
    "\n",
    "    create_artifact_table(conn=conn,\n",
    "                         table_name='#VARIABLE_ROLES_COMP',\n",
    "                         table_spec='(NAME NVARCHAR(255), ROLE NVARCHAR(10), COMPOSITION_TYPE VARCHAR(10), COMPONENT_NAME VARCHAR(255))')\n",
    "\n",
    "    create_artifact_table(conn=conn,\n",
    "                         table_name='#VARIABLE_DESC',\n",
    "                         table_spec='(RANK INTEGER,NAME VARCHAR(255),STORAGE VARCHAR(10),VALUETYPE VARCHAR(10),KEYLEVEL INTEGER,ORDERLEVEL INTEGER,MISSINGSTRING VARCHAR(255),GROUPNAME VARCHAR(255),DESCRIPTION VARCHAR(255), OID NVARCHAR(50))')\n",
    "\n",
    "    create_artifact_table(conn=conn,\n",
    "                         table_name='#INDICATORS_DATASET',\n",
    "                         table_spec='(OID VARCHAR(50),VARIABLE VARCHAR(255),TARGET VARCHAR(255),KEY VARCHAR(100),'\n",
    "                          'VALUE NCLOB,DETAIL NCLOB,DATASET VARCHAR(255))')\n",
    "\n",
    "    create_artifact_table(conn=conn,\n",
    "                         table_name='#PROFITCURVES',\n",
    "                         table_spec='(OID VARCHAR(50), TYPE VARCHAR(100), VARIABLE VARCHAR(255), TARGET VARCHAR(255), '\n",
    "                          '\"Label\" VARCHAR(255), \"Frequency\" VARCHAR(100), \"Random\" VARCHAR(100), \"Wizard\" VARCHAR(100), '\n",
    "                          '\"Estimation\" VARCHAR(100), \"Validation\" VARCHAR(100), \"Test\" VARCHAR(100), \"ApplyIn\" VARCHAR(100))')\n",
    "\n",
    "    create_artifact_table(conn=conn,\n",
    "                         table_name='#OUTPUT_TABLE_TYPE',\n",
    "                         table_spec='(OID VARCHAR(50), POSITION INTEGER, NAME VARCHAR(255), KIND VARCHAR(50), ' \n",
    "                          'PRECISION INTEGER, SCALE INTEGER, MAXIMUM_LENGTH INTEGER)')\n",
    "\n",
    "    # Call APL\n",
    "    sql = 'call \"_SYS_AFL\".APL_GET_MODEL_INFO(#FUNC_HEADER, {model_table_name}, #OPERATION_CONFIG, #SUMMARY, #VARIABLE_ROLES_COMP, #VARIABLE_DESC, #INDICATORS_DATASET, #PROFITCURVES) with overview'\n",
    "    sql = sql.format(model_table_name=model_table_name)\n",
    "    # print(sql)\n",
    "    cursor.execute(sql)"
   ]
  },
  {
   "cell_type": "markdown",
   "metadata": {},
   "source": [
    "### Calling APL_GET_MODEL_INFO"
   ]
  },
  {
   "cell_type": "code",
   "execution_count": 6,
   "metadata": {},
   "outputs": [],
   "source": [
    "get_model_info(model)"
   ]
  },
  {
   "cell_type": "markdown",
   "metadata": {},
   "source": [
    "### Put indicators data in a Pandas Dataframe"
   ]
  },
  {
   "cell_type": "code",
   "execution_count": 7,
   "metadata": {},
   "outputs": [],
   "source": [
    "sql_cmd = 'SELECT * FROM #INDICATORS_DATASET'\n",
    "indicators_data = hd.DataFrame(conn, sql_cmd)\n",
    "indicators_df = indicators_data.collect()"
   ]
  },
  {
   "cell_type": "markdown",
   "metadata": {},
   "source": [
    "### Show accuracy by partition"
   ]
  },
  {
   "cell_type": "code",
   "execution_count": 8,
   "metadata": {},
   "outputs": [
    {
     "data": {
      "text/html": [
       "<style  type=\"text/css\" >\n",
       "</style><table id=\"T_5ec10378_2be2_11ea_86ff_50eb71c448ec\" ><thead>    <tr>        <th class=\"col_heading level0 col0\" >Partition</th>        <th class=\"col_heading level0 col1\" >AUC</th>    </tr></thead><tbody>\n",
       "                <tr>\n",
       "                                <td id=\"T_5ec10378_2be2_11ea_86ff_50eb71c448ecrow0_col0\" class=\"data row0 col0\" >Estimation</td>\n",
       "                        <td id=\"T_5ec10378_2be2_11ea_86ff_50eb71c448ecrow0_col1\" class=\"data row0 col1\" >0.8098</td>\n",
       "            </tr>\n",
       "            <tr>\n",
       "                                <td id=\"T_5ec10378_2be2_11ea_86ff_50eb71c448ecrow1_col0\" class=\"data row1 col0\" >Validation</td>\n",
       "                        <td id=\"T_5ec10378_2be2_11ea_86ff_50eb71c448ecrow1_col1\" class=\"data row1 col1\" >0.8356</td>\n",
       "            </tr>\n",
       "    </tbody></table>"
      ],
      "text/plain": [
       "<pandas.io.formats.style.Styler at 0x1efc4b2f488>"
      ]
     },
     "execution_count": 8,
     "metadata": {},
     "output_type": "execute_result"
    }
   ],
   "source": [
    "df1 = indicators_df[(indicators_df.KEY=='AUC') & (indicators_df.VARIABLE=='rr_IS_FRAUD')].copy()\n",
    "df1['AUC'] = df1['VALUE'].astype(float).round(4)\n",
    "df1 = df1[['DATASET','AUC']]\n",
    "df1.columns = ['Partition', 'AUC']\n",
    "df1.style.hide_index()"
   ]
  },
  {
   "cell_type": "markdown",
   "metadata": {},
   "source": [
    "### Show Category Significance of a given variable in partition \"Validation\""
   ]
  },
  {
   "cell_type": "code",
   "execution_count": 9,
   "metadata": {},
   "outputs": [
    {
     "data": {
      "text/html": [
       "<style  type=\"text/css\" >\n",
       "</style><table id=\"T_5ec2ff4c_2be2_11ea_8abb_50eb71c448ec\" ><thead>    <tr>        <th class=\"col_heading level0 col0\" >Variable</th>        <th class=\"col_heading level0 col1\" >Category</th>        <th class=\"col_heading level0 col2\" >Significance</th>    </tr></thead><tbody>\n",
       "                <tr>\n",
       "                                <td id=\"T_5ec2ff4c_2be2_11ea_8abb_50eb71c448ecrow0_col0\" class=\"data row0 col0\" >BODILY_INJURY_AMOUNT</td>\n",
       "                        <td id=\"T_5ec2ff4c_2be2_11ea_8abb_50eb71c448ecrow0_col1\" class=\"data row0 col1\" >]2595 ; 29853]</td>\n",
       "                        <td id=\"T_5ec2ff4c_2be2_11ea_8abb_50eb71c448ecrow0_col2\" class=\"data row0 col2\" >0.4505</td>\n",
       "            </tr>\n",
       "            <tr>\n",
       "                                <td id=\"T_5ec2ff4c_2be2_11ea_8abb_50eb71c448ecrow1_col0\" class=\"data row1 col0\" >BODILY_INJURY_AMOUNT</td>\n",
       "                        <td id=\"T_5ec2ff4c_2be2_11ea_8abb_50eb71c448ecrow1_col1\" class=\"data row1 col1\" >]375 ; 2595]</td>\n",
       "                        <td id=\"T_5ec2ff4c_2be2_11ea_8abb_50eb71c448ecrow1_col2\" class=\"data row1 col2\" >-0.0003</td>\n",
       "            </tr>\n",
       "            <tr>\n",
       "                                <td id=\"T_5ec2ff4c_2be2_11ea_8abb_50eb71c448ecrow2_col0\" class=\"data row2 col0\" >BODILY_INJURY_AMOUNT</td>\n",
       "                        <td id=\"T_5ec2ff4c_2be2_11ea_8abb_50eb71c448ecrow2_col1\" class=\"data row2 col1\" >[0 ; 375]</td>\n",
       "                        <td id=\"T_5ec2ff4c_2be2_11ea_8abb_50eb71c448ecrow2_col2\" class=\"data row2 col2\" >-0.4502</td>\n",
       "            </tr>\n",
       "    </tbody></table>"
      ],
      "text/plain": [
       "<pandas.io.formats.style.Styler at 0x1efc4fff748>"
      ]
     },
     "execution_count": 9,
     "metadata": {},
     "output_type": "execute_result"
    }
   ],
   "source": [
    "df2 = indicators_df[(indicators_df.KEY=='GroupSignificance') & (indicators_df.DATASET=='Validation') & \n",
    "                    (indicators_df.VARIABLE=='BODILY_INJURY_AMOUNT')].copy()\n",
    "df2['Significance'] = df2['VALUE'].astype(float).round(4)\n",
    "df2 = df2[['VARIABLE','DETAIL','Significance']]\n",
    "df2.columns = ['Variable','Category','Significance']\n",
    "df2.sort_values(by=['Significance'], ascending=False).style.hide_index()"
   ]
  },
  {
   "cell_type": "code",
   "execution_count": null,
   "metadata": {},
   "outputs": [],
   "source": []
  }
 ],
 "metadata": {
  "kernelspec": {
   "display_name": "Python 3",
   "language": "python",
   "name": "python3"
  },
  "language_info": {
   "codemirror_mode": {
    "name": "ipython",
    "version": 3
   },
   "file_extension": ".py",
   "mimetype": "text/x-python",
   "name": "python",
   "nbconvert_exporter": "python",
   "pygments_lexer": "ipython3",
   "version": "3.7.4"
  }
 },
 "nbformat": 4,
 "nbformat_minor": 2
}
