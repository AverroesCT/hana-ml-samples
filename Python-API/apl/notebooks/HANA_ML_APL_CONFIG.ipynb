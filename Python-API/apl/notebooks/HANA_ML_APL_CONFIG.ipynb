{
 "cells": [
  {
   "cell_type": "markdown",
   "metadata": {},
   "source": [
    "# Check Config for Python HANA ML APL"
   ]
  },
  {
   "cell_type": "markdown",
   "metadata": {},
   "source": [
    "<div class=\"alert alert-block alert-info\">\n",
    "<b>Client side</b> <br>\n",
    "</div>"
   ]
  },
  {
   "cell_type": "markdown",
   "metadata": {},
   "source": [
    "### Python version"
   ]
  },
  {
   "cell_type": "code",
   "execution_count": 1,
   "metadata": {},
   "outputs": [
    {
     "name": "stdout",
     "output_type": "stream",
     "text": [
      "3.7.4\n"
     ]
    }
   ],
   "source": [
    "from platform import python_version\n",
    "print(python_version())"
   ]
  },
  {
   "cell_type": "markdown",
   "metadata": {},
   "source": [
    "### HANA ML API version"
   ]
  },
  {
   "cell_type": "code",
   "execution_count": 2,
   "metadata": {},
   "outputs": [
    {
     "name": "stdout",
     "output_type": "stream",
     "text": [
      "2.5.20062600\n"
     ]
    }
   ],
   "source": [
    "import hana_ml\n",
    "print(hana_ml.__version__)"
   ]
  },
  {
   "cell_type": "markdown",
   "metadata": {},
   "source": [
    "<div class=\"alert alert-block alert-info\">\n",
    "<b>Server side</b> <br>\n",
    "</div>"
   ]
  },
  {
   "cell_type": "markdown",
   "metadata": {},
   "source": [
    "### Versions of HANA database and APL"
   ]
  },
  {
   "cell_type": "code",
   "execution_count": 3,
   "metadata": {},
   "outputs": [
    {
     "data": {
      "text/html": [
       "<style  type=\"text/css\" >\n",
       "</style><table id=\"T_fa2c2a40_95e2_11ea_a49b_50eb71c448ec\" ><thead>    <tr>        <th class=\"col_heading level0 col0\" >Item</th>        <th class=\"col_heading level0 col1\" >Value</th>    </tr></thead><tbody>\n",
       "                <tr>\n",
       "                                <td id=\"T_fa2c2a40_95e2_11ea_a49b_50eb71c448ecrow0_col0\" class=\"data row0 col0\" >HDB.Version</td>\n",
       "                        <td id=\"T_fa2c2a40_95e2_11ea_a49b_50eb71c448ecrow0_col1\" class=\"data row0 col1\" >2.00.034.00.1539746999</td>\n",
       "            </tr>\n",
       "            <tr>\n",
       "                                <td id=\"T_fa2c2a40_95e2_11ea_a49b_50eb71c448ecrow1_col0\" class=\"data row1 col0\" >APL.Version.ServicePack</td>\n",
       "                        <td id=\"T_fa2c2a40_95e2_11ea_a49b_50eb71c448ecrow1_col1\" class=\"data row1 col1\" >2010</td>\n",
       "            </tr>\n",
       "    </tbody></table>"
      ],
      "text/plain": [
       "<pandas.io.formats.style.Styler at 0x219e84ea948>"
      ]
     },
     "execution_count": 3,
     "metadata": {},
     "output_type": "execute_result"
    }
   ],
   "source": [
    "# Connect using the HANA secure user store\n",
    "from hana_ml import dataframe as hd\n",
    "conn = hd.ConnectionContext(userkey='MLMDA_KEY')\n",
    "# Check versions\n",
    "import hana_ml.algorithms.apl.apl_base as apl_base\n",
    "df = apl_base.get_apl_version(conn)\n",
    "df = df[df.name.isin(['HDB.Version','APL.Version.ServicePack'])]\n",
    "df.columns = ['Item','Value']\n",
    "df.style.hide_index()"
   ]
  },
  {
   "cell_type": "markdown",
   "metadata": {},
   "source": [
    "### Main APL Functions"
   ]
  },
  {
   "cell_type": "code",
   "execution_count": 4,
   "metadata": {},
   "outputs": [
    {
     "data": {
      "text/html": [
       "<style  type=\"text/css\" >\n",
       "</style><table id=\"T_fa3856f4_95e2_11ea_80b1_50eb71c448ec\" ><thead>    <tr>        <th class=\"col_heading level0 col0\" >FUNCTION_NAME</th>    </tr></thead><tbody>\n",
       "                <tr>\n",
       "                                <td id=\"T_fa3856f4_95e2_11ea_80b1_50eb71c448ecrow0_col0\" class=\"data row0 col0\" >CREATE_MODEL_AND_TRAIN</td>\n",
       "            </tr>\n",
       "            <tr>\n",
       "                                <td id=\"T_fa3856f4_95e2_11ea_80b1_50eb71c448ecrow1_col0\" class=\"data row1 col0\" >APPLY_MODEL</td>\n",
       "            </tr>\n",
       "            <tr>\n",
       "                                <td id=\"T_fa3856f4_95e2_11ea_80b1_50eb71c448ecrow2_col0\" class=\"data row2 col0\" >FORECAST</td>\n",
       "            </tr>\n",
       "    </tbody></table>"
      ],
      "text/plain": [
       "<pandas.io.formats.style.Styler at 0x219e8b738c8>"
      ]
     },
     "execution_count": 4,
     "metadata": {},
     "output_type": "execute_result"
    }
   ],
   "source": [
    "cmd = \"select FUNCTION_NAME from SYS.AFL_FUNCTIONS where AREA_NAME='APL_AREA'\"\n",
    "hdf = conn.sql(cmd)\n",
    "df = hdf.filter(\"FUNCTION_NAME in ('CREATE_MODEL_AND_TRAIN','APPLY_MODEL','FORECAST')\").collect()\n",
    "df.style.hide_index()"
   ]
  },
  {
   "cell_type": "markdown",
   "metadata": {},
   "source": [
    "###  Roles Granted to the APL database user"
   ]
  },
  {
   "cell_type": "code",
   "execution_count": 5,
   "metadata": {},
   "outputs": [
    {
     "data": {
      "text/html": [
       "<style  type=\"text/css\" >\n",
       "</style><table id=\"T_fa4e7f2e_95e2_11ea_98fe_50eb71c448ec\" ><thead>    <tr>        <th class=\"col_heading level0 col0\" >GRANTOR</th>        <th class=\"col_heading level0 col1\" >GRANTEE</th>        <th class=\"col_heading level0 col2\" >GRANTEE_TYPE</th>        <th class=\"col_heading level0 col3\" >ROLE_NAME</th>    </tr></thead><tbody>\n",
       "                <tr>\n",
       "                                <td id=\"T_fa4e7f2e_95e2_11ea_98fe_50eb71c448ecrow0_col0\" class=\"data row0 col0\" >SYS</td>\n",
       "                        <td id=\"T_fa4e7f2e_95e2_11ea_98fe_50eb71c448ecrow0_col1\" class=\"data row0 col1\" >USER_APL</td>\n",
       "                        <td id=\"T_fa4e7f2e_95e2_11ea_98fe_50eb71c448ecrow0_col2\" class=\"data row0 col2\" >USER</td>\n",
       "                        <td id=\"T_fa4e7f2e_95e2_11ea_98fe_50eb71c448ecrow0_col3\" class=\"data row0 col3\" >PUBLIC</td>\n",
       "            </tr>\n",
       "            <tr>\n",
       "                                <td id=\"T_fa4e7f2e_95e2_11ea_98fe_50eb71c448ecrow1_col0\" class=\"data row1 col0\" >_SYS_REPO</td>\n",
       "                        <td id=\"T_fa4e7f2e_95e2_11ea_98fe_50eb71c448ecrow1_col1\" class=\"data row1 col1\" >USER_APL</td>\n",
       "                        <td id=\"T_fa4e7f2e_95e2_11ea_98fe_50eb71c448ecrow1_col2\" class=\"data row1 col2\" >USER</td>\n",
       "                        <td id=\"T_fa4e7f2e_95e2_11ea_98fe_50eb71c448ecrow1_col3\" class=\"data row1 col3\" >sap.pa.apl.base.roles::APL_EXECUTE</td>\n",
       "            </tr>\n",
       "    </tbody></table>"
      ],
      "text/plain": [
       "<pandas.io.formats.style.Styler at 0x219e84b3e88>"
      ]
     },
     "execution_count": 5,
     "metadata": {},
     "output_type": "execute_result"
    }
   ],
   "source": [
    "cmd = 'select GRANTOR, GRANTEE, GRANTEE_TYPE, ROLE_NAME from sys.granted_roles'\n",
    "hdf = conn.sql(cmd)\n",
    "hdf.collect().style.hide_index()"
   ]
  },
  {
   "cell_type": "markdown",
   "metadata": {},
   "source": [
    "### APL Samples Tables (optional)"
   ]
  },
  {
   "cell_type": "code",
   "execution_count": 6,
   "metadata": {},
   "outputs": [
    {
     "data": {
      "text/html": [
       "<style  type=\"text/css\" >\n",
       "</style><table id=\"T_fa562bf4_95e2_11ea_8cbc_50eb71c448ec\" ><thead>    <tr>        <th class=\"col_heading level0 col0\" >SCHEMA_NAME</th>        <th class=\"col_heading level0 col1\" >TABLE_NAME</th>    </tr></thead><tbody>\n",
       "                <tr>\n",
       "                                <td id=\"T_fa562bf4_95e2_11ea_8cbc_50eb71c448ecrow0_col0\" class=\"data row0 col0\" >APL_SAMPLES</td>\n",
       "                        <td id=\"T_fa562bf4_95e2_11ea_8cbc_50eb71c448ecrow0_col1\" class=\"data row0 col1\" >ADULT01</td>\n",
       "            </tr>\n",
       "            <tr>\n",
       "                                <td id=\"T_fa562bf4_95e2_11ea_8cbc_50eb71c448ecrow1_col0\" class=\"data row1 col0\" >APL_SAMPLES</td>\n",
       "                        <td id=\"T_fa562bf4_95e2_11ea_8cbc_50eb71c448ecrow1_col1\" class=\"data row1 col1\" >AUTO_CLAIMS_FRAUD</td>\n",
       "            </tr>\n",
       "            <tr>\n",
       "                                <td id=\"T_fa562bf4_95e2_11ea_8cbc_50eb71c448ecrow2_col0\" class=\"data row2 col0\" >APL_SAMPLES</td>\n",
       "                        <td id=\"T_fa562bf4_95e2_11ea_8cbc_50eb71c448ecrow2_col1\" class=\"data row2 col1\" >AUTO_CLAIMS_NEW</td>\n",
       "            </tr>\n",
       "            <tr>\n",
       "                                <td id=\"T_fa562bf4_95e2_11ea_8cbc_50eb71c448ecrow3_col0\" class=\"data row3 col0\" >APL_SAMPLES</td>\n",
       "                        <td id=\"T_fa562bf4_95e2_11ea_8cbc_50eb71c448ecrow3_col1\" class=\"data row3 col1\" >CASHFLOWS</td>\n",
       "            </tr>\n",
       "    </tbody></table>"
      ],
      "text/plain": [
       "<pandas.io.formats.style.Styler at 0x219e6c64108>"
      ]
     },
     "execution_count": 6,
     "metadata": {},
     "output_type": "execute_result"
    }
   ],
   "source": [
    "cmd = \"SELECT SCHEMA_NAME, TABLE_NAME FROM SYS.TABLES WHERE SCHEMA_NAME = 'APL_SAMPLES' ORDER BY 1,2\"\n",
    "hdf = conn.sql(cmd)\n",
    "hdf.head(4).collect().style.hide_index()"
   ]
  },
  {
   "cell_type": "code",
   "execution_count": null,
   "metadata": {},
   "outputs": [],
   "source": []
  }
 ],
 "metadata": {
  "kernelspec": {
   "display_name": "Python 3",
   "language": "python",
   "name": "python3"
  },
  "language_info": {
   "codemirror_mode": {
    "name": "ipython",
    "version": 3
   },
   "file_extension": ".py",
   "mimetype": "text/x-python",
   "name": "python",
   "nbconvert_exporter": "python",
   "pygments_lexer": "ipython3",
   "version": "3.7.4"
  }
 },
 "nbformat": 4,
 "nbformat_minor": 4
}
