{
 "cells": [
  {
   "cell_type": "markdown",
   "metadata": {},
   "source": [
    "# Python HANA ML APL Logger"
   ]
  },
  {
   "cell_type": "markdown",
   "metadata": {},
   "source": [
    "### Enable Trace"
   ]
  },
  {
   "cell_type": "code",
   "execution_count": 1,
   "metadata": {},
   "outputs": [],
   "source": [
    "import hana_ml.algorithms.apl.apl_base as apl_base\n",
    "import logging\n",
    "\n",
    "apl_base.config_logger( \n",
    "    log_path='C:/Users/Temp', \n",
    "    logfile_name='HANA_PYTHON_APL_TRACE',  \n",
    "    log_console=True,       \n",
    "    log_level=logging.INFO    # =logging.ERROR  # Disable \n",
    ")"
   ]
  },
  {
   "cell_type": "markdown",
   "metadata": {},
   "source": [
    "### Create an HANA Dataframe for the training data"
   ]
  },
  {
   "cell_type": "code",
   "execution_count": 2,
   "metadata": {},
   "outputs": [],
   "source": [
    "# Connect using the HANA secure user store\n",
    "from hana_ml import dataframe as hd\n",
    "conn = hd.ConnectionContext(userkey='MLMDA_KEY')\n",
    "# Get Training Data\n",
    "sql_cmd = 'SELECT * FROM \"APL_SAMPLES\".\"AUTO_CLAIMS_FRAUD\" ORDER BY CLAIM_ID'\n",
    "training_data = hd.DataFrame(conn, sql_cmd)"
   ]
  },
  {
   "cell_type": "markdown",
   "metadata": {},
   "source": [
    "### Build a Classification model with APL Gradient Boosting"
   ]
  },
  {
   "cell_type": "code",
   "execution_count": 3,
   "metadata": {},
   "outputs": [
    {
     "name": "stderr",
     "output_type": "stream",
     "text": [
      "2020-05-14 15:12:33,966 [MainThread  ] [INFO ]  Executing SQL: select VERSION from SYS.M_DATABASE\n",
      "2020-05-14 15:12:33,997 [MainThread  ] [INFO ]  Executing SQL: DROP TABLE \"#PING_OUTPUT50A22FB9_41E3_40DB_9314_0D8E98E046E0_0\"\n",
      "2020-05-14 15:12:34,020 [MainThread  ] [INFO ]  Executing SQL: CREATE LOCAL TEMPORARY COLUMN TABLE \"#PING_OUTPUT50A22FB9_41E3_40DB_9314_0D8E98E046E0_0\" (\"name\" NVARCHAR(128), \"value\" NCLOB)\n",
      "2020-05-14 15:12:34,046 [MainThread  ] [INFO ]  Executing SQL: CALL _SYS_AFL.\"APL_AREA_PING_PROC\"( \"#PING_OUTPUT50A22FB9_41E3_40DB_9314_0D8E98E046E0_0\" ) WITH OVERVIEW\n",
      "2020-05-14 15:12:34,301 [MainThread  ] [INFO ]  Executing SQL: DROP VIEW \"TRAIN_DATA_VIEW_50A22FB9_41E3_40DB_9314_0D8E98E046E0_0\"\n",
      "2020-05-14 15:12:34,325 [MainThread  ] [INFO ]  Executing SQL: CREATE VIEW \"TRAIN_DATA_VIEW_50A22FB9_41E3_40DB_9314_0D8E98E046E0_0\" AS (SELECT \"CLAIM_ID\", \"DAYS_TO_REPORT\", \"BODILY_INJURY_AMOUNT\", \"PROPERTY_DAMAGE\", \"PREVIOUS_CLAIMS\", \"PAYMENT_METHOD\", \"IS_REAR_END_COLLISION\", \"PREM_AMOUNT\", \"AGE\", \"GENDER\", \"MARITAL_STATUS\", \"INCOME_ESTIMATE\", \"INCOME_CATEGORY\", \"POLICY_HOLDER\", \"IS_FRAUD\" FROM (SELECT * FROM \"APL_SAMPLES\".\"AUTO_CLAIMS_FRAUD\" ORDER BY CLAIM_ID))\n",
      "2020-05-14 15:12:34,365 [MainThread  ] [INFO ]  Executing SQL: DROP TABLE \"#FUNC_HEADER_50A22FB9_41E3_40DB_9314_0D8E98E046E0_0\"\n",
      "2020-05-14 15:12:34,389 [MainThread  ] [INFO ]  Executing SQL: CREATE LOCAL TEMPORARY COLUMN TABLE \"#FUNC_HEADER_50A22FB9_41E3_40DB_9314_0D8E98E046E0_0\" (KEY NVARCHAR(50), VALUE NVARCHAR(255))\n",
      "2020-05-14 15:12:34,417 [MainThread  ] [INFO ]  Prepare SQL: INSERT INTO \"#FUNC_HEADER_50A22FB9_41E3_40DB_9314_0D8E98E046E0_0\" VALUES (?, ?)\n",
      "2020-05-14 15:12:34,420 [MainThread  ] [INFO ]  Executing SQL: INSERT INTO \"#FUNC_HEADER_50A22FB9_41E3_40DB_9314_0D8E98E046E0_0\" values ('Oid', '50A22FB9_41E3_40DB_9314_0D8E98E046E0_0')\n",
      "2020-05-14 15:12:34,424 [MainThread  ] [INFO ]  Executing SQL: INSERT INTO \"#FUNC_HEADER_50A22FB9_41E3_40DB_9314_0D8E98E046E0_0\" values ('LogLevel', '8')\n",
      "2020-05-14 15:12:34,429 [MainThread  ] [INFO ]  Executing SQL: INSERT INTO \"#FUNC_HEADER_50A22FB9_41E3_40DB_9314_0D8E98E046E0_0\" values ('ModelFormat', 'bin')\n",
      "2020-05-14 15:12:34,433 [MainThread  ] [INFO ]  Executing SQL: INSERT INTO \"#FUNC_HEADER_50A22FB9_41E3_40DB_9314_0D8E98E046E0_0\" values ('Language', 'en')\n",
      "2020-05-14 15:12:34,531 [MainThread  ] [INFO ]  Executing SQL: DROP TABLE \"#GUESSVAR_CONFIG_50A22FB9_41E3_40DB_9314_0D8E98E046E0_0\"\n",
      "2020-05-14 15:12:34,557 [MainThread  ] [INFO ]  Executing SQL: CREATE LOCAL TEMPORARY COLUMN TABLE \"#GUESSVAR_CONFIG_50A22FB9_41E3_40DB_9314_0D8E98E046E0_0\" (KEY NVARCHAR(1000), VALUE NCLOB, CONTEXT NVARCHAR(100))\n",
      "2020-05-14 15:12:34,584 [MainThread  ] [INFO ]  Prepare SQL: INSERT INTO \"#GUESSVAR_CONFIG_50A22FB9_41E3_40DB_9314_0D8E98E046E0_0\" VALUES (?, ?, ?)\n",
      "2020-05-14 15:12:34,586 [MainThread  ] [INFO ]  Executing SQL: INSERT INTO \"#GUESSVAR_CONFIG_50A22FB9_41E3_40DB_9314_0D8E98E046E0_0\" values ('APL/ModelType', 'regression/classification', None)\n",
      "2020-05-14 15:12:34,645 [MainThread  ] [INFO ]  Executing SQL: DROP TABLE \"#GUESSVAR_MODEL_TRAIN_BIN_50A22FB9_41E3_40DB_9314_0D8E98E046E0_0\"\n",
      "2020-05-14 15:12:34,674 [MainThread  ] [INFO ]  Executing SQL: CREATE LOCAL TEMPORARY COLUMN TABLE \"#GUESSVAR_MODEL_TRAIN_BIN_50A22FB9_41E3_40DB_9314_0D8E98E046E0_0\" (OID NVARCHAR(50), FORMAT NVARCHAR(50), LOB CLOB)\n",
      "2020-05-14 15:12:34,698 [MainThread  ] [INFO ]  Executing SQL: DROP TABLE \"#VARIABLE_DESC_50A22FB9_41E3_40DB_9314_0D8E98E046E0_0\"\n",
      "2020-05-14 15:12:34,719 [MainThread  ] [INFO ]  Executing SQL: CREATE LOCAL TEMPORARY COLUMN TABLE \"#VARIABLE_DESC_50A22FB9_41E3_40DB_9314_0D8E98E046E0_0\" (RANK INT, NAME NVARCHAR(127), STORAGE NVARCHAR(10), VALUETYPE NVARCHAR(10), KEYLEVEL INT, ORDERLEVEL INT, MISSINGSTRING NVARCHAR(255), GROUPNAME NVARCHAR(255), DESCRIPTION NVARCHAR(255), OID NVARCHAR(50))\n",
      "2020-05-14 15:12:34,741 [MainThread  ] [INFO ]  Executing SQL: CALL _SYS_AFL.\"APL_CREATE_MODEL\"( \"#FUNC_HEADER_50A22FB9_41E3_40DB_9314_0D8E98E046E0_0\", \"#GUESSVAR_CONFIG_50A22FB9_41E3_40DB_9314_0D8E98E046E0_0\", \"TRAIN_DATA_VIEW_50A22FB9_41E3_40DB_9314_0D8E98E046E0_0\", \"#GUESSVAR_MODEL_TRAIN_BIN_50A22FB9_41E3_40DB_9314_0D8E98E046E0_0\", \"#VARIABLE_DESC_50A22FB9_41E3_40DB_9314_0D8E98E046E0_0\" ) WITH OVERVIEW\n",
      "2020-05-14 15:12:34,949 [MainThread  ] [INFO ]  Executing SQL: DROP TABLE \"#FUNC_HEADER_50A22FB9_41E3_40DB_9314_0D8E98E046E0_0\"\n",
      "2020-05-14 15:12:34,973 [MainThread  ] [INFO ]  Executing SQL: CREATE LOCAL TEMPORARY COLUMN TABLE \"#FUNC_HEADER_50A22FB9_41E3_40DB_9314_0D8E98E046E0_0\" (KEY NVARCHAR(50), VALUE NVARCHAR(255))\n",
      "2020-05-14 15:12:34,997 [MainThread  ] [INFO ]  Prepare SQL: INSERT INTO \"#FUNC_HEADER_50A22FB9_41E3_40DB_9314_0D8E98E046E0_0\" VALUES (?, ?)\n",
      "2020-05-14 15:12:34,999 [MainThread  ] [INFO ]  Executing SQL: INSERT INTO \"#FUNC_HEADER_50A22FB9_41E3_40DB_9314_0D8E98E046E0_0\" values ('Oid', '50A22FB9_41E3_40DB_9314_0D8E98E046E0_0')\n",
      "2020-05-14 15:12:35,003 [MainThread  ] [INFO ]  Executing SQL: INSERT INTO \"#FUNC_HEADER_50A22FB9_41E3_40DB_9314_0D8E98E046E0_0\" values ('LogLevel', '8')\n",
      "2020-05-14 15:12:35,006 [MainThread  ] [INFO ]  Executing SQL: INSERT INTO \"#FUNC_HEADER_50A22FB9_41E3_40DB_9314_0D8E98E046E0_0\" values ('ModelFormat', 'bin')\n",
      "2020-05-14 15:12:35,008 [MainThread  ] [INFO ]  Executing SQL: INSERT INTO \"#FUNC_HEADER_50A22FB9_41E3_40DB_9314_0D8E98E046E0_0\" values ('Language', 'en')\n",
      "2020-05-14 15:12:35,066 [MainThread  ] [INFO ]  Executing SQL: DROP TABLE \"#CREATE_AND_TRAIN_CONFIG_50A22FB9_41E3_40DB_9314_0D8E98E046E0_0\"\n",
      "2020-05-14 15:12:35,088 [MainThread  ] [INFO ]  Executing SQL: CREATE LOCAL TEMPORARY COLUMN TABLE \"#CREATE_AND_TRAIN_CONFIG_50A22FB9_41E3_40DB_9314_0D8E98E046E0_0\" (KEY NVARCHAR(1000), VALUE NCLOB, CONTEXT NVARCHAR(100))\n",
      "2020-05-14 15:12:35,111 [MainThread  ] [INFO ]  Prepare SQL: INSERT INTO \"#CREATE_AND_TRAIN_CONFIG_50A22FB9_41E3_40DB_9314_0D8E98E046E0_0\" VALUES (?, ?, ?)\n",
      "2020-05-14 15:12:35,113 [MainThread  ] [INFO ]  Executing SQL: INSERT INTO \"#CREATE_AND_TRAIN_CONFIG_50A22FB9_41E3_40DB_9314_0D8E98E046E0_0\" values ('APL/ModelType', 'binary classification', None)\n",
      "2020-05-14 15:12:35,115 [MainThread  ] [INFO ]  Executing SQL: INSERT INTO \"#CREATE_AND_TRAIN_CONFIG_50A22FB9_41E3_40DB_9314_0D8E98E046E0_0\" values ('APL/AlgorithmName', 'GradientBoosting', None)\n",
      "2020-05-14 15:12:35,119 [MainThread  ] [INFO ]  Executing SQL: INSERT INTO \"#CREATE_AND_TRAIN_CONFIG_50A22FB9_41E3_40DB_9314_0D8E98E046E0_0\" values ('APL/EarlyStoppingPatience', '10', None)\n",
      "2020-05-14 15:12:35,122 [MainThread  ] [INFO ]  Executing SQL: INSERT INTO \"#CREATE_AND_TRAIN_CONFIG_50A22FB9_41E3_40DB_9314_0D8E98E046E0_0\" values ('APL/EvalMetric', 'AUC', None)\n",
      "2020-05-14 15:12:35,124 [MainThread  ] [INFO ]  Executing SQL: INSERT INTO \"#CREATE_AND_TRAIN_CONFIG_50A22FB9_41E3_40DB_9314_0D8E98E046E0_0\" values ('APL/LearningRate', '0.05', None)\n",
      "2020-05-14 15:12:35,126 [MainThread  ] [INFO ]  Executing SQL: INSERT INTO \"#CREATE_AND_TRAIN_CONFIG_50A22FB9_41E3_40DB_9314_0D8E98E046E0_0\" values ('APL/MaxDepth', '4', None)\n",
      "2020-05-14 15:12:35,129 [MainThread  ] [INFO ]  Executing SQL: INSERT INTO \"#CREATE_AND_TRAIN_CONFIG_50A22FB9_41E3_40DB_9314_0D8E98E046E0_0\" values ('APL/MaxIterations', '1000', None)\n",
      "2020-05-14 15:12:35,188 [MainThread  ] [INFO ]  Executing SQL: DROP TABLE \"#VARIABLE_DESC_50A22FB9_41E3_40DB_9314_0D8E98E046E0_0\"\n",
      "2020-05-14 15:12:35,212 [MainThread  ] [INFO ]  Executing SQL: CREATE LOCAL TEMPORARY COLUMN TABLE \"#VARIABLE_DESC_50A22FB9_41E3_40DB_9314_0D8E98E046E0_0\" (RANK INT, NAME NVARCHAR(127), STORAGE NVARCHAR(10), VALUETYPE NVARCHAR(10), KEYLEVEL INT, ORDERLEVEL INT, MISSINGSTRING NVARCHAR(255), GROUPNAME NVARCHAR(255), DESCRIPTION NVARCHAR(255), OID NVARCHAR(50))\n",
      "2020-05-14 15:12:35,234 [MainThread  ] [INFO ]  Prepare SQL: INSERT INTO \"#VARIABLE_DESC_50A22FB9_41E3_40DB_9314_0D8E98E046E0_0\" VALUES (?, ?, ?, ?, ?, ?, ?, ?, ?, ?)\n",
      "2020-05-14 15:12:35,237 [MainThread  ] [INFO ]  Executing SQL: INSERT INTO \"#VARIABLE_DESC_50A22FB9_41E3_40DB_9314_0D8E98E046E0_0\" values (0, 'CLAIM_ID', 'string', 'nominal', 1, 0, None, None, None, '50A22FB9_41E3_40DB_9314_0D8E98E046E0_0')\n",
      "2020-05-14 15:12:35,239 [MainThread  ] [INFO ]  Executing SQL: INSERT INTO \"#VARIABLE_DESC_50A22FB9_41E3_40DB_9314_0D8E98E046E0_0\" values (1, 'DAYS_TO_REPORT', 'integer', 'continuous', 0, 0, None, None, None, '50A22FB9_41E3_40DB_9314_0D8E98E046E0_0')\n"
     ]
    },
    {
     "name": "stderr",
     "output_type": "stream",
     "text": [
      "2020-05-14 15:12:35,242 [MainThread  ] [INFO ]  Executing SQL: INSERT INTO \"#VARIABLE_DESC_50A22FB9_41E3_40DB_9314_0D8E98E046E0_0\" values (2, 'BODILY_INJURY_AMOUNT', 'integer', 'continuous', 0, 0, None, None, None, '50A22FB9_41E3_40DB_9314_0D8E98E046E0_0')\n",
      "2020-05-14 15:12:35,244 [MainThread  ] [INFO ]  Executing SQL: INSERT INTO \"#VARIABLE_DESC_50A22FB9_41E3_40DB_9314_0D8E98E046E0_0\" values (3, 'PROPERTY_DAMAGE', 'integer', 'continuous', 0, 0, None, None, None, '50A22FB9_41E3_40DB_9314_0D8E98E046E0_0')\n",
      "2020-05-14 15:12:35,246 [MainThread  ] [INFO ]  Executing SQL: INSERT INTO \"#VARIABLE_DESC_50A22FB9_41E3_40DB_9314_0D8E98E046E0_0\" values (4, 'PREVIOUS_CLAIMS', 'integer', 'ordinal', 0, 0, None, None, None, '50A22FB9_41E3_40DB_9314_0D8E98E046E0_0')\n",
      "2020-05-14 15:12:35,251 [MainThread  ] [INFO ]  Executing SQL: INSERT INTO \"#VARIABLE_DESC_50A22FB9_41E3_40DB_9314_0D8E98E046E0_0\" values (5, 'PAYMENT_METHOD', 'string', 'nominal', 0, 0, None, None, None, '50A22FB9_41E3_40DB_9314_0D8E98E046E0_0')\n",
      "2020-05-14 15:12:35,253 [MainThread  ] [INFO ]  Executing SQL: INSERT INTO \"#VARIABLE_DESC_50A22FB9_41E3_40DB_9314_0D8E98E046E0_0\" values (6, 'IS_REAR_END_COLLISION', 'string', 'nominal', 0, 0, None, None, None, '50A22FB9_41E3_40DB_9314_0D8E98E046E0_0')\n",
      "2020-05-14 15:12:35,255 [MainThread  ] [INFO ]  Executing SQL: INSERT INTO \"#VARIABLE_DESC_50A22FB9_41E3_40DB_9314_0D8E98E046E0_0\" values (7, 'PREM_AMOUNT', 'string', 'nominal', 0, 0, None, None, None, '50A22FB9_41E3_40DB_9314_0D8E98E046E0_0')\n",
      "2020-05-14 15:12:35,257 [MainThread  ] [INFO ]  Executing SQL: INSERT INTO \"#VARIABLE_DESC_50A22FB9_41E3_40DB_9314_0D8E98E046E0_0\" values (8, 'AGE', 'integer', 'continuous', 0, 0, None, None, None, '50A22FB9_41E3_40DB_9314_0D8E98E046E0_0')\n",
      "2020-05-14 15:12:35,259 [MainThread  ] [INFO ]  Executing SQL: INSERT INTO \"#VARIABLE_DESC_50A22FB9_41E3_40DB_9314_0D8E98E046E0_0\" values (9, 'GENDER', 'string', 'nominal', 0, 0, None, None, None, '50A22FB9_41E3_40DB_9314_0D8E98E046E0_0')\n",
      "2020-05-14 15:12:35,261 [MainThread  ] [INFO ]  Executing SQL: INSERT INTO \"#VARIABLE_DESC_50A22FB9_41E3_40DB_9314_0D8E98E046E0_0\" values (10, 'MARITAL_STATUS', 'string', 'nominal', 0, 0, None, None, None, '50A22FB9_41E3_40DB_9314_0D8E98E046E0_0')\n",
      "2020-05-14 15:12:35,262 [MainThread  ] [INFO ]  Executing SQL: INSERT INTO \"#VARIABLE_DESC_50A22FB9_41E3_40DB_9314_0D8E98E046E0_0\" values (11, 'INCOME_ESTIMATE', 'number', 'continuous', 0, 0, None, None, None, '50A22FB9_41E3_40DB_9314_0D8E98E046E0_0')\n",
      "2020-05-14 15:12:35,264 [MainThread  ] [INFO ]  Executing SQL: INSERT INTO \"#VARIABLE_DESC_50A22FB9_41E3_40DB_9314_0D8E98E046E0_0\" values (12, 'INCOME_CATEGORY', 'integer', 'ordinal', 0, 0, None, None, None, '50A22FB9_41E3_40DB_9314_0D8E98E046E0_0')\n",
      "2020-05-14 15:12:35,266 [MainThread  ] [INFO ]  Executing SQL: INSERT INTO \"#VARIABLE_DESC_50A22FB9_41E3_40DB_9314_0D8E98E046E0_0\" values (13, 'POLICY_HOLDER', 'string', 'nominal', 0, 0, None, None, None, '50A22FB9_41E3_40DB_9314_0D8E98E046E0_0')\n",
      "2020-05-14 15:12:35,267 [MainThread  ] [INFO ]  Executing SQL: INSERT INTO \"#VARIABLE_DESC_50A22FB9_41E3_40DB_9314_0D8E98E046E0_0\" values (14, 'IS_FRAUD', 'string', 'nominal', 0, 0, None, None, None, '50A22FB9_41E3_40DB_9314_0D8E98E046E0_0')\n",
      "2020-05-14 15:12:35,328 [MainThread  ] [INFO ]  Executing SQL: DROP TABLE \"#VARIABLE_ROLES_50A22FB9_41E3_40DB_9314_0D8E98E046E0_0\"\n",
      "2020-05-14 15:12:35,350 [MainThread  ] [INFO ]  Executing SQL: CREATE LOCAL TEMPORARY COLUMN TABLE \"#VARIABLE_ROLES_50A22FB9_41E3_40DB_9314_0D8E98E046E0_0\" ( NAME NVARCHAR(127), ROLE NVARCHAR(10), COMPOSITION_TYPE NVARCHAR(10), COMPONENT_NAME NVARCHAR(127), OID NVARCHAR(50))\n",
      "2020-05-14 15:12:35,376 [MainThread  ] [INFO ]  Prepare SQL: INSERT INTO \"#VARIABLE_ROLES_50A22FB9_41E3_40DB_9314_0D8E98E046E0_0\" VALUES (?, ?, ?, ?, ?)\n",
      "2020-05-14 15:12:35,379 [MainThread  ] [INFO ]  Executing SQL: INSERT INTO \"#VARIABLE_ROLES_50A22FB9_41E3_40DB_9314_0D8E98E046E0_0\" values ('IS_FRAUD', 'target', None, None, None)\n",
      "2020-05-14 15:12:35,383 [MainThread  ] [INFO ]  Executing SQL: INSERT INTO \"#VARIABLE_ROLES_50A22FB9_41E3_40DB_9314_0D8E98E046E0_0\" values ('CLAIM_ID', 'skip', None, None, None)\n",
      "2020-05-14 15:12:35,459 [MainThread  ] [INFO ]  Executing SQL: DROP TABLE \"#MODEL_TRAIN_BIN_50A22FB9_41E3_40DB_9314_0D8E98E046E0_0\"\n",
      "2020-05-14 15:12:35,483 [MainThread  ] [INFO ]  Executing SQL: CREATE LOCAL TEMPORARY COLUMN TABLE \"#MODEL_TRAIN_BIN_50A22FB9_41E3_40DB_9314_0D8E98E046E0_0\" (OID NVARCHAR(50), FORMAT NVARCHAR(50), LOB CLOB)\n",
      "2020-05-14 15:12:35,513 [MainThread  ] [INFO ]  Executing SQL: DROP TABLE \"#FIT_LOG_50A22FB9_41E3_40DB_9314_0D8E98E046E0_0\"\n",
      "2020-05-14 15:12:35,532 [MainThread  ] [INFO ]  Executing SQL: CREATE LOCAL TEMPORARY COLUMN TABLE \"#FIT_LOG_50A22FB9_41E3_40DB_9314_0D8E98E046E0_0\" (OID NVARCHAR(50), TIMESTAMP LONGDATE, LEVEL INT, ORIGIN NVARCHAR(50), MESSAGE NCLOB)\n",
      "2020-05-14 15:12:35,557 [MainThread  ] [INFO ]  Executing SQL: DROP TABLE \"#SUMMARY_50A22FB9_41E3_40DB_9314_0D8E98E046E0_0\"\n",
      "2020-05-14 15:12:35,579 [MainThread  ] [INFO ]  Executing SQL: CREATE LOCAL TEMPORARY COLUMN TABLE \"#SUMMARY_50A22FB9_41E3_40DB_9314_0D8E98E046E0_0\" (OID NVARCHAR(50), KEY NVARCHAR(100), VALUE NVARCHAR(200))\n",
      "2020-05-14 15:12:35,604 [MainThread  ] [INFO ]  Executing SQL: DROP TABLE \"#INDICATORS_50A22FB9_41E3_40DB_9314_0D8E98E046E0_0\"\n",
      "2020-05-14 15:12:35,626 [MainThread  ] [INFO ]  Executing SQL: CREATE LOCAL TEMPORARY COLUMN TABLE \"#INDICATORS_50A22FB9_41E3_40DB_9314_0D8E98E046E0_0\" (OID NVARCHAR(50), VARIABLE NVARCHAR(127), TARGET NVARCHAR(127), KEY NVARCHAR(127), VALUE NCLOB, DETAIL NCLOB)\n",
      "2020-05-14 15:12:35,649 [MainThread  ] [INFO ]  Executing SQL: CALL _SYS_AFL.\"APL_CREATE_MODEL_AND_TRAIN\"( \"#FUNC_HEADER_50A22FB9_41E3_40DB_9314_0D8E98E046E0_0\", \"#CREATE_AND_TRAIN_CONFIG_50A22FB9_41E3_40DB_9314_0D8E98E046E0_0\", \"#VARIABLE_DESC_50A22FB9_41E3_40DB_9314_0D8E98E046E0_0\", \"#VARIABLE_ROLES_50A22FB9_41E3_40DB_9314_0D8E98E046E0_0\", \"TRAIN_DATA_VIEW_50A22FB9_41E3_40DB_9314_0D8E98E046E0_0\", \"#MODEL_TRAIN_BIN_50A22FB9_41E3_40DB_9314_0D8E98E046E0_0\", \"#FIT_LOG_50A22FB9_41E3_40DB_9314_0D8E98E046E0_0\", \"#SUMMARY_50A22FB9_41E3_40DB_9314_0D8E98E046E0_0\", \"#INDICATORS_50A22FB9_41E3_40DB_9314_0D8E98E046E0_0\" ) WITH OVERVIEW\n",
      "2020-05-14 15:12:36,845 [MainThread  ] [INFO ]  Executing SQL: DROP VIEW \"TRAIN_DATA_VIEW_50A22FB9_41E3_40DB_9314_0D8E98E046E0_0\"\n"
     ]
    }
   ],
   "source": [
    "# Create the model  \n",
    "from hana_ml.algorithms.apl.gradient_boosting_classification import GradientBoostingBinaryClassifier\n",
    "model = GradientBoostingBinaryClassifier(eval_metric = 'AUC')\n",
    "# Train the model\n",
    "model.fit(training_data, label='IS_FRAUD', key='CLAIM_ID')"
   ]
  },
  {
   "cell_type": "code",
   "execution_count": null,
   "metadata": {},
   "outputs": [],
   "source": []
  }
 ],
 "metadata": {
  "kernelspec": {
   "display_name": "Python 3",
   "language": "python",
   "name": "python3"
  },
  "language_info": {
   "codemirror_mode": {
    "name": "ipython",
    "version": 3
   },
   "file_extension": ".py",
   "mimetype": "text/x-python",
   "name": "python",
   "nbconvert_exporter": "python",
   "pygments_lexer": "ipython3",
   "version": "3.7.4"
  }
 },
 "nbformat": 4,
 "nbformat_minor": 4
}
