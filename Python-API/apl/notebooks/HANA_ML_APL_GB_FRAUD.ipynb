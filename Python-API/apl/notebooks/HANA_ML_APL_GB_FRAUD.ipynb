{
 "cells": [
  {
   "cell_type": "markdown",
   "metadata": {},
   "source": [
    "# Python HANA ML API"
   ]
  },
  {
   "cell_type": "markdown",
   "metadata": {},
   "source": [
    "<div class=\"alert alert-block alert-info\">\n",
    "<b>Building a Predictive Model for Insurance Fraud Detection.</b> <br>\n",
    "</div>"
   ]
  },
  {
   "cell_type": "markdown",
   "metadata": {},
   "source": [
    "## Learn from historical Insurance Claims"
   ]
  },
  {
   "cell_type": "markdown",
   "metadata": {},
   "source": [
    "### Create an HANA Dataframe for the training data"
   ]
  },
  {
   "cell_type": "code",
   "execution_count": 13,
   "metadata": {},
   "outputs": [],
   "source": [
    "# Connect using the HANA secure user store\n",
    "from hana_ml import dataframe as hd\n",
    "conn = hd.ConnectionContext(userkey='MLMDA_KEY')\n",
    "# Get Training Data\n",
    "sql_cmd = 'SELECT * FROM \"APL_SAMPLES\".\"AUTO_CLAIMS_FRAUD\" ORDER BY CLAIM_ID'\n",
    "training_data = hd.DataFrame(conn, sql_cmd)"
   ]
  },
  {
   "cell_type": "markdown",
   "metadata": {},
   "source": [
    "### Put a subset of the data in a Pandas Dataframe and display it"
   ]
  },
  {
   "cell_type": "code",
   "execution_count": 14,
   "metadata": {},
   "outputs": [
    {
     "data": {
      "text/html": [
       "<div>\n",
       "<style scoped>\n",
       "    .dataframe tbody tr th:only-of-type {\n",
       "        vertical-align: middle;\n",
       "    }\n",
       "\n",
       "    .dataframe tbody tr th {\n",
       "        vertical-align: top;\n",
       "    }\n",
       "\n",
       "    .dataframe thead th {\n",
       "        text-align: right;\n",
       "    }\n",
       "</style>\n",
       "<table border=\"1\" class=\"dataframe\">\n",
       "  <thead>\n",
       "    <tr style=\"text-align: right;\">\n",
       "      <th></th>\n",
       "      <th>CLAIM_ID</th>\n",
       "      <th>DAYS_TO_REPORT</th>\n",
       "      <th>BODILY_INJURY_AMOUNT</th>\n",
       "      <th>PROPERTY_DAMAGE</th>\n",
       "      <th>PREVIOUS_CLAIMS</th>\n",
       "      <th>PAYMENT_METHOD</th>\n",
       "      <th>IS_REAR_END_COLLISION</th>\n",
       "      <th>PREM_AMOUNT</th>\n",
       "      <th>AGE</th>\n",
       "      <th>GENDER</th>\n",
       "      <th>MARITAL_STATUS</th>\n",
       "      <th>INCOME_ESTIMATE</th>\n",
       "      <th>INCOME_CATEGORY</th>\n",
       "      <th>POLICY_HOLDER</th>\n",
       "      <th>IS_FRAUD</th>\n",
       "    </tr>\n",
       "  </thead>\n",
       "  <tbody>\n",
       "    <tr>\n",
       "      <td>0</td>\n",
       "      <td>CL_0000765</td>\n",
       "      <td>8</td>\n",
       "      <td>0</td>\n",
       "      <td>1957</td>\n",
       "      <td>0</td>\n",
       "      <td>CC</td>\n",
       "      <td>No</td>\n",
       "      <td>Safedriving_discount</td>\n",
       "      <td>52</td>\n",
       "      <td>Male</td>\n",
       "      <td>Single</td>\n",
       "      <td>15906.0</td>\n",
       "      <td>15</td>\n",
       "      <td>Y</td>\n",
       "      <td>No</td>\n",
       "    </tr>\n",
       "    <tr>\n",
       "      <td>1</td>\n",
       "      <td>CL_0000832</td>\n",
       "      <td>30</td>\n",
       "      <td>2541</td>\n",
       "      <td>3843</td>\n",
       "      <td>0</td>\n",
       "      <td>CC</td>\n",
       "      <td>No</td>\n",
       "      <td>Safedriving_discount</td>\n",
       "      <td>85</td>\n",
       "      <td>Female</td>\n",
       "      <td>Single</td>\n",
       "      <td>91100.6</td>\n",
       "      <td>75</td>\n",
       "      <td>N</td>\n",
       "      <td>No</td>\n",
       "    </tr>\n",
       "    <tr>\n",
       "      <td>2</td>\n",
       "      <td>CL_0002015</td>\n",
       "      <td>4</td>\n",
       "      <td>0</td>\n",
       "      <td>25719</td>\n",
       "      <td>0</td>\n",
       "      <td>CC</td>\n",
       "      <td>No</td>\n",
       "      <td>Standard</td>\n",
       "      <td>45</td>\n",
       "      <td>Male</td>\n",
       "      <td>Married</td>\n",
       "      <td>67085.4</td>\n",
       "      <td>50</td>\n",
       "      <td>N</td>\n",
       "      <td>No</td>\n",
       "    </tr>\n",
       "    <tr>\n",
       "      <td>3</td>\n",
       "      <td>CL_0002854</td>\n",
       "      <td>0</td>\n",
       "      <td>0</td>\n",
       "      <td>83</td>\n",
       "      <td>1</td>\n",
       "      <td>Auto</td>\n",
       "      <td>No</td>\n",
       "      <td>Standard</td>\n",
       "      <td>75</td>\n",
       "      <td>Male</td>\n",
       "      <td>Married</td>\n",
       "      <td>49561.0</td>\n",
       "      <td>35</td>\n",
       "      <td>N</td>\n",
       "      <td>No</td>\n",
       "    </tr>\n",
       "    <tr>\n",
       "      <td>4</td>\n",
       "      <td>CL_0002869</td>\n",
       "      <td>22</td>\n",
       "      <td>0</td>\n",
       "      <td>1264</td>\n",
       "      <td>0</td>\n",
       "      <td>CC</td>\n",
       "      <td>Yes</td>\n",
       "      <td>Standard</td>\n",
       "      <td>48</td>\n",
       "      <td>Female</td>\n",
       "      <td>Married</td>\n",
       "      <td>39598.7</td>\n",
       "      <td>35</td>\n",
       "      <td>N</td>\n",
       "      <td>No</td>\n",
       "    </tr>\n",
       "    <tr>\n",
       "      <td>5</td>\n",
       "      <td>CL_0003400</td>\n",
       "      <td>3</td>\n",
       "      <td>9903</td>\n",
       "      <td>7333</td>\n",
       "      <td>0</td>\n",
       "      <td>Auto</td>\n",
       "      <td>No</td>\n",
       "      <td>Safedriving_discount</td>\n",
       "      <td>41</td>\n",
       "      <td>Male</td>\n",
       "      <td>Single</td>\n",
       "      <td>48271.8</td>\n",
       "      <td>35</td>\n",
       "      <td>N</td>\n",
       "      <td>Yes</td>\n",
       "    </tr>\n",
       "    <tr>\n",
       "      <td>6</td>\n",
       "      <td>CL_0005084</td>\n",
       "      <td>14</td>\n",
       "      <td>0</td>\n",
       "      <td>1882</td>\n",
       "      <td>0</td>\n",
       "      <td>CC</td>\n",
       "      <td>No</td>\n",
       "      <td>Safedriving_discount</td>\n",
       "      <td>26</td>\n",
       "      <td>Female</td>\n",
       "      <td>Single</td>\n",
       "      <td>76074.1</td>\n",
       "      <td>75</td>\n",
       "      <td>Y</td>\n",
       "      <td>No</td>\n",
       "    </tr>\n",
       "    <tr>\n",
       "      <td>7</td>\n",
       "      <td>CL_0005346</td>\n",
       "      <td>12</td>\n",
       "      <td>15399</td>\n",
       "      <td>8864</td>\n",
       "      <td>0</td>\n",
       "      <td>Auto</td>\n",
       "      <td>No</td>\n",
       "      <td>Standard</td>\n",
       "      <td>73</td>\n",
       "      <td>Male</td>\n",
       "      <td>Married</td>\n",
       "      <td>61438.2</td>\n",
       "      <td>50</td>\n",
       "      <td>N</td>\n",
       "      <td>No</td>\n",
       "    </tr>\n",
       "  </tbody>\n",
       "</table>\n",
       "</div>"
      ],
      "text/plain": [
       "     CLAIM_ID  DAYS_TO_REPORT  BODILY_INJURY_AMOUNT  PROPERTY_DAMAGE  \\\n",
       "0  CL_0000765               8                     0             1957   \n",
       "1  CL_0000832              30                  2541             3843   \n",
       "2  CL_0002015               4                     0            25719   \n",
       "3  CL_0002854               0                     0               83   \n",
       "4  CL_0002869              22                     0             1264   \n",
       "5  CL_0003400               3                  9903             7333   \n",
       "6  CL_0005084              14                     0             1882   \n",
       "7  CL_0005346              12                 15399             8864   \n",
       "\n",
       "   PREVIOUS_CLAIMS PAYMENT_METHOD IS_REAR_END_COLLISION           PREM_AMOUNT  \\\n",
       "0                0             CC                    No  Safedriving_discount   \n",
       "1                0             CC                    No  Safedriving_discount   \n",
       "2                0             CC                    No              Standard   \n",
       "3                1           Auto                    No              Standard   \n",
       "4                0             CC                   Yes              Standard   \n",
       "5                0           Auto                    No  Safedriving_discount   \n",
       "6                0             CC                    No  Safedriving_discount   \n",
       "7                0           Auto                    No              Standard   \n",
       "\n",
       "   AGE  GENDER MARITAL_STATUS  INCOME_ESTIMATE  INCOME_CATEGORY POLICY_HOLDER  \\\n",
       "0   52    Male         Single          15906.0               15             Y   \n",
       "1   85  Female         Single          91100.6               75             N   \n",
       "2   45    Male        Married          67085.4               50             N   \n",
       "3   75    Male        Married          49561.0               35             N   \n",
       "4   48  Female        Married          39598.7               35             N   \n",
       "5   41    Male         Single          48271.8               35             N   \n",
       "6   26  Female         Single          76074.1               75             Y   \n",
       "7   73    Male        Married          61438.2               50             N   \n",
       "\n",
       "  IS_FRAUD  \n",
       "0       No  \n",
       "1       No  \n",
       "2       No  \n",
       "3       No  \n",
       "4       No  \n",
       "5      Yes  \n",
       "6       No  \n",
       "7       No  "
      ]
     },
     "execution_count": 14,
     "metadata": {},
     "output_type": "execute_result"
    }
   ],
   "source": [
    "training_data.head(8).collect()"
   ]
  },
  {
   "cell_type": "markdown",
   "metadata": {},
   "source": [
    "### Build a Classification model with APL Gradient Boosting"
   ]
  },
  {
   "cell_type": "code",
   "execution_count": 15,
   "metadata": {},
   "outputs": [],
   "source": [
    "# Create the model  \n",
    "from hana_ml.algorithms.apl.gradient_boosting_classification import GradientBoostingBinaryClassifier\n",
    "model = GradientBoostingBinaryClassifier(conn_context=conn)\n",
    "# Train the model\n",
    "model.fit(training_data, label='IS_FRAUD', key='CLAIM_ID')"
   ]
  },
  {
   "cell_type": "markdown",
   "metadata": {},
   "source": [
    "##### Model Summary"
   ]
  },
  {
   "cell_type": "code",
   "execution_count": 16,
   "metadata": {},
   "outputs": [
    {
     "data": {
      "text/html": [
       "<style  type=\"text/css\" >\n",
       "</style><table id=\"T_347c6340_31ef_11ea_be97_50eb71c448ec\" ><thead>    <tr>        <th class=\"col_heading level0 col0\" >Property</th>        <th class=\"col_heading level0 col1\" >Value</th>    </tr></thead><tbody>\n",
       "                <tr>\n",
       "                                <td id=\"T_347c6340_31ef_11ea_be97_50eb71c448ecrow0_col0\" class=\"data row0 col0\" >Variable Count</td>\n",
       "                        <td id=\"T_347c6340_31ef_11ea_be97_50eb71c448ecrow0_col1\" class=\"data row0 col1\" >15</td>\n",
       "            </tr>\n",
       "            <tr>\n",
       "                                <td id=\"T_347c6340_31ef_11ea_be97_50eb71c448ecrow1_col0\" class=\"data row1 col0\" >Selected Variable Count</td>\n",
       "                        <td id=\"T_347c6340_31ef_11ea_be97_50eb71c448ecrow1_col1\" class=\"data row1 col1\" >13</td>\n",
       "            </tr>\n",
       "            <tr>\n",
       "                                <td id=\"T_347c6340_31ef_11ea_be97_50eb71c448ecrow2_col0\" class=\"data row2 col0\" >Record Count</td>\n",
       "                        <td id=\"T_347c6340_31ef_11ea_be97_50eb71c448ecrow2_col1\" class=\"data row2 col1\" >2000</td>\n",
       "            </tr>\n",
       "            <tr>\n",
       "                                <td id=\"T_347c6340_31ef_11ea_be97_50eb71c448ecrow3_col0\" class=\"data row3 col0\" >Build Date</td>\n",
       "                        <td id=\"T_347c6340_31ef_11ea_be97_50eb71c448ecrow3_col1\" class=\"data row3 col1\" >2020-01-08 08:16:42</td>\n",
       "            </tr>\n",
       "    </tbody></table>"
      ],
      "text/plain": [
       "<pandas.io.formats.style.Styler at 0x14cc9645c08>"
      ]
     },
     "execution_count": 16,
     "metadata": {},
     "output_type": "execute_result"
    }
   ],
   "source": [
    "summary_df = model.get_summary().collect()\n",
    "df = summary_df[summary_df.KEY.isin(['ModelVariableCount', 'ModelSelectedVariableCount', 'ModelRecordCount',\n",
    "                                     'ModelBuildDate'])].copy()\n",
    "df['KEY'] = df['KEY'].str.replace('Model', '').str.replace('Selected', 'Selected ')\n",
    "df['KEY'] = df['KEY'].str.replace('Count', ' Count').str.replace('Date', ' Date')\n",
    "df = df[['KEY','VALUE']]\n",
    "df.columns = ['Property', 'Value']\n",
    "df.style.hide_index()"
   ]
  },
  {
   "cell_type": "markdown",
   "metadata": {},
   "source": [
    "##### Partitions"
   ]
  },
  {
   "cell_type": "code",
   "execution_count": 17,
   "metadata": {},
   "outputs": [
    {
     "data": {
      "text/html": [
       "<style  type=\"text/css\" >\n",
       "</style><table id=\"T_347e92ba_31ef_11ea_a236_50eb71c448ec\" ><thead>    <tr>        <th class=\"col_heading level0 col0\" >Partition</th>        <th class=\"col_heading level0 col1\" >Rows</th>        <th class=\"col_heading level0 col2\" >In %</th>    </tr></thead><tbody>\n",
       "                <tr>\n",
       "                                <td id=\"T_347e92ba_31ef_11ea_a236_50eb71c448ecrow0_col0\" class=\"data row0 col0\" >Estimation</td>\n",
       "                        <td id=\"T_347e92ba_31ef_11ea_a236_50eb71c448ecrow0_col1\" class=\"data row0 col1\" >1448</td>\n",
       "                        <td id=\"T_347e92ba_31ef_11ea_a236_50eb71c448ecrow0_col2\" class=\"data row0 col2\" >72.4%</td>\n",
       "            </tr>\n",
       "            <tr>\n",
       "                                <td id=\"T_347e92ba_31ef_11ea_a236_50eb71c448ecrow1_col0\" class=\"data row1 col0\" >Validation</td>\n",
       "                        <td id=\"T_347e92ba_31ef_11ea_a236_50eb71c448ecrow1_col1\" class=\"data row1 col1\" >552</td>\n",
       "                        <td id=\"T_347e92ba_31ef_11ea_a236_50eb71c448ecrow1_col2\" class=\"data row1 col2\" >27.6%</td>\n",
       "            </tr>\n",
       "    </tbody></table>"
      ],
      "text/plain": [
       "<pandas.io.formats.style.Styler at 0x14cc5775088>"
      ]
     },
     "execution_count": 17,
     "metadata": {},
     "output_type": "execute_result"
    }
   ],
   "source": [
    "df = summary_df[(summary_df.KEY.str.match('ModelRecord')) & (summary_df.KEY!='ModelRecordCount') \n",
    "                 & (summary_df.VALUE!='0')].copy()\n",
    "df['KEY'] = df['KEY'].str.replace('ModelRecord','').str.replace('Count','')\n",
    "df['VALUE'] = df['VALUE'].astype(float)\n",
    "df = df[['KEY','VALUE']]\n",
    "df['In %'] = df.VALUE / df.VALUE.sum()\n",
    "df.columns = ['Partition', 'Rows', 'In %']\n",
    "df.style.format({'In %': '{:,.1%}'.format}).hide_index()"
   ]
  },
  {
   "cell_type": "markdown",
   "metadata": {},
   "source": [
    "##### Target Frequency"
   ]
  },
  {
   "cell_type": "code",
   "execution_count": 18,
   "metadata": {},
   "outputs": [
    {
     "data": {
      "text/html": [
       "<style  type=\"text/css\" >\n",
       "</style><table id=\"T_34b1f3d8_31ef_11ea_b4d9_50eb71c448ec\" ><thead>    <tr>        <th class=\"col_heading level0 col0\" >Target</th>        <th class=\"col_heading level0 col1\" >Value</th>        <th class=\"col_heading level0 col2\" >Frequency</th>    </tr></thead><tbody>\n",
       "                <tr>\n",
       "                                <td id=\"T_34b1f3d8_31ef_11ea_b4d9_50eb71c448ecrow0_col0\" class=\"data row0 col0\" >IS_FRAUD</td>\n",
       "                        <td id=\"T_34b1f3d8_31ef_11ea_b4d9_50eb71c448ecrow0_col1\" class=\"data row0 col1\" >No</td>\n",
       "                        <td id=\"T_34b1f3d8_31ef_11ea_b4d9_50eb71c448ecrow0_col2\" class=\"data row0 col2\" >88.33%</td>\n",
       "            </tr>\n",
       "            <tr>\n",
       "                                <td id=\"T_34b1f3d8_31ef_11ea_b4d9_50eb71c448ecrow1_col0\" class=\"data row1 col0\" >IS_FRAUD</td>\n",
       "                        <td id=\"T_34b1f3d8_31ef_11ea_b4d9_50eb71c448ecrow1_col1\" class=\"data row1 col1\" >Yes</td>\n",
       "                        <td id=\"T_34b1f3d8_31ef_11ea_b4d9_50eb71c448ecrow1_col2\" class=\"data row1 col2\" >11.67%</td>\n",
       "            </tr>\n",
       "    </tbody></table>"
      ],
      "text/plain": [
       "<pandas.io.formats.style.Styler at 0x14cc5747708>"
      ]
     },
     "execution_count": 18,
     "metadata": {},
     "output_type": "execute_result"
    }
   ],
   "source": [
    "indicators_df = model.get_indicators().collect()\n",
    "df = indicators_df[(indicators_df.KEY=='CategoryFrequency') & (indicators_df.VARIABLE=='IS_FRAUD')].copy()\n",
    "df['VALUE'] = df['VALUE'].astype(float).round(4)\n",
    "df = df[['VARIABLE','DETAIL','VALUE']]\n",
    "df.columns = ['Target', 'Value', 'Frequency']\n",
    "df.style.format({'Frequency': '{:,.2%}'.format}).hide_index()"
   ]
  },
  {
   "cell_type": "markdown",
   "metadata": {},
   "source": [
    "##### Descriptive Statistics"
   ]
  },
  {
   "cell_type": "code",
   "execution_count": 19,
   "metadata": {},
   "outputs": [
    {
     "data": {
      "text/html": [
       "<div>\n",
       "<style scoped>\n",
       "    .dataframe tbody tr th:only-of-type {\n",
       "        vertical-align: middle;\n",
       "    }\n",
       "\n",
       "    .dataframe tbody tr th {\n",
       "        vertical-align: top;\n",
       "    }\n",
       "\n",
       "    .dataframe thead th {\n",
       "        text-align: right;\n",
       "    }\n",
       "</style>\n",
       "<table border=\"1\" class=\"dataframe\">\n",
       "  <thead>\n",
       "    <tr style=\"text-align: right;\">\n",
       "      <th>Statistic</th>\n",
       "      <th>Max</th>\n",
       "      <th>Mean</th>\n",
       "      <th>Min</th>\n",
       "      <th>StandardDeviation</th>\n",
       "    </tr>\n",
       "    <tr>\n",
       "      <th>Numeric Variable</th>\n",
       "      <th></th>\n",
       "      <th></th>\n",
       "      <th></th>\n",
       "      <th></th>\n",
       "    </tr>\n",
       "  </thead>\n",
       "  <tbody>\n",
       "    <tr>\n",
       "      <td>AGE</td>\n",
       "      <td>97.0</td>\n",
       "      <td>58.5318</td>\n",
       "      <td>18.000</td>\n",
       "      <td>22.5107</td>\n",
       "    </tr>\n",
       "    <tr>\n",
       "      <td>BODILY_INJURY_AMOUNT</td>\n",
       "      <td>29853.0</td>\n",
       "      <td>2268.8805</td>\n",
       "      <td>0.000</td>\n",
       "      <td>6303.6687</td>\n",
       "    </tr>\n",
       "    <tr>\n",
       "      <td>DAYS_TO_REPORT</td>\n",
       "      <td>30.0</td>\n",
       "      <td>13.5656</td>\n",
       "      <td>0.000</td>\n",
       "      <td>9.3085</td>\n",
       "    </tr>\n",
       "    <tr>\n",
       "      <td>INCOME_CATEGORY</td>\n",
       "      <td>75.0</td>\n",
       "      <td>NaN</td>\n",
       "      <td>14.000</td>\n",
       "      <td>NaN</td>\n",
       "    </tr>\n",
       "    <tr>\n",
       "      <td>INCOME_ESTIMATE</td>\n",
       "      <td>99619.9</td>\n",
       "      <td>49202.9862</td>\n",
       "      <td>110.284</td>\n",
       "      <td>28506.7089</td>\n",
       "    </tr>\n",
       "    <tr>\n",
       "      <td>PREVIOUS_CLAIMS</td>\n",
       "      <td>4.0</td>\n",
       "      <td>NaN</td>\n",
       "      <td>0.000</td>\n",
       "      <td>NaN</td>\n",
       "    </tr>\n",
       "    <tr>\n",
       "      <td>PROPERTY_DAMAGE</td>\n",
       "      <td>45062.0</td>\n",
       "      <td>5231.5573</td>\n",
       "      <td>28.000</td>\n",
       "      <td>5698.0787</td>\n",
       "    </tr>\n",
       "  </tbody>\n",
       "</table>\n",
       "</div>"
      ],
      "text/plain": [
       "Statistic                 Max        Mean      Min  StandardDeviation\n",
       "Numeric Variable                                                     \n",
       "AGE                      97.0     58.5318   18.000            22.5107\n",
       "BODILY_INJURY_AMOUNT  29853.0   2268.8805    0.000          6303.6687\n",
       "DAYS_TO_REPORT           30.0     13.5656    0.000             9.3085\n",
       "INCOME_CATEGORY          75.0         NaN   14.000                NaN\n",
       "INCOME_ESTIMATE       99619.9  49202.9862  110.284         28506.7089\n",
       "PREVIOUS_CLAIMS           4.0         NaN    0.000                NaN\n",
       "PROPERTY_DAMAGE       45062.0   5231.5573   28.000          5698.0787"
      ]
     },
     "execution_count": 19,
     "metadata": {},
     "output_type": "execute_result"
    }
   ],
   "source": [
    "df = indicators_df[indicators_df.KEY.isin(['Min', 'Max', 'Mean', 'StandardDeviation'])].copy()\n",
    "df['VALUE'] = df['VALUE'].astype(float).round(4)\n",
    "df = df[['VARIABLE','KEY','VALUE']]\n",
    "df.columns = ['Numeric Variable', 'Statistic','Value']\n",
    "df.pivot(index='Numeric Variable',columns='Statistic',values='Value') "
   ]
  },
  {
   "cell_type": "markdown",
   "metadata": {},
   "source": [
    "##### Model Performance"
   ]
  },
  {
   "cell_type": "code",
   "execution_count": 20,
   "metadata": {},
   "outputs": [
    {
     "data": {
      "text/html": [
       "<style  type=\"text/css\" >\n",
       "</style><table id=\"T_34e7a2dc_31ef_11ea_b663_50eb71c448ec\" ><thead>    <tr>        <th class=\"col_heading level0 col0\" >Metric</th>        <th class=\"col_heading level0 col1\" >Value</th>    </tr></thead><tbody>\n",
       "                <tr>\n",
       "                                <td id=\"T_34e7a2dc_31ef_11ea_b663_50eb71c448ecrow0_col0\" class=\"data row0 col0\" >AUC</td>\n",
       "                        <td id=\"T_34e7a2dc_31ef_11ea_b663_50eb71c448ecrow0_col1\" class=\"data row0 col1\" >0.9566</td>\n",
       "            </tr>\n",
       "            <tr>\n",
       "                                <td id=\"T_34e7a2dc_31ef_11ea_b663_50eb71c448ecrow1_col0\" class=\"data row1 col0\" >BestIteration</td>\n",
       "                        <td id=\"T_34e7a2dc_31ef_11ea_b663_50eb71c448ecrow1_col1\" class=\"data row1 col1\" >73</td>\n",
       "            </tr>\n",
       "    </tbody></table>"
      ],
      "text/plain": [
       "<pandas.io.formats.style.Styler at 0x14cc5747048>"
      ]
     },
     "execution_count": 20,
     "metadata": {},
     "output_type": "execute_result"
    }
   ],
   "source": [
    "import pandas as pd\n",
    "d = model.get_performance_metrics()\n",
    "df = pd.DataFrame(list(d.items()), columns=[\"Metric\", \"Value\"])\n",
    "df = df.loc[df['Metric'].isin(['AUC','BestIteration'])]\n",
    "df.style.hide_index()"
   ]
  },
  {
   "cell_type": "markdown",
   "metadata": {},
   "source": [
    "##### Variables Importance"
   ]
  },
  {
   "cell_type": "code",
   "execution_count": 21,
   "metadata": {},
   "outputs": [
    {
     "data": {
      "application/vnd.holoviews_exec.v0+json": "",
      "text/html": [
       "<div id='1306' style='display: table; margin: 0 auto;'>\n",
       "\n",
       "\n",
       "\n",
       "\n",
       "\n",
       "  <div class=\"bk-root\" id=\"40c308af-2d49-41fc-a562-ac2c09503e97\" data-root-id=\"1306\"></div>\n",
       "</div>\n",
       "<script type=\"application/javascript\">(function(root) {\n",
       "  function embed_document(root) {\n",
       "    \n",
       "  var docs_json = {\"04783159-da6f-4994-a69c-8512ef781f95\":{\"roots\":{\"references\":[{\"attributes\":{\"children\":[{\"id\":\"1305\",\"type\":\"ToolbarBox\"},{\"id\":\"1303\",\"type\":\"GridBox\"}]},\"id\":\"1306\",\"type\":\"Column\"},{\"attributes\":{},\"id\":\"1253\",\"type\":\"ResetTool\"},{\"attributes\":{},\"id\":\"1286\",\"type\":\"NumberEditor\"},{\"attributes\":{\"editor\":{\"id\":\"1286\",\"type\":\"NumberEditor\"},\"field\":\"Cumulative\",\"formatter\":{\"id\":\"1285\",\"type\":\"NumberFormatter\"},\"title\":\"Cumulative\"},\"id\":\"1287\",\"type\":\"TableColumn\"},{\"attributes\":{},\"id\":\"1241\",\"type\":\"BasicTicker\"},{\"attributes\":{\"bottom_units\":\"screen\",\"fill_alpha\":{\"value\":0.5},\"fill_color\":{\"value\":\"lightgrey\"},\"left_units\":\"screen\",\"level\":\"overlay\",\"line_alpha\":{\"value\":1.0},\"line_color\":{\"value\":\"black\"},\"line_dash\":[4,4],\"line_width\":{\"value\":2},\"render_mode\":\"css\",\"right_units\":\"screen\",\"top_units\":\"screen\"},\"id\":\"1299\",\"type\":\"BoxAnnotation\"},{\"attributes\":{\"grid_line_color\":null,\"ticker\":{\"id\":\"1241\",\"type\":\"BasicTicker\"}},\"id\":\"1244\",\"type\":\"Grid\"},{\"attributes\":{\"callback\":null,\"end\":36.449999999999996,\"reset_end\":36.449999999999996,\"reset_start\":0.0,\"tags\":[[[\"Contribution\",\"Contribution\",null]]]},\"id\":\"1228\",\"type\":\"Range1d\"},{\"attributes\":{\"axis_label\":\"Contribution\",\"bounds\":\"auto\",\"formatter\":{\"id\":\"1269\",\"type\":\"BasicTickFormatter\"},\"major_label_orientation\":\"horizontal\",\"ticker\":{\"id\":\"1241\",\"type\":\"BasicTicker\"}},\"id\":\"1240\",\"type\":\"LinearAxis\"},{\"attributes\":{\"axis_label\":\"Variable\",\"bounds\":\"auto\",\"formatter\":{\"id\":\"1272\",\"type\":\"CategoricalTickFormatter\"},\"major_label_orientation\":\"horizontal\",\"ticker\":{\"id\":\"1246\",\"type\":\"CategoricalTicker\"}},\"id\":\"1245\",\"type\":\"CategoricalAxis\"},{\"attributes\":{\"active_drag\":\"auto\",\"active_inspect\":\"auto\",\"active_multi\":null,\"active_scroll\":\"auto\",\"active_tap\":\"auto\",\"tools\":[{\"id\":\"1230\",\"type\":\"HoverTool\"},{\"id\":\"1249\",\"type\":\"SaveTool\"},{\"id\":\"1250\",\"type\":\"PanTool\"},{\"id\":\"1251\",\"type\":\"WheelZoomTool\"},{\"id\":\"1252\",\"type\":\"BoxZoomTool\"},{\"id\":\"1253\",\"type\":\"ResetTool\"}]},\"id\":\"1254\",\"type\":\"Toolbar\"},{\"attributes\":{\"callback\":null,\"renderers\":[{\"id\":\"1267\",\"type\":\"GlyphRenderer\"}],\"tags\":[\"hv_created\"],\"tooltips\":[[\"Variable\",\"@{Variable}\"],[\"Contribution\",\"@{Contribution}\"]]},\"id\":\"1230\",\"type\":\"HoverTool\"},{\"attributes\":{},\"id\":\"1297\",\"type\":\"UnionRenderers\"},{\"attributes\":{},\"id\":\"1246\",\"type\":\"CategoricalTicker\"},{\"attributes\":{},\"id\":\"1301\",\"type\":\"UnionRenderers\"},{\"attributes\":{\"children\":[[{\"id\":\"1231\",\"subtype\":\"Figure\",\"type\":\"Plot\"},0,0],[{\"id\":\"1290\",\"type\":\"DataTable\"},0,1]]},\"id\":\"1303\",\"type\":\"GridBox\"},{\"attributes\":{},\"id\":\"1272\",\"type\":\"CategoricalTickFormatter\"},{\"attributes\":{\"toolbar\":{\"id\":\"1304\",\"type\":\"ProxyToolbar\"},\"toolbar_location\":\"above\"},\"id\":\"1305\",\"type\":\"ToolbarBox\"},{\"attributes\":{\"dimension\":1,\"grid_line_color\":null,\"ticker\":{\"id\":\"1246\",\"type\":\"CategoricalTicker\"}},\"id\":\"1248\",\"type\":\"Grid\"},{\"attributes\":{},\"id\":\"1274\",\"type\":\"Selection\"},{\"attributes\":{\"data_source\":{\"id\":\"1261\",\"type\":\"ColumnDataSource\"},\"glyph\":{\"id\":\"1264\",\"type\":\"HBar\"},\"hover_glyph\":null,\"muted_glyph\":{\"id\":\"1266\",\"type\":\"HBar\"},\"nonselection_glyph\":{\"id\":\"1265\",\"type\":\"HBar\"},\"selection_glyph\":null,\"view\":{\"id\":\"1268\",\"type\":\"CDSView\"}},\"id\":\"1267\",\"type\":\"GlyphRenderer\"},{\"attributes\":{\"fill_color\":{\"value\":\"#1f77b4\"},\"height\":{\"value\":0.8},\"right\":{\"field\":\"Contribution\"},\"y\":{\"field\":\"Variable\"}},\"id\":\"1264\",\"type\":\"HBar\"},{\"attributes\":{\"tools\":[{\"id\":\"1230\",\"type\":\"HoverTool\"},{\"id\":\"1249\",\"type\":\"SaveTool\"},{\"id\":\"1250\",\"type\":\"PanTool\"},{\"id\":\"1251\",\"type\":\"WheelZoomTool\"},{\"id\":\"1252\",\"type\":\"BoxZoomTool\"},{\"id\":\"1253\",\"type\":\"ResetTool\"}]},\"id\":\"1304\",\"type\":\"ProxyToolbar\"},{\"attributes\":{\"columns\":[{\"id\":\"1277\",\"type\":\"TableColumn\"},{\"id\":\"1282\",\"type\":\"TableColumn\"},{\"id\":\"1287\",\"type\":\"TableColumn\"}],\"height\":350,\"reorderable\":false,\"source\":{\"id\":\"1273\",\"type\":\"ColumnDataSource\"},\"view\":{\"id\":\"1291\",\"type\":\"CDSView\"},\"width\":350},\"id\":\"1290\",\"type\":\"DataTable\"},{\"attributes\":{},\"id\":\"1275\",\"type\":\"StringFormatter\"},{\"attributes\":{\"callback\":null,\"data\":{\"Contribution\":{\"__ndarray__\":\"zczMzMzM5D+5HoXrUbjmP8zMzMzMzOw/Z2ZmZmZm9j+PwvUoXI/2P9ijcD0K1/8/exSuR+F6F0ApXI/C9SgaQFK4HoXr0SpA4XoUrkfhK0C4HoXrUbgwQJmZmZmZOUJA\",\"dtype\":\"float64\",\"shape\":[12]},\"Variable\":[\"MARITAL_STATUS\",\"PREM_AMOUNT\",\"POLICY_HOLDER\",\"IS_REAR_END_COLLISION\",\"PREVIOUS_CLAIMS\",\"PAYMENT_METHOD\",\"PROPERTY_DAMAGE\",\"DAYS_TO_REPORT\",\"INCOME_ESTIMATE\",\"AGE\",\"GENDER\",\"BODILY_INJURY_AMOUNT\"]},\"selected\":{\"id\":\"1262\",\"type\":\"Selection\"},\"selection_policy\":{\"id\":\"1297\",\"type\":\"UnionRenderers\"}},\"id\":\"1261\",\"type\":\"ColumnDataSource\"},{\"attributes\":{\"callback\":null,\"factors\":[\"MARITAL_STATUS\",\"PREM_AMOUNT\",\"POLICY_HOLDER\",\"IS_REAR_END_COLLISION\",\"PREVIOUS_CLAIMS\",\"PAYMENT_METHOD\",\"PROPERTY_DAMAGE\",\"DAYS_TO_REPORT\",\"INCOME_ESTIMATE\",\"AGE\",\"GENDER\",\"BODILY_INJURY_AMOUNT\"],\"tags\":[[[\"Variable\",\"Variable\",null]]]},\"id\":\"1229\",\"type\":\"FactorRange\"},{\"attributes\":{\"fill_alpha\":{\"value\":0.1},\"fill_color\":{\"value\":\"#1f77b4\"},\"height\":{\"value\":0.8},\"line_alpha\":{\"value\":0.1},\"line_color\":{\"value\":\"black\"},\"right\":{\"field\":\"Contribution\"},\"y\":{\"field\":\"Variable\"}},\"id\":\"1265\",\"type\":\"HBar\"},{\"attributes\":{},\"id\":\"1276\",\"type\":\"StringEditor\"},{\"attributes\":{\"source\":{\"id\":\"1273\",\"type\":\"ColumnDataSource\"}},\"id\":\"1291\",\"type\":\"CDSView\"},{\"attributes\":{\"fill_alpha\":{\"value\":0.2},\"fill_color\":{\"value\":\"#1f77b4\"},\"height\":{\"value\":0.8},\"line_alpha\":{\"value\":0.2},\"line_color\":{\"value\":\"black\"},\"right\":{\"field\":\"Contribution\"},\"y\":{\"field\":\"Variable\"}},\"id\":\"1266\",\"type\":\"HBar\"},{\"attributes\":{},\"id\":\"1262\",\"type\":\"Selection\"},{\"attributes\":{},\"id\":\"1249\",\"type\":\"SaveTool\"},{\"attributes\":{\"below\":[{\"id\":\"1240\",\"type\":\"LinearAxis\"}],\"center\":[{\"id\":\"1244\",\"type\":\"Grid\"},{\"id\":\"1248\",\"type\":\"Grid\"}],\"left\":[{\"id\":\"1245\",\"type\":\"CategoricalAxis\"}],\"margin\":null,\"min_border_bottom\":10,\"min_border_left\":10,\"min_border_right\":10,\"min_border_top\":10,\"plot_height\":300,\"plot_width\":550,\"renderers\":[{\"id\":\"1267\",\"type\":\"GlyphRenderer\"}],\"sizing_mode\":\"fixed\",\"title\":{\"id\":\"1232\",\"type\":\"Title\"},\"toolbar\":{\"id\":\"1254\",\"type\":\"Toolbar\"},\"toolbar_location\":null,\"x_range\":{\"id\":\"1228\",\"type\":\"Range1d\"},\"x_scale\":{\"id\":\"1236\",\"type\":\"LinearScale\"},\"y_range\":{\"id\":\"1229\",\"type\":\"FactorRange\"},\"y_scale\":{\"id\":\"1238\",\"type\":\"CategoricalScale\"}},\"id\":\"1231\",\"subtype\":\"Figure\",\"type\":\"Plot\"},{\"attributes\":{\"editor\":{\"id\":\"1276\",\"type\":\"StringEditor\"},\"field\":\"Variable\",\"formatter\":{\"id\":\"1275\",\"type\":\"StringFormatter\"},\"title\":\"Variable\"},\"id\":\"1277\",\"type\":\"TableColumn\"},{\"attributes\":{\"text\":\"\",\"text_color\":{\"value\":\"black\"},\"text_font_size\":{\"value\":\"12pt\"}},\"id\":\"1232\",\"type\":\"Title\"},{\"attributes\":{\"source\":{\"id\":\"1261\",\"type\":\"ColumnDataSource\"}},\"id\":\"1268\",\"type\":\"CDSView\"},{\"attributes\":{},\"id\":\"1269\",\"type\":\"BasicTickFormatter\"},{\"attributes\":{\"format\":\"0,0.0[00000]\"},\"id\":\"1280\",\"type\":\"NumberFormatter\"},{\"attributes\":{},\"id\":\"1250\",\"type\":\"PanTool\"},{\"attributes\":{\"callback\":null,\"data\":{\"Contribution\":{\"__ndarray__\":\"mZmZmZk5QkC4HoXrUbgwQOF6FK5H4StAUrgehevRKkApXI/C9SgaQHsUrkfhehdA2KNwPQrX/z+PwvUoXI/2P2dmZmZmZvY/zMzMzMzM7D+5HoXrUbjmP83MzMzMzOQ/\",\"dtype\":\"float64\",\"shape\":[12]},\"Cumulative\":{\"__ndarray__\":\"mZmZmZk5QkAUrkfhepRKQNejcD0Kx1BA4XoUrkchVECkcD0K18NVQFyPwvUoPFdA7FG4HoW7V0CF61G4HhVYQJDC9Shcb1hAKVyPwvWoWEBnZmZmZtZYQAAAAAAAAFlA\",\"dtype\":\"float64\",\"shape\":[12]},\"Variable\":[\"BODILY_INJURY_AMOUNT\",\"GENDER\",\"AGE\",\"INCOME_ESTIMATE\",\"DAYS_TO_REPORT\",\"PROPERTY_DAMAGE\",\"PAYMENT_METHOD\",\"PREVIOUS_CLAIMS\",\"IS_REAR_END_COLLISION\",\"POLICY_HOLDER\",\"PREM_AMOUNT\",\"MARITAL_STATUS\"]},\"selected\":{\"id\":\"1274\",\"type\":\"Selection\"},\"selection_policy\":{\"id\":\"1301\",\"type\":\"UnionRenderers\"}},\"id\":\"1273\",\"type\":\"ColumnDataSource\"},{\"attributes\":{},\"id\":\"1281\",\"type\":\"NumberEditor\"},{\"attributes\":{},\"id\":\"1236\",\"type\":\"LinearScale\"},{\"attributes\":{\"editor\":{\"id\":\"1281\",\"type\":\"NumberEditor\"},\"field\":\"Contribution\",\"formatter\":{\"id\":\"1280\",\"type\":\"NumberFormatter\"},\"title\":\"Contribution\"},\"id\":\"1282\",\"type\":\"TableColumn\"},{\"attributes\":{},\"id\":\"1251\",\"type\":\"WheelZoomTool\"},{\"attributes\":{},\"id\":\"1238\",\"type\":\"CategoricalScale\"},{\"attributes\":{\"format\":\"0,0.0[00000]\"},\"id\":\"1285\",\"type\":\"NumberFormatter\"},{\"attributes\":{\"overlay\":{\"id\":\"1299\",\"type\":\"BoxAnnotation\"}},\"id\":\"1252\",\"type\":\"BoxZoomTool\"}],\"root_ids\":[\"1306\"]},\"title\":\"Bokeh Application\",\"version\":\"1.3.4\"}};\n",
       "  var render_items = [{\"docid\":\"04783159-da6f-4994-a69c-8512ef781f95\",\"roots\":{\"1306\":\"40c308af-2d49-41fc-a562-ac2c09503e97\"}}];\n",
       "  root.Bokeh.embed.embed_items_notebook(docs_json, render_items);\n",
       "\n",
       "  }\n",
       "  if (root.Bokeh !== undefined) {\n",
       "    embed_document(root);\n",
       "  } else {\n",
       "    var attempts = 0;\n",
       "    var timer = setInterval(function(root) {\n",
       "      if (root.Bokeh !== undefined) {\n",
       "        embed_document(root);\n",
       "        clearInterval(timer);\n",
       "      }\n",
       "      attempts++;\n",
       "      if (attempts > 100) {\n",
       "        console.log(\"Bokeh: ERROR: Unable to run BokehJS code because BokehJS library is missing\");\n",
       "        clearInterval(timer);\n",
       "      }\n",
       "    }, 10, root)\n",
       "  }\n",
       "})(window);</script>"
      ],
      "text/plain": [
       ":Layout\n",
       "   .Bars.I  :Bars   [Variable]   (Contribution)\n",
       "   .Table.I :Table   [Variable,Contribution,Cumulative]"
      ]
     },
     "execution_count": 21,
     "metadata": {
      "application/vnd.holoviews_exec.v0+json": {
       "id": "1306"
      }
     },
     "output_type": "execute_result"
    }
   ],
   "source": [
    "d = model.get_feature_importances()['ExactSHAP']\n",
    "df = pd.DataFrame(list(d.items()), columns=[\"Variable\", \"Contribution\"])\n",
    "df['Contribution'] = df['Contribution'].astype(float)\n",
    "df['Cumulative'] = df['Contribution'].cumsum()\n",
    "df['Contribution'] = df['Contribution'].round(4)*100\n",
    "df['Cumulative'] = df['Cumulative'].round(4)*100\n",
    "non_zero = df['Contribution'] != 0\n",
    "dfa = df[non_zero].sort_values(by=['Contribution'], ascending=True)\n",
    "dfd = df[non_zero].sort_values(by=['Contribution'], ascending=False)\n",
    "import hvplot.pandas\n",
    "dfa.hvplot.bar('Variable', 'Contribution', width=550, invert=True) +\\\n",
    "dfd.hvplot.table(list(df.columns), width=350, height=350, sortable=True)"
   ]
  },
  {
   "cell_type": "markdown",
   "metadata": {},
   "source": [
    "## Make Predictions on New Claims"
   ]
  },
  {
   "cell_type": "code",
   "execution_count": 22,
   "metadata": {},
   "outputs": [
    {
     "data": {
      "text/html": [
       "<style  type=\"text/css\" >\n",
       "</style><table id=\"T_3635d480_31ef_11ea_8fc3_50eb71c448ec\" ><thead>    <tr>        <th class=\"col_heading level0 col0\" >Claim Id</th>        <th class=\"col_heading level0 col1\" >Actual</th>        <th class=\"col_heading level0 col2\" >Prediction</th>        <th class=\"col_heading level0 col3\" >Probability</th>    </tr></thead><tbody>\n",
       "                <tr>\n",
       "                                <td id=\"T_3635d480_31ef_11ea_8fc3_50eb71c448ecrow0_col0\" class=\"data row0 col0\" >CL_0959524</td>\n",
       "                        <td id=\"T_3635d480_31ef_11ea_8fc3_50eb71c448ecrow0_col1\" class=\"data row0 col1\" >None</td>\n",
       "                        <td id=\"T_3635d480_31ef_11ea_8fc3_50eb71c448ecrow0_col2\" class=\"data row0 col2\" >No</td>\n",
       "                        <td id=\"T_3635d480_31ef_11ea_8fc3_50eb71c448ecrow0_col3\" class=\"data row0 col3\" >77.82%</td>\n",
       "            </tr>\n",
       "            <tr>\n",
       "                                <td id=\"T_3635d480_31ef_11ea_8fc3_50eb71c448ecrow1_col0\" class=\"data row1 col0\" >CL_0959946</td>\n",
       "                        <td id=\"T_3635d480_31ef_11ea_8fc3_50eb71c448ecrow1_col1\" class=\"data row1 col1\" >None</td>\n",
       "                        <td id=\"T_3635d480_31ef_11ea_8fc3_50eb71c448ecrow1_col2\" class=\"data row1 col2\" >No</td>\n",
       "                        <td id=\"T_3635d480_31ef_11ea_8fc3_50eb71c448ecrow1_col3\" class=\"data row1 col3\" >97.99%</td>\n",
       "            </tr>\n",
       "            <tr>\n",
       "                                <td id=\"T_3635d480_31ef_11ea_8fc3_50eb71c448ecrow2_col0\" class=\"data row2 col0\" >CL_0960121</td>\n",
       "                        <td id=\"T_3635d480_31ef_11ea_8fc3_50eb71c448ecrow2_col1\" class=\"data row2 col1\" >None</td>\n",
       "                        <td id=\"T_3635d480_31ef_11ea_8fc3_50eb71c448ecrow2_col2\" class=\"data row2 col2\" >No</td>\n",
       "                        <td id=\"T_3635d480_31ef_11ea_8fc3_50eb71c448ecrow2_col3\" class=\"data row2 col3\" >81.14%</td>\n",
       "            </tr>\n",
       "            <tr>\n",
       "                                <td id=\"T_3635d480_31ef_11ea_8fc3_50eb71c448ecrow3_col0\" class=\"data row3 col0\" >CL_0960195</td>\n",
       "                        <td id=\"T_3635d480_31ef_11ea_8fc3_50eb71c448ecrow3_col1\" class=\"data row3 col1\" >None</td>\n",
       "                        <td id=\"T_3635d480_31ef_11ea_8fc3_50eb71c448ecrow3_col2\" class=\"data row3 col2\" >No</td>\n",
       "                        <td id=\"T_3635d480_31ef_11ea_8fc3_50eb71c448ecrow3_col3\" class=\"data row3 col3\" >67.95%</td>\n",
       "            </tr>\n",
       "            <tr>\n",
       "                                <td id=\"T_3635d480_31ef_11ea_8fc3_50eb71c448ecrow4_col0\" class=\"data row4 col0\" >CL_0960294</td>\n",
       "                        <td id=\"T_3635d480_31ef_11ea_8fc3_50eb71c448ecrow4_col1\" class=\"data row4 col1\" >None</td>\n",
       "                        <td id=\"T_3635d480_31ef_11ea_8fc3_50eb71c448ecrow4_col2\" class=\"data row4 col2\" >Yes</td>\n",
       "                        <td id=\"T_3635d480_31ef_11ea_8fc3_50eb71c448ecrow4_col3\" class=\"data row4 col3\" >51.30%</td>\n",
       "            </tr>\n",
       "            <tr>\n",
       "                                <td id=\"T_3635d480_31ef_11ea_8fc3_50eb71c448ecrow5_col0\" class=\"data row5 col0\" >CL_0960379</td>\n",
       "                        <td id=\"T_3635d480_31ef_11ea_8fc3_50eb71c448ecrow5_col1\" class=\"data row5 col1\" >None</td>\n",
       "                        <td id=\"T_3635d480_31ef_11ea_8fc3_50eb71c448ecrow5_col2\" class=\"data row5 col2\" >Yes</td>\n",
       "                        <td id=\"T_3635d480_31ef_11ea_8fc3_50eb71c448ecrow5_col3\" class=\"data row5 col3\" >73.25%</td>\n",
       "            </tr>\n",
       "            <tr>\n",
       "                                <td id=\"T_3635d480_31ef_11ea_8fc3_50eb71c448ecrow6_col0\" class=\"data row6 col0\" >CL_0960411</td>\n",
       "                        <td id=\"T_3635d480_31ef_11ea_8fc3_50eb71c448ecrow6_col1\" class=\"data row6 col1\" >None</td>\n",
       "                        <td id=\"T_3635d480_31ef_11ea_8fc3_50eb71c448ecrow6_col2\" class=\"data row6 col2\" >No</td>\n",
       "                        <td id=\"T_3635d480_31ef_11ea_8fc3_50eb71c448ecrow6_col3\" class=\"data row6 col3\" >94.98%</td>\n",
       "            </tr>\n",
       "            <tr>\n",
       "                                <td id=\"T_3635d480_31ef_11ea_8fc3_50eb71c448ecrow7_col0\" class=\"data row7 col0\" >CL_0960946</td>\n",
       "                        <td id=\"T_3635d480_31ef_11ea_8fc3_50eb71c448ecrow7_col1\" class=\"data row7 col1\" >None</td>\n",
       "                        <td id=\"T_3635d480_31ef_11ea_8fc3_50eb71c448ecrow7_col2\" class=\"data row7 col2\" >No</td>\n",
       "                        <td id=\"T_3635d480_31ef_11ea_8fc3_50eb71c448ecrow7_col3\" class=\"data row7 col3\" >86.94%</td>\n",
       "            </tr>\n",
       "    </tbody></table>"
      ],
      "text/plain": [
       "<pandas.io.formats.style.Styler at 0x14cc573b188>"
      ]
     },
     "execution_count": 22,
     "metadata": {},
     "output_type": "execute_result"
    }
   ],
   "source": [
    "# Get New Claims\n",
    "new_data = conn.table('AUTO_CLAIMS_NEW', schema='APL_SAMPLES')\n",
    "# Apply the trained model\n",
    "df = model.predict(new_data).collect()\n",
    "df.columns = ['Claim Id', 'Actual', 'Prediction', 'Probability']\n",
    "df.head(8).style.format({'Probability': '{:,.2%}'.format}).hide_index()"
   ]
  },
  {
   "cell_type": "code",
   "execution_count": null,
   "metadata": {},
   "outputs": [],
   "source": []
  }
 ],
 "metadata": {
  "kernelspec": {
   "display_name": "Python 3",
   "language": "python",
   "name": "python3"
  },
  "language_info": {
   "codemirror_mode": {
    "name": "ipython",
    "version": 3
   },
   "file_extension": ".py",
   "mimetype": "text/x-python",
   "name": "python",
   "nbconvert_exporter": "python",
   "pygments_lexer": "ipython3",
   "version": "3.7.4"
  }
 },
 "nbformat": 4,
 "nbformat_minor": 4
}
